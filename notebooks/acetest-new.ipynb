{
 "cells": [
  {
   "cell_type": "markdown",
   "id": "proud-campbell",
   "metadata": {},
   "source": [
    "## TEST NEW"
   ]
  },
  {
   "cell_type": "code",
   "execution_count": 1,
   "id": "precise-contact",
   "metadata": {},
   "outputs": [],
   "source": [
    "# lazy import\n",
    "import sys\n",
    "sys.path.append(\"/Users/rachelcohen/hogtie/hogtie\")"
   ]
  },
  {
   "cell_type": "code",
   "execution_count": 2,
   "id": "wound-leisure",
   "metadata": {},
   "outputs": [],
   "source": [
    "import hogtie\n",
    "hogtie.set_loglevel(\"INFO\")"
   ]
  },
  {
   "cell_type": "code",
   "execution_count": 3,
   "id": "reasonable-setup",
   "metadata": {},
   "outputs": [],
   "source": [
    "import subprocess\n",
    "import toytree\n",
    "import numpy as np"
   ]
  },
  {
   "cell_type": "markdown",
   "id": "specific-canada",
   "metadata": {},
   "source": [
    "### test data"
   ]
  },
  {
   "cell_type": "code",
   "execution_count": 4,
   "id": "extended-supervision",
   "metadata": {},
   "outputs": [
    {
     "data": {
      "text/plain": [
       "(<toyplot.canvas.Canvas at 0x7fd74240cb20>,\n",
       " <toyplot.coordinates.Cartesian at 0x7fd74240cbe0>,\n",
       " <toytree.Render.ToytreeMark at 0x7fd742417a00>)"
      ]
     },
     "execution_count": 4,
     "metadata": {},
     "output_type": "execute_result"
    },
    {
     "data": {
      "text/html": [
       "<div class=\"toyplot\" id=\"tbf4dbdd8405e4d0aa7ee7a0f07ce7f98\" style=\"text-align:center\"><svg class=\"toyplot-canvas-Canvas\" xmlns:toyplot=\"http://www.sandia.gov/toyplot\" xmlns:xlink=\"http://www.w3.org/1999/xlink\" xmlns=\"http://www.w3.org/2000/svg\" width=\"260.0px\" height=\"275.0px\" viewBox=\"0 0 260.0 275.0\" preserveAspectRatio=\"xMidYMid meet\" style=\"background-color:transparent;border-color:#292724;border-style:none;border-width:1.0;fill:rgb(16.1%,15.3%,14.1%);fill-opacity:1.0;font-family:Helvetica;font-size:12px;opacity:1.0;stroke:rgb(16.1%,15.3%,14.1%);stroke-opacity:1.0;stroke-width:1.0\" id=\"te967f7d451414d5cb3a8de938e17f69a\"><g class=\"toyplot-coordinates-Cartesian\" id=\"td69a785321494478adfda55034d585b5\"><clipPath id=\"t917298c055734ad79be80f7214d15f4f\"><rect x=\"30.0\" y=\"30.0\" width=\"200.0\" height=\"215.0\"></rect></clipPath><g clip-path=\"url(#t917298c055734ad79be80f7214d15f4f)\"><g class=\"toytree-mark-Toytree\" id=\"te08115d05e8d44fab722848b19bdaaa5\"><g class=\"toytree-Edges\" style=\"fill:none;stroke:rgb(14.9%,14.9%,14.9%);stroke-linecap:round;stroke-opacity:1;stroke-width:2\"><path d=\"M 51.8 131.1 L 51.8 88.6 L 87.2 88.6\" id=\"18,17\"></path><path d=\"M 51.8 131.1 L 51.8 173.6 L 87.2 173.6\" id=\"18,16\"></path><path d=\"M 87.2 88.6 L 87.2 69.5 L 122.6 69.5\" id=\"17,15\"></path><path d=\"M 87.2 88.6 L 87.2 107.8 L 122.6 107.8\" id=\"17,14\"></path><path d=\"M 87.2 173.6 L 87.2 154.5 L 122.6 154.5\" id=\"16,13\"></path><path d=\"M 87.2 173.6 L 87.2 192.7 L 122.6 192.7\" id=\"16,12\"></path><path d=\"M 122.6 107.8 L 122.6 120.5 L 158.0 120.5\" id=\"14,11\"></path><path d=\"M 122.6 192.7 L 122.6 205.5 L 158.0 205.5\" id=\"12,10\"></path><path d=\"M 122.6 69.5 L 122.6 61.0 L 193.5 61.0\" id=\"15,9\"></path><path d=\"M 122.6 69.5 L 122.6 78.0 L 193.5 78.0\" id=\"15,8\"></path><path d=\"M 122.6 107.8 L 122.6 95.0 L 193.5 95.0\" id=\"14,7\"></path><path d=\"M 158.0 120.5 L 158.0 112.0 L 193.5 112.0\" id=\"11,6\"></path><path d=\"M 158.0 120.5 L 158.0 129.0 L 193.5 129.0\" id=\"11,5\"></path><path d=\"M 122.6 154.5 L 122.6 146.0 L 193.5 146.0\" id=\"13,4\"></path><path d=\"M 122.6 154.5 L 122.6 163.0 L 193.5 163.0\" id=\"13,3\"></path><path d=\"M 122.6 192.7 L 122.6 180.0 L 193.5 180.0\" id=\"12,2\"></path><path d=\"M 158.0 205.5 L 158.0 197.0 L 193.5 197.0\" id=\"10,1\"></path><path d=\"M 158.0 205.5 L 158.0 214.0 L 193.5 214.0\" id=\"10,0\"></path></g><g class=\"toytree-TipLabels\" style=\"fill:rgb(14.9%,14.9%,14.9%);fill-opacity:1.0;font-family:helvetica;font-size:11px;font-weight:normal;stroke:none;white-space:pre\"><g transform=\"translate(193.47,213.99)rotate(0)\"><text x=\"15.00\" y=\"2.81\" style=\"\">r0</text></g><g transform=\"translate(193.47,196.99)rotate(0)\"><text x=\"15.00\" y=\"2.81\" style=\"\">r1</text></g><g transform=\"translate(193.47,179.99)rotate(0)\"><text x=\"15.00\" y=\"2.81\" style=\"\">r2</text></g><g transform=\"translate(193.47,163.00)rotate(0)\"><text x=\"15.00\" y=\"2.81\" style=\"\">r3</text></g><g transform=\"translate(193.47,146.00)rotate(0)\"><text x=\"15.00\" y=\"2.81\" style=\"\">r4</text></g><g transform=\"translate(193.47,129.00)rotate(0)\"><text x=\"15.00\" y=\"2.81\" style=\"\">r5</text></g><g transform=\"translate(193.47,112.00)rotate(0)\"><text x=\"15.00\" y=\"2.81\" style=\"\">r6</text></g><g transform=\"translate(193.47,95.01)rotate(0)\"><text x=\"15.00\" y=\"2.81\" style=\"\">r7</text></g><g transform=\"translate(193.47,78.01)rotate(0)\"><text x=\"15.00\" y=\"2.81\" style=\"\">r8</text></g><g transform=\"translate(193.47,61.01)rotate(0)\"><text x=\"15.00\" y=\"2.81\" style=\"\">r9</text></g></g></g></g></g></svg><div class=\"toyplot-behavior\"><script>(function()\n",
       "{\n",
       "var modules={};\n",
       "})();</script></div></div>"
      ]
     },
     "metadata": {},
     "output_type": "display_data"
    }
   ],
   "source": [
    "TREE = toytree.rtree.baltree(ntips=10, treeheight=10)\n",
    "DATA = np.array([0, 0, 0, 1, 0, 1, 1, 1, 0, 1]).astype(float)\n",
    "\n",
    "TREE.draw()"
   ]
  },
  {
   "cell_type": "markdown",
   "id": "minimal-growth",
   "metadata": {},
   "source": [
    "### Fit with hogtie"
   ]
  },
  {
   "cell_type": "code",
   "execution_count": 5,
   "id": "manufactured-client",
   "metadata": {},
   "outputs": [
    {
     "name": "stderr",
     "output_type": "stream",
     "text": [
      "/Users/rachelcohen/hogtie/hogtie/hogtie/binary_state_model.py:77: VisibleDeprecationWarning: Creating an ndarray from ragged nested sequences (which is a list-or-tuple of lists-or-tuples-or ndarrays with different lengths or shapes) is deprecated. If you meant to do this, you must specify 'dtype=object' when creating the ndarray.\n",
      "  qmat = np.array([\n"
     ]
    },
    {
     "ename": "ValueError",
     "evalue": "setting an array element with a sequence.",
     "output_type": "error",
     "traceback": [
      "\u001b[0;31m---------------------------------------------------------------------------\u001b[0m",
      "\u001b[0;31mTypeError\u001b[0m                                 Traceback (most recent call last)",
      "\u001b[0;31mTypeError\u001b[0m: only size-1 arrays can be converted to Python scalars",
      "\nThe above exception was the direct cause of the following exception:\n",
      "\u001b[0;31mValueError\u001b[0m                                Traceback (most recent call last)",
      "\u001b[0;32m<ipython-input-5-657d96258790>\u001b[0m in \u001b[0;36m<module>\u001b[0;34m\u001b[0m\n\u001b[1;32m      1\u001b[0m \u001b[0mmodel\u001b[0m \u001b[0;34m=\u001b[0m \u001b[0mhogtie\u001b[0m\u001b[0;34m.\u001b[0m\u001b[0mBinaryStateModel\u001b[0m\u001b[0;34m(\u001b[0m\u001b[0mTREE\u001b[0m\u001b[0;34m,\u001b[0m \u001b[0mDATA\u001b[0m\u001b[0;34m)\u001b[0m\u001b[0;34m\u001b[0m\u001b[0;34m\u001b[0m\u001b[0m\n\u001b[0;32m----> 2\u001b[0;31m \u001b[0mmodel\u001b[0m\u001b[0;34m.\u001b[0m\u001b[0moptimize\u001b[0m\u001b[0;34m(\u001b[0m\u001b[0;34m)\u001b[0m\u001b[0;34m\u001b[0m\u001b[0;34m\u001b[0m\u001b[0m\n\u001b[0m",
      "\u001b[0;32m~/hogtie/hogtie/hogtie/binary_state_model.py\u001b[0m in \u001b[0;36moptimize\u001b[0;34m(self)\u001b[0m\n\u001b[1;32m    179\u001b[0m \u001b[0;34m\u001b[0m\u001b[0m\n\u001b[1;32m    180\u001b[0m         \u001b[0;32mif\u001b[0m \u001b[0mself\u001b[0m\u001b[0;34m.\u001b[0m\u001b[0mmodel\u001b[0m \u001b[0;34m==\u001b[0m \u001b[0;34m'ARD'\u001b[0m\u001b[0;34m:\u001b[0m\u001b[0;34m\u001b[0m\u001b[0;34m\u001b[0m\u001b[0m\n\u001b[0;32m--> 181\u001b[0;31m             estimate = minimize(\n\u001b[0m\u001b[1;32m    182\u001b[0m             \u001b[0mfun\u001b[0m\u001b[0;34m=\u001b[0m\u001b[0moptim_func\u001b[0m\u001b[0;34m,\u001b[0m\u001b[0;34m\u001b[0m\u001b[0;34m\u001b[0m\u001b[0m\n\u001b[1;32m    183\u001b[0m             \u001b[0mx0\u001b[0m\u001b[0;34m=\u001b[0m\u001b[0mnp\u001b[0m\u001b[0;34m.\u001b[0m\u001b[0marray\u001b[0m\u001b[0;34m(\u001b[0m\u001b[0;34m[\u001b[0m\u001b[0mself\u001b[0m\u001b[0;34m.\u001b[0m\u001b[0malpha\u001b[0m\u001b[0;34m,\u001b[0m \u001b[0mself\u001b[0m\u001b[0;34m.\u001b[0m\u001b[0mbeta\u001b[0m\u001b[0;34m]\u001b[0m\u001b[0;34m)\u001b[0m\u001b[0;34m,\u001b[0m\u001b[0;34m\u001b[0m\u001b[0;34m\u001b[0m\u001b[0m\n",
      "\u001b[0;32m~/miniconda3/lib/python3.8/site-packages/scipy/optimize/_minimize.py\u001b[0m in \u001b[0;36mminimize\u001b[0;34m(fun, x0, args, method, jac, hess, hessp, bounds, constraints, tol, callback, options)\u001b[0m\n\u001b[1;32m    617\u001b[0m                                   **options)\n\u001b[1;32m    618\u001b[0m     \u001b[0;32melif\u001b[0m \u001b[0mmeth\u001b[0m \u001b[0;34m==\u001b[0m \u001b[0;34m'l-bfgs-b'\u001b[0m\u001b[0;34m:\u001b[0m\u001b[0;34m\u001b[0m\u001b[0;34m\u001b[0m\u001b[0m\n\u001b[0;32m--> 619\u001b[0;31m         return _minimize_lbfgsb(fun, x0, args, jac, bounds,\n\u001b[0m\u001b[1;32m    620\u001b[0m                                 callback=callback, **options)\n\u001b[1;32m    621\u001b[0m     \u001b[0;32melif\u001b[0m \u001b[0mmeth\u001b[0m \u001b[0;34m==\u001b[0m \u001b[0;34m'tnc'\u001b[0m\u001b[0;34m:\u001b[0m\u001b[0;34m\u001b[0m\u001b[0;34m\u001b[0m\u001b[0m\n",
      "\u001b[0;32m~/miniconda3/lib/python3.8/site-packages/scipy/optimize/lbfgsb.py\u001b[0m in \u001b[0;36m_minimize_lbfgsb\u001b[0;34m(fun, x0, args, jac, bounds, disp, maxcor, ftol, gtol, eps, maxfun, maxiter, iprint, callback, maxls, finite_diff_rel_step, **unknown_options)\u001b[0m\n\u001b[1;32m    304\u001b[0m             \u001b[0miprint\u001b[0m \u001b[0;34m=\u001b[0m \u001b[0mdisp\u001b[0m\u001b[0;34m\u001b[0m\u001b[0;34m\u001b[0m\u001b[0m\n\u001b[1;32m    305\u001b[0m \u001b[0;34m\u001b[0m\u001b[0m\n\u001b[0;32m--> 306\u001b[0;31m     sf = _prepare_scalar_function(fun, x0, jac=jac, args=args, epsilon=eps,\n\u001b[0m\u001b[1;32m    307\u001b[0m                                   \u001b[0mbounds\u001b[0m\u001b[0;34m=\u001b[0m\u001b[0mnew_bounds\u001b[0m\u001b[0;34m,\u001b[0m\u001b[0;34m\u001b[0m\u001b[0;34m\u001b[0m\u001b[0m\n\u001b[1;32m    308\u001b[0m                                   finite_diff_rel_step=finite_diff_rel_step)\n",
      "\u001b[0;32m~/miniconda3/lib/python3.8/site-packages/scipy/optimize/optimize.py\u001b[0m in \u001b[0;36m_prepare_scalar_function\u001b[0;34m(fun, x0, jac, args, bounds, epsilon, finite_diff_rel_step, hess)\u001b[0m\n\u001b[1;32m    259\u001b[0m     \u001b[0;31m# ScalarFunction caches. Reuse of fun(x) during grad\u001b[0m\u001b[0;34m\u001b[0m\u001b[0;34m\u001b[0m\u001b[0;34m\u001b[0m\u001b[0m\n\u001b[1;32m    260\u001b[0m     \u001b[0;31m# calculation reduces overall function evaluations.\u001b[0m\u001b[0;34m\u001b[0m\u001b[0;34m\u001b[0m\u001b[0;34m\u001b[0m\u001b[0m\n\u001b[0;32m--> 261\u001b[0;31m     sf = ScalarFunction(fun, x0, args, grad, hess,\n\u001b[0m\u001b[1;32m    262\u001b[0m                         finite_diff_rel_step, bounds, epsilon=epsilon)\n\u001b[1;32m    263\u001b[0m \u001b[0;34m\u001b[0m\u001b[0m\n",
      "\u001b[0;32m~/miniconda3/lib/python3.8/site-packages/scipy/optimize/_differentiable_functions.py\u001b[0m in \u001b[0;36m__init__\u001b[0;34m(self, fun, x0, args, grad, hess, finite_diff_rel_step, finite_diff_bounds, epsilon)\u001b[0m\n\u001b[1;32m    134\u001b[0m \u001b[0;34m\u001b[0m\u001b[0m\n\u001b[1;32m    135\u001b[0m         \u001b[0mself\u001b[0m\u001b[0;34m.\u001b[0m\u001b[0m_update_fun_impl\u001b[0m \u001b[0;34m=\u001b[0m \u001b[0mupdate_fun\u001b[0m\u001b[0;34m\u001b[0m\u001b[0;34m\u001b[0m\u001b[0m\n\u001b[0;32m--> 136\u001b[0;31m         \u001b[0mself\u001b[0m\u001b[0;34m.\u001b[0m\u001b[0m_update_fun\u001b[0m\u001b[0;34m(\u001b[0m\u001b[0;34m)\u001b[0m\u001b[0;34m\u001b[0m\u001b[0;34m\u001b[0m\u001b[0m\n\u001b[0m\u001b[1;32m    137\u001b[0m \u001b[0;34m\u001b[0m\u001b[0m\n\u001b[1;32m    138\u001b[0m         \u001b[0;31m# Gradient evaluation\u001b[0m\u001b[0;34m\u001b[0m\u001b[0;34m\u001b[0m\u001b[0;34m\u001b[0m\u001b[0m\n",
      "\u001b[0;32m~/miniconda3/lib/python3.8/site-packages/scipy/optimize/_differentiable_functions.py\u001b[0m in \u001b[0;36m_update_fun\u001b[0;34m(self)\u001b[0m\n\u001b[1;32m    224\u001b[0m     \u001b[0;32mdef\u001b[0m \u001b[0m_update_fun\u001b[0m\u001b[0;34m(\u001b[0m\u001b[0mself\u001b[0m\u001b[0;34m)\u001b[0m\u001b[0;34m:\u001b[0m\u001b[0;34m\u001b[0m\u001b[0;34m\u001b[0m\u001b[0m\n\u001b[1;32m    225\u001b[0m         \u001b[0;32mif\u001b[0m \u001b[0;32mnot\u001b[0m \u001b[0mself\u001b[0m\u001b[0;34m.\u001b[0m\u001b[0mf_updated\u001b[0m\u001b[0;34m:\u001b[0m\u001b[0;34m\u001b[0m\u001b[0;34m\u001b[0m\u001b[0m\n\u001b[0;32m--> 226\u001b[0;31m             \u001b[0mself\u001b[0m\u001b[0;34m.\u001b[0m\u001b[0m_update_fun_impl\u001b[0m\u001b[0;34m(\u001b[0m\u001b[0;34m)\u001b[0m\u001b[0;34m\u001b[0m\u001b[0;34m\u001b[0m\u001b[0m\n\u001b[0m\u001b[1;32m    227\u001b[0m             \u001b[0mself\u001b[0m\u001b[0;34m.\u001b[0m\u001b[0mf_updated\u001b[0m \u001b[0;34m=\u001b[0m \u001b[0;32mTrue\u001b[0m\u001b[0;34m\u001b[0m\u001b[0;34m\u001b[0m\u001b[0m\n\u001b[1;32m    228\u001b[0m \u001b[0;34m\u001b[0m\u001b[0m\n",
      "\u001b[0;32m~/miniconda3/lib/python3.8/site-packages/scipy/optimize/_differentiable_functions.py\u001b[0m in \u001b[0;36mupdate_fun\u001b[0;34m()\u001b[0m\n\u001b[1;32m    131\u001b[0m \u001b[0;34m\u001b[0m\u001b[0m\n\u001b[1;32m    132\u001b[0m         \u001b[0;32mdef\u001b[0m \u001b[0mupdate_fun\u001b[0m\u001b[0;34m(\u001b[0m\u001b[0;34m)\u001b[0m\u001b[0;34m:\u001b[0m\u001b[0;34m\u001b[0m\u001b[0;34m\u001b[0m\u001b[0m\n\u001b[0;32m--> 133\u001b[0;31m             \u001b[0mself\u001b[0m\u001b[0;34m.\u001b[0m\u001b[0mf\u001b[0m \u001b[0;34m=\u001b[0m \u001b[0mfun_wrapped\u001b[0m\u001b[0;34m(\u001b[0m\u001b[0mself\u001b[0m\u001b[0;34m.\u001b[0m\u001b[0mx\u001b[0m\u001b[0;34m)\u001b[0m\u001b[0;34m\u001b[0m\u001b[0;34m\u001b[0m\u001b[0m\n\u001b[0m\u001b[1;32m    134\u001b[0m \u001b[0;34m\u001b[0m\u001b[0m\n\u001b[1;32m    135\u001b[0m         \u001b[0mself\u001b[0m\u001b[0;34m.\u001b[0m\u001b[0m_update_fun_impl\u001b[0m \u001b[0;34m=\u001b[0m \u001b[0mupdate_fun\u001b[0m\u001b[0;34m\u001b[0m\u001b[0;34m\u001b[0m\u001b[0m\n",
      "\u001b[0;32m~/miniconda3/lib/python3.8/site-packages/scipy/optimize/_differentiable_functions.py\u001b[0m in \u001b[0;36mfun_wrapped\u001b[0;34m(x)\u001b[0m\n\u001b[1;32m    128\u001b[0m         \u001b[0;32mdef\u001b[0m \u001b[0mfun_wrapped\u001b[0m\u001b[0;34m(\u001b[0m\u001b[0mx\u001b[0m\u001b[0;34m)\u001b[0m\u001b[0;34m:\u001b[0m\u001b[0;34m\u001b[0m\u001b[0;34m\u001b[0m\u001b[0m\n\u001b[1;32m    129\u001b[0m             \u001b[0mself\u001b[0m\u001b[0;34m.\u001b[0m\u001b[0mnfev\u001b[0m \u001b[0;34m+=\u001b[0m \u001b[0;36m1\u001b[0m\u001b[0;34m\u001b[0m\u001b[0;34m\u001b[0m\u001b[0m\n\u001b[0;32m--> 130\u001b[0;31m             \u001b[0;32mreturn\u001b[0m \u001b[0mfun\u001b[0m\u001b[0;34m(\u001b[0m\u001b[0mx\u001b[0m\u001b[0;34m,\u001b[0m \u001b[0;34m*\u001b[0m\u001b[0margs\u001b[0m\u001b[0;34m)\u001b[0m\u001b[0;34m\u001b[0m\u001b[0;34m\u001b[0m\u001b[0m\n\u001b[0m\u001b[1;32m    131\u001b[0m \u001b[0;34m\u001b[0m\u001b[0m\n\u001b[1;32m    132\u001b[0m         \u001b[0;32mdef\u001b[0m \u001b[0mupdate_fun\u001b[0m\u001b[0;34m(\u001b[0m\u001b[0;34m)\u001b[0m\u001b[0;34m:\u001b[0m\u001b[0;34m\u001b[0m\u001b[0;34m\u001b[0m\u001b[0m\n",
      "\u001b[0;32m~/hogtie/hogtie/hogtie/binary_state_model.py\u001b[0m in \u001b[0;36moptim_func\u001b[0;34m(params, model)\u001b[0m\n\u001b[1;32m    256\u001b[0m     \"\"\"\n\u001b[1;32m    257\u001b[0m     \u001b[0mmodel\u001b[0m\u001b[0;34m.\u001b[0m\u001b[0malpha\u001b[0m \u001b[0;34m=\u001b[0m \u001b[0mparams\u001b[0m\u001b[0;34m\u001b[0m\u001b[0;34m\u001b[0m\u001b[0m\n\u001b[0;32m--> 258\u001b[0;31m     \u001b[0mlik\u001b[0m \u001b[0;34m=\u001b[0m \u001b[0mmodel\u001b[0m\u001b[0;34m.\u001b[0m\u001b[0mpruning_algorithm\u001b[0m\u001b[0;34m(\u001b[0m\u001b[0;34m)\u001b[0m\u001b[0;34m\u001b[0m\u001b[0;34m\u001b[0m\u001b[0m\n\u001b[0m\u001b[1;32m    259\u001b[0m \u001b[0;34m\u001b[0m\u001b[0m\n\u001b[1;32m    260\u001b[0m     \u001b[0;32mreturn\u001b[0m \u001b[0;34m-\u001b[0m\u001b[0mlik\u001b[0m\u001b[0;34m\u001b[0m\u001b[0;34m\u001b[0m\u001b[0m\n",
      "\u001b[0;32m~/hogtie/hogtie/hogtie/binary_state_model.py\u001b[0m in \u001b[0;36mpruning_algorithm\u001b[0;34m(self)\u001b[0m\n\u001b[1;32m    156\u001b[0m         \u001b[0;32mfor\u001b[0m \u001b[0mnode\u001b[0m \u001b[0;32min\u001b[0m \u001b[0mself\u001b[0m\u001b[0;34m.\u001b[0m\u001b[0mtree\u001b[0m\u001b[0;34m.\u001b[0m\u001b[0mtreenode\u001b[0m\u001b[0;34m.\u001b[0m\u001b[0mtraverse\u001b[0m\u001b[0;34m(\u001b[0m\u001b[0;34m\"postorder\"\u001b[0m\u001b[0;34m)\u001b[0m\u001b[0;34m:\u001b[0m\u001b[0;34m\u001b[0m\u001b[0;34m\u001b[0m\u001b[0m\n\u001b[1;32m    157\u001b[0m             \u001b[0;32mif\u001b[0m \u001b[0;32mnot\u001b[0m \u001b[0mnode\u001b[0m\u001b[0;34m.\u001b[0m\u001b[0mis_leaf\u001b[0m\u001b[0;34m(\u001b[0m\u001b[0;34m)\u001b[0m\u001b[0;34m:\u001b[0m\u001b[0;34m\u001b[0m\u001b[0;34m\u001b[0m\u001b[0m\n\u001b[0;32m--> 158\u001b[0;31m                 \u001b[0mself\u001b[0m\u001b[0;34m.\u001b[0m\u001b[0mnode_conditional_likelihood\u001b[0m\u001b[0;34m(\u001b[0m\u001b[0mnode\u001b[0m\u001b[0;34m.\u001b[0m\u001b[0midx\u001b[0m\u001b[0;34m)\u001b[0m\u001b[0;34m\u001b[0m\u001b[0;34m\u001b[0m\u001b[0m\n\u001b[0m\u001b[1;32m    159\u001b[0m \u001b[0;34m\u001b[0m\u001b[0m\n\u001b[1;32m    160\u001b[0m         \u001b[0;31m# multiply root prior times the conditional likelihood at root\u001b[0m\u001b[0;34m\u001b[0m\u001b[0;34m\u001b[0m\u001b[0;34m\u001b[0m\u001b[0m\n",
      "\u001b[0;32m~/hogtie/hogtie/hogtie/binary_state_model.py\u001b[0m in \u001b[0;36mnode_conditional_likelihood\u001b[0;34m(self, nidx)\u001b[0m\n\u001b[1;32m    117\u001b[0m \u001b[0;34m\u001b[0m\u001b[0m\n\u001b[1;32m    118\u001b[0m         \u001b[0;31m# get transition probabilities over each branch length\u001b[0m\u001b[0;34m\u001b[0m\u001b[0;34m\u001b[0m\u001b[0;34m\u001b[0m\u001b[0m\n\u001b[0;32m--> 119\u001b[0;31m         \u001b[0mprob_child0\u001b[0m \u001b[0;34m=\u001b[0m \u001b[0mexpm\u001b[0m\u001b[0;34m(\u001b[0m\u001b[0mself\u001b[0m\u001b[0;34m.\u001b[0m\u001b[0mqmat\u001b[0m \u001b[0;34m*\u001b[0m \u001b[0mnode\u001b[0m\u001b[0;34m.\u001b[0m\u001b[0mchildren\u001b[0m\u001b[0;34m[\u001b[0m\u001b[0;36m0\u001b[0m\u001b[0;34m]\u001b[0m\u001b[0;34m.\u001b[0m\u001b[0mdist\u001b[0m\u001b[0;34m)\u001b[0m\u001b[0;34m\u001b[0m\u001b[0;34m\u001b[0m\u001b[0m\n\u001b[0m\u001b[1;32m    120\u001b[0m         \u001b[0mprob_child1\u001b[0m \u001b[0;34m=\u001b[0m \u001b[0mexpm\u001b[0m\u001b[0;34m(\u001b[0m\u001b[0mself\u001b[0m\u001b[0;34m.\u001b[0m\u001b[0mqmat\u001b[0m \u001b[0;34m*\u001b[0m \u001b[0mnode\u001b[0m\u001b[0;34m.\u001b[0m\u001b[0mchildren\u001b[0m\u001b[0;34m[\u001b[0m\u001b[0;36m1\u001b[0m\u001b[0;34m]\u001b[0m\u001b[0;34m.\u001b[0m\u001b[0mdist\u001b[0m\u001b[0;34m)\u001b[0m\u001b[0;34m\u001b[0m\u001b[0;34m\u001b[0m\u001b[0m\n\u001b[1;32m    121\u001b[0m \u001b[0;34m\u001b[0m\u001b[0m\n",
      "\u001b[0;32m~/miniconda3/lib/python3.8/site-packages/scipy/linalg/matfuncs.py\u001b[0m in \u001b[0;36mexpm\u001b[0;34m(A)\u001b[0m\n\u001b[1;32m    253\u001b[0m     \u001b[0;31m# Input checking and conversion is provided by sparse.linalg.expm().\u001b[0m\u001b[0;34m\u001b[0m\u001b[0;34m\u001b[0m\u001b[0;34m\u001b[0m\u001b[0m\n\u001b[1;32m    254\u001b[0m     \u001b[0;32mimport\u001b[0m \u001b[0mscipy\u001b[0m\u001b[0;34m.\u001b[0m\u001b[0msparse\u001b[0m\u001b[0;34m.\u001b[0m\u001b[0mlinalg\u001b[0m\u001b[0;34m\u001b[0m\u001b[0;34m\u001b[0m\u001b[0m\n\u001b[0;32m--> 255\u001b[0;31m     \u001b[0;32mreturn\u001b[0m \u001b[0mscipy\u001b[0m\u001b[0;34m.\u001b[0m\u001b[0msparse\u001b[0m\u001b[0;34m.\u001b[0m\u001b[0mlinalg\u001b[0m\u001b[0;34m.\u001b[0m\u001b[0mexpm\u001b[0m\u001b[0;34m(\u001b[0m\u001b[0mA\u001b[0m\u001b[0;34m)\u001b[0m\u001b[0;34m\u001b[0m\u001b[0;34m\u001b[0m\u001b[0m\n\u001b[0m\u001b[1;32m    256\u001b[0m \u001b[0;34m\u001b[0m\u001b[0m\n\u001b[1;32m    257\u001b[0m \u001b[0;34m\u001b[0m\u001b[0m\n",
      "\u001b[0;32m~/miniconda3/lib/python3.8/site-packages/scipy/sparse/linalg/matfuncs.py\u001b[0m in \u001b[0;36mexpm\u001b[0;34m(A)\u001b[0m\n\u001b[1;32m    589\u001b[0m             [  0.        ,   0.        ,  20.08553692]])\n\u001b[1;32m    590\u001b[0m     \"\"\"\n\u001b[0;32m--> 591\u001b[0;31m     \u001b[0;32mreturn\u001b[0m \u001b[0m_expm\u001b[0m\u001b[0;34m(\u001b[0m\u001b[0mA\u001b[0m\u001b[0;34m,\u001b[0m \u001b[0muse_exact_onenorm\u001b[0m\u001b[0;34m=\u001b[0m\u001b[0;34m'auto'\u001b[0m\u001b[0;34m)\u001b[0m\u001b[0;34m\u001b[0m\u001b[0;34m\u001b[0m\u001b[0m\n\u001b[0m\u001b[1;32m    592\u001b[0m \u001b[0;34m\u001b[0m\u001b[0m\n\u001b[1;32m    593\u001b[0m \u001b[0;34m\u001b[0m\u001b[0m\n",
      "\u001b[0;32m~/miniconda3/lib/python3.8/site-packages/scipy/sparse/linalg/matfuncs.py\u001b[0m in \u001b[0;36m_expm\u001b[0;34m(A, use_exact_onenorm)\u001b[0m\n\u001b[1;32m    624\u001b[0m     if ((isinstance(A, np.ndarray) or isspmatrix(A) or is_pydata_spmatrix(A))\n\u001b[1;32m    625\u001b[0m             and not np.issubdtype(A.dtype, np.inexact)):\n\u001b[0;32m--> 626\u001b[0;31m         \u001b[0mA\u001b[0m \u001b[0;34m=\u001b[0m \u001b[0mA\u001b[0m\u001b[0;34m.\u001b[0m\u001b[0mastype\u001b[0m\u001b[0;34m(\u001b[0m\u001b[0mfloat\u001b[0m\u001b[0;34m)\u001b[0m\u001b[0;34m\u001b[0m\u001b[0;34m\u001b[0m\u001b[0m\n\u001b[0m\u001b[1;32m    627\u001b[0m \u001b[0;34m\u001b[0m\u001b[0m\n\u001b[1;32m    628\u001b[0m     \u001b[0;31m# Detect upper triangularity.\u001b[0m\u001b[0;34m\u001b[0m\u001b[0;34m\u001b[0m\u001b[0;34m\u001b[0m\u001b[0m\n",
      "\u001b[0;31mValueError\u001b[0m: setting an array element with a sequence."
     ]
    }
   ],
   "source": [
    "model = hogtie.BinaryStateModel(TREE, DATA)\n",
    "model.optimize()"
   ]
  },
  {
   "cell_type": "code",
   "execution_count": 6,
   "id": "ultimate-induction",
   "metadata": {},
   "outputs": [
    {
     "data": {
      "text/plain": [
       "(array([0.1       , 0.10000001]), 0.1)"
      ]
     },
     "execution_count": 6,
     "metadata": {},
     "output_type": "execute_result"
    }
   ],
   "source": [
    "# inferred parameters\n",
    "model.alpha, model.beta"
   ]
  },
  {
   "cell_type": "code",
   "execution_count": 8,
   "id": "nutritional-rogers",
   "metadata": {},
   "outputs": [
    {
     "data": {
      "text/plain": [
       "6.3"
      ]
     },
     "execution_count": 8,
     "metadata": {},
     "output_type": "execute_result"
    }
   ],
   "source": [
    "# negative log-likelihood of the data given the model\n",
    "model.log_lik"
   ]
  },
  {
   "cell_type": "code",
   "execution_count": 9,
   "id": "cooked-alexandria",
   "metadata": {},
   "outputs": [
    {
     "data": {
      "text/html": [
       "<div class=\"toyplot\" id=\"t8eba428e16404b28a88611cee42a7fec\" style=\"text-align:center\"><svg class=\"toyplot-canvas-Canvas\" xmlns:toyplot=\"http://www.sandia.gov/toyplot\" xmlns:xlink=\"http://www.w3.org/1999/xlink\" xmlns=\"http://www.w3.org/2000/svg\" width=\"400.0px\" height=\"300.0px\" viewBox=\"0 0 400.0 300.0\" preserveAspectRatio=\"xMidYMid meet\" style=\"background-color:transparent;border-color:#292724;border-style:none;border-width:1.0;fill:rgb(16.1%,15.3%,14.1%);fill-opacity:1.0;font-family:Helvetica;font-size:12px;opacity:1.0;stroke:rgb(16.1%,15.3%,14.1%);stroke-opacity:1.0;stroke-width:1.0\" id=\"tcc02529f3c72451d9e277f383605ffb6\"><g class=\"toyplot-coordinates-Cartesian\" id=\"t0b6d6ccf9536494b937959e858b315e2\"><clipPath id=\"ta7acfc0ffa794a368c4e5aa2a64469a7\"><rect x=\"30.0\" y=\"30.0\" width=\"340.0\" height=\"240.0\"></rect></clipPath><g clip-path=\"url(#ta7acfc0ffa794a368c4e5aa2a64469a7)\"><g class=\"toytree-mark-Toytree\" id=\"tfb25f2378413439b903784e3376e2f34\"><g class=\"toytree-Edges\" style=\"fill:none;stroke:rgb(14.9%,14.9%,14.9%);stroke-linecap:round;stroke-opacity:1;stroke-width:2\"><path d=\"M 211.4 62.1 L 287.1 62.1 L 287.1 102.3\" id=\"18,17\"></path><path d=\"M 211.4 62.1 L 135.6 62.1 L 135.6 102.3\" id=\"18,16\"></path><path d=\"M 287.1 102.3 L 321.2 102.3 L 321.2 142.5\" id=\"17,15\"></path><path d=\"M 287.1 102.3 L 253.0 102.3 L 253.0 142.5\" id=\"17,14\"></path><path d=\"M 135.6 102.3 L 169.7 102.3 L 169.7 142.5\" id=\"16,13\"></path><path d=\"M 135.6 102.3 L 101.5 102.3 L 101.5 142.5\" id=\"16,12\"></path><path d=\"M 253.0 142.5 L 230.3 142.5 L 230.3 182.7\" id=\"14,11\"></path><path d=\"M 101.5 142.5 L 78.8 142.5 L 78.8 182.7\" id=\"12,10\"></path><path d=\"M 321.2 142.5 L 336.4 142.5 L 336.4 222.9\" id=\"15,9\"></path><path d=\"M 321.2 142.5 L 306.1 142.5 L 306.1 222.9\" id=\"15,8\"></path><path d=\"M 253.0 142.5 L 275.8 142.5 L 275.8 222.9\" id=\"14,7\"></path><path d=\"M 230.3 182.7 L 245.5 182.7 L 245.5 222.9\" id=\"11,6\"></path><path d=\"M 230.3 182.7 L 215.2 182.7 L 215.2 222.9\" id=\"11,5\"></path><path d=\"M 169.7 142.5 L 184.8 142.5 L 184.8 222.9\" id=\"13,4\"></path><path d=\"M 169.7 142.5 L 154.5 142.5 L 154.5 222.9\" id=\"13,3\"></path><path d=\"M 101.5 142.5 L 124.2 142.5 L 124.2 222.9\" id=\"12,2\"></path><path d=\"M 78.8 182.7 L 93.9 182.7 L 93.9 222.9\" id=\"10,1\"></path><path d=\"M 78.8 182.7 L 63.6 182.7 L 63.6 222.9\" id=\"10,0\"></path></g><g class=\"toytree-Nodes\" style=\"fill:rgb(40%,76.1%,64.7%);fill-opacity:1.0;stroke:rgb(0%,0%,0%);stroke-opacity:1.0;stroke-width:2\"><g fill=\"rgb(40%,76.1%,64.7%)\" fill-opacity=\"1.0\" id=\"node-0\" transform=\"translate(63.636,222.921)\"><circle r=\"7.5\"></circle></g><g fill=\"rgb(40%,76.1%,64.7%)\" fill-opacity=\"1.0\" id=\"node-1\" transform=\"translate(93.939,222.921)\"><circle r=\"7.5\"></circle></g><g fill=\"rgb(40%,76.1%,64.7%)\" fill-opacity=\"1.0\" id=\"node-2\" transform=\"translate(124.242,222.921)\"><circle r=\"7.5\"></circle></g><g fill=\"rgb(98.8%,55.3%,38.4%)\" fill-opacity=\"1.0\" id=\"node-3\" transform=\"translate(154.545,222.921)\"><circle r=\"7.5\"></circle></g><g fill=\"rgb(40%,76.1%,64.7%)\" fill-opacity=\"1.0\" id=\"node-4\" transform=\"translate(184.848,222.921)\"><circle r=\"7.5\"></circle></g><g fill=\"rgb(98.8%,55.3%,38.4%)\" fill-opacity=\"1.0\" id=\"node-5\" transform=\"translate(215.152,222.921)\"><circle r=\"7.5\"></circle></g><g fill=\"rgb(98.8%,55.3%,38.4%)\" fill-opacity=\"1.0\" id=\"node-6\" transform=\"translate(245.455,222.921)\"><circle r=\"7.5\"></circle></g><g fill=\"rgb(98.8%,55.3%,38.4%)\" fill-opacity=\"1.0\" id=\"node-7\" transform=\"translate(275.758,222.921)\"><circle r=\"7.5\"></circle></g><g fill=\"rgb(40%,76.1%,64.7%)\" fill-opacity=\"1.0\" id=\"node-8\" transform=\"translate(306.061,222.921)\"><circle r=\"7.5\"></circle></g><g fill=\"rgb(98.8%,55.3%,38.4%)\" fill-opacity=\"1.0\" id=\"node-9\" transform=\"translate(336.364,222.921)\"><circle r=\"7.5\"></circle></g><g fill=\"rgb(40%,76.1%,64.7%)\" fill-opacity=\"1.0\" id=\"node-10\" transform=\"translate(78.788,182.707)\"><circle r=\"7.5\"></circle></g><g fill=\"rgb(98.8%,55.3%,38.4%)\" fill-opacity=\"1.0\" id=\"node-11\" transform=\"translate(230.303,182.707)\"><circle r=\"7.5\"></circle></g><g fill=\"rgb(40%,76.1%,64.7%)\" fill-opacity=\"1.0\" id=\"node-12\" transform=\"translate(101.515,142.492)\"><circle r=\"7.5\"></circle></g><g fill=\"rgb(40%,76.1%,64.7%)\" fill-opacity=\"1.0\" id=\"node-13\" transform=\"translate(169.697,142.492)\"><circle r=\"7.5\"></circle></g><g fill=\"rgb(40%,76.1%,64.7%)\" fill-opacity=\"1.0\" id=\"node-14\" transform=\"translate(253.030,142.492)\"><circle r=\"7.5\"></circle></g><g fill=\"rgb(40%,76.1%,64.7%)\" fill-opacity=\"1.0\" id=\"node-15\" transform=\"translate(321.212,142.492)\"><circle r=\"7.5\"></circle></g><g fill=\"rgb(40%,76.1%,64.7%)\" fill-opacity=\"1.0\" id=\"node-16\" transform=\"translate(135.606,102.278)\"><circle r=\"7.5\"></circle></g><g fill=\"rgb(40%,76.1%,64.7%)\" fill-opacity=\"1.0\" id=\"node-17\" transform=\"translate(287.121,102.278)\"><circle r=\"7.5\"></circle></g><g fill=\"rgb(40%,76.1%,64.7%)\" fill-opacity=\"1.0\" id=\"node-18\" transform=\"translate(211.364,62.064)\"><circle r=\"7.5\"></circle></g></g><g class=\"toytree-NodeLabels\" style=\"fill:rgb(14.9%,14.9%,14.9%);fill-opacity:1.0;font-size:9px;stroke:none\"><g transform=\"translate(61.13,225.22)\"><text>0</text></g><g transform=\"translate(91.44,225.22)\"><text>1</text></g><g transform=\"translate(121.74,225.22)\"><text>2</text></g><g transform=\"translate(152.04,225.22)\"><text>3</text></g><g transform=\"translate(182.35,225.22)\"><text>4</text></g><g transform=\"translate(212.65,225.22)\"><text>5</text></g><g transform=\"translate(242.95,225.22)\"><text>6</text></g><g transform=\"translate(273.26,225.22)\"><text>7</text></g><g transform=\"translate(303.56,225.22)\"><text>8</text></g><g transform=\"translate(333.86,225.22)\"><text>9</text></g><g transform=\"translate(73.78,185.01)\"><text>10</text></g><g transform=\"translate(225.30,185.01)\"><text>11</text></g><g transform=\"translate(96.51,144.79)\"><text>12</text></g><g transform=\"translate(164.69,144.79)\"><text>13</text></g><g transform=\"translate(248.03,144.79)\"><text>14</text></g><g transform=\"translate(316.21,144.79)\"><text>15</text></g><g transform=\"translate(130.60,104.58)\"><text>16</text></g><g transform=\"translate(282.12,104.58)\"><text>17</text></g><g transform=\"translate(206.36,64.36)\"><text>18</text></g></g><g class=\"toytree-TipLabels\" style=\"fill:rgb(14.9%,14.9%,14.9%);fill-opacity:1.0;font-family:helvetica;font-size:11px;font-weight:normal;stroke:none;white-space:pre\"><g transform=\"translate(63.64,222.92)rotate(-90)\"><text x=\"-24.78\" y=\"2.81\" style=\"\">r0</text></g><g transform=\"translate(93.94,222.92)rotate(-90)\"><text x=\"-24.78\" y=\"2.81\" style=\"\">r1</text></g><g transform=\"translate(124.24,222.92)rotate(-90)\"><text x=\"-24.78\" y=\"2.81\" style=\"\">r2</text></g><g transform=\"translate(154.55,222.92)rotate(-90)\"><text x=\"-24.78\" y=\"2.81\" style=\"\">r3</text></g><g transform=\"translate(184.85,222.92)rotate(-90)\"><text x=\"-24.78\" y=\"2.81\" style=\"\">r4</text></g><g transform=\"translate(215.15,222.92)rotate(-90)\"><text x=\"-24.78\" y=\"2.81\" style=\"\">r5</text></g><g transform=\"translate(245.45,222.92)rotate(-90)\"><text x=\"-24.78\" y=\"2.81\" style=\"\">r6</text></g><g transform=\"translate(275.76,222.92)rotate(-90)\"><text x=\"-24.78\" y=\"2.81\" style=\"\">r7</text></g><g transform=\"translate(306.06,222.92)rotate(-90)\"><text x=\"-24.78\" y=\"2.81\" style=\"\">r8</text></g><g transform=\"translate(336.36,222.92)rotate(-90)\"><text x=\"-24.78\" y=\"2.81\" style=\"\">r9</text></g></g></g></g></g></svg><div class=\"toyplot-behavior\"><script>(function()\n",
       "{\n",
       "var modules={};\n",
       "})();</script></div></div>"
      ]
     },
     "metadata": {},
     "output_type": "display_data"
    }
   ],
   "source": [
    "# draw inferred states\n",
    "model.draw_states();"
   ]
  },
  {
   "cell_type": "code",
   "execution_count": 10,
   "id": "academic-hunter",
   "metadata": {},
   "outputs": [
    {
     "data": {
      "text/plain": [
       "array([[0.00184102, 0.00184102],\n",
       "       [0.02144592, 0.07002355],\n",
       "       [0.07002349, 0.02144588],\n",
       "       [0.20487375, 0.20487364],\n",
       "       [0.04134843, 0.40511919],\n",
       "       [0.20487375, 0.20487364],\n",
       "       [0.4051188 , 0.04134834],\n",
       "       [0.03030872, 0.68212097],\n",
       "       [0.6821207 , 0.03030867],\n",
       "       [0.        , 1.        ],\n",
       "       [1.        , 0.        ],\n",
       "       [0.        , 1.        ],\n",
       "       [0.        , 1.        ],\n",
       "       [0.        , 1.        ],\n",
       "       [1.        , 0.        ],\n",
       "       [0.        , 1.        ],\n",
       "       [1.        , 0.        ],\n",
       "       [1.        , 0.        ],\n",
       "       [1.        , 0.        ]])"
      ]
     },
     "execution_count": 10,
     "metadata": {},
     "output_type": "execute_result"
    }
   ],
   "source": [
    "# show relative likelihoods\n",
    "model.tree.get_node_values(\"likelihood\", 1, 1)"
   ]
  },
  {
   "cell_type": "markdown",
   "id": "earlier-pulse",
   "metadata": {},
   "source": [
    "### TEST WITH R"
   ]
  },
  {
   "cell_type": "code",
   "execution_count": 11,
   "id": "exterior-nomination",
   "metadata": {
    "scrolled": false
   },
   "outputs": [
    {
     "name": "stdout",
     "output_type": "stream",
     "text": [
      "\n",
      "    Ancestral Character Estimation\n",
      "\n",
      "Call: ace(x = data, phy = tree, type = \"discrete\", model = \"ARD\", use.expm = FALSE, \n",
      "    use.eigen = TRUE, marginal = FALSE)\n",
      "\n",
      "    Log-likelihood: -5.604288 \n",
      "\n",
      "Rate index matrix:\n",
      "  0 1\n",
      "0 . 2\n",
      "1 1 .\n",
      "\n",
      "Parameter estimates:\n",
      " rate index estimate std-err\n",
      "          1   0.0856  0.0579\n",
      "          2   0.0856  0.0579\n",
      "\n",
      "Scaled likelihoods at the root (type '...$lik.anc' to get them for all nodes):\n",
      "        0         1 \n",
      "0.4999999 0.5000001 \n",
      "               0          1\n",
      " [1,] 0.49999989 0.50000011\n",
      " [2,] 0.32649275 0.67350725\n",
      " [3,] 0.38691001 0.61308999\n",
      " [4,] 0.12070829 0.87929171\n",
      " [5,] 0.02917716 0.97082284\n",
      " [6,] 0.67350705 0.32649295\n",
      " [7,] 0.61308982 0.38691018\n",
      " [8,] 0.87929160 0.12070840\n",
      " [9,] 0.97082281 0.02917719\n",
      "\n"
     ]
    }
   ],
   "source": [
    "\n",
    "out = subprocess.run([\n",
    "    \"Rscript\", \n",
    "    \"-e\", \"library(ape)\",\n",
    "    \"-e\", f\"tree <- read.tree(text='{TREE.newick}')\",\n",
    "    \"-e\", f\"data <- c{tuple(DATA[::-1])}\",\n",
    "    \"-e\", \"object <- ace(data, tree, marginal=FALSE, type='discrete', model='ARD', use.expm=FALSE, use.eigen=TRUE)\",\n",
    "    \"-e\", \"print(object)\",\n",
    "    \"-e\", \"print(object$lik.anc)\",\n",
    "    ], capture_output=True,\n",
    ")\n",
    "\n",
    "print(out.stdout.decode())"
   ]
  },
  {
   "cell_type": "code",
   "execution_count": 13,
   "id": "split-membrane",
   "metadata": {},
   "outputs": [
    {
     "data": {
      "text/plain": [
       "0.00184102"
      ]
     },
     "execution_count": 13,
     "metadata": {},
     "output_type": "execute_result"
    }
   ],
   "source": [
    "(0.00184102*0.5)+(0.00184102*0.5)"
   ]
  },
  {
   "cell_type": "code",
   "execution_count": 15,
   "id": "varying-wheel",
   "metadata": {},
   "outputs": [
    {
     "data": {
      "text/plain": [
       "-6.297435513129152"
      ]
     },
     "execution_count": 15,
     "metadata": {},
     "output_type": "execute_result"
    }
   ],
   "source": [
    "np.log(0.00184102)"
   ]
  },
  {
   "cell_type": "code",
   "execution_count": 4,
   "id": "sophisticated-hawaiian",
   "metadata": {},
   "outputs": [
    {
     "data": {
      "text/plain": [
       "'(r3:1,(r2:0.666667,(r1:0.333333,r0:0.333333)100:0.333333)100:0.333333);'"
      ]
     },
     "execution_count": 4,
     "metadata": {},
     "output_type": "execute_result"
    },
    {
     "data": {
      "text/html": [
       "<div class=\"toyplot\" id=\"td5c763003c394b538a59a93cbe1cb423\" style=\"text-align:center\"><svg class=\"toyplot-canvas-Canvas\" xmlns:toyplot=\"http://www.sandia.gov/toyplot\" xmlns:xlink=\"http://www.w3.org/1999/xlink\" xmlns=\"http://www.w3.org/2000/svg\" width=\"260.0px\" height=\"275.0px\" viewBox=\"0 0 260.0 275.0\" preserveAspectRatio=\"xMidYMid meet\" style=\"background-color:transparent;border-color:#292724;border-style:none;border-width:1.0;fill:rgb(16.1%,15.3%,14.1%);fill-opacity:1.0;font-family:Helvetica;font-size:12px;opacity:1.0;stroke:rgb(16.1%,15.3%,14.1%);stroke-opacity:1.0;stroke-width:1.0\" id=\"te79d09b68b614d76b7a28a5ae0d98f7a\"><g class=\"toyplot-coordinates-Cartesian\" id=\"te44fe6ba8e734a6087671616e769fcc9\"><clipPath id=\"t696680be385c4231948fe4416aa8237a\"><rect x=\"30.0\" y=\"30.0\" width=\"200.0\" height=\"215.0\"></rect></clipPath><g clip-path=\"url(#t696680be385c4231948fe4416aa8237a)\"><g class=\"toytree-mark-Toytree\" id=\"taf06c5faaf364a00ada0501e5af21256\"><g class=\"toytree-Edges\" style=\"fill:none;stroke:rgb(14.9%,14.9%,14.9%);stroke-linecap:round;stroke-opacity:1;stroke-width:2\"><path d=\"M 51.8 105.6 L 51.8 150.2 L 99.0 150.2\" id=\"6,5\"></path><path d=\"M 99.0 150.2 L 99.0 188.5 L 146.2 188.5\" id=\"5,4\"></path><path d=\"M 51.8 105.6 L 51.8 61.0 L 193.5 61.0\" id=\"6,3\"></path><path d=\"M 99.0 150.2 L 99.0 112.0 L 193.5 112.0\" id=\"5,2\"></path><path d=\"M 146.2 188.5 L 146.2 163.0 L 193.5 163.0\" id=\"4,1\"></path><path d=\"M 146.2 188.5 L 146.2 214.0 L 193.5 214.0\" id=\"4,0\"></path></g><g class=\"toytree-TipLabels\" style=\"fill:rgb(14.9%,14.9%,14.9%);fill-opacity:1.0;font-family:helvetica;font-size:11px;font-weight:normal;stroke:none;white-space:pre\"><g transform=\"translate(193.47,213.99)rotate(0)\"><text x=\"15.00\" y=\"2.81\" style=\"\">r0</text></g><g transform=\"translate(193.47,163.00)rotate(0)\"><text x=\"15.00\" y=\"2.81\" style=\"\">r1</text></g><g transform=\"translate(193.47,112.00)rotate(0)\"><text x=\"15.00\" y=\"2.81\" style=\"\">r2</text></g><g transform=\"translate(193.47,61.01)rotate(0)\"><text x=\"15.00\" y=\"2.81\" style=\"\">r3</text></g></g></g></g></g></svg><div class=\"toyplot-behavior\"><script>(function()\n",
       "{\n",
       "var modules={};\n",
       "})();</script></div></div>"
      ]
     },
     "metadata": {},
     "output_type": "display_data"
    }
   ],
   "source": [
    "TREE1=toytree.rtree.unittree(ntips = 4)\n",
    "DATA1=np.array([1, 1, 0, 0]).astype(float)\n",
    "\n",
    "TREE1.draw()\n",
    "TREE1.newick"
   ]
  },
  {
   "cell_type": "code",
   "execution_count": 5,
   "id": "wooden-interview",
   "metadata": {},
   "outputs": [
    {
     "name": "stdout",
     "output_type": "stream",
     "text": [
      "03:06 | INFO    | \u001b[1m\u001b[35moptimize       \u001b[0m\u001b[1m\u001b[0m | \u001b[1m{'alpha': 0.899778, 'beta': 1.166458, 'Lik': -0.071025, 'negLogLik': 2.64, 'convergence': True}\u001b[0m\n"
     ]
    }
   ],
   "source": [
    "test = hogtie.BinaryStateModel(TREE1,DATA1)\n",
    "test.optimize()"
   ]
  },
  {
   "cell_type": "code",
   "execution_count": 7,
   "id": "vanilla-hybrid",
   "metadata": {},
   "outputs": [
    {
     "data": {
      "text/plain": [
       "array([[0.49664593, 0.50335407],\n",
       "       [0.38190178, 0.61809822],\n",
       "       [0.08332826, 0.91667174],\n",
       "       [1.        , 0.        ],\n",
       "       [1.        , 0.        ],\n",
       "       [0.        , 1.        ],\n",
       "       [0.        , 1.        ]])"
      ]
     },
     "execution_count": 7,
     "metadata": {},
     "output_type": "execute_result"
    }
   ],
   "source": [
    "test.tree.get_node_values('likelihood',True,True)"
   ]
  },
  {
   "cell_type": "code",
   "execution_count": 9,
   "id": "paperback-expense",
   "metadata": {},
   "outputs": [
    {
     "data": {
      "text/plain": [
       "2.64"
      ]
     },
     "execution_count": 9,
     "metadata": {},
     "output_type": "execute_result"
    }
   ],
   "source": [
    "test.log_lik"
   ]
  },
  {
   "cell_type": "code",
   "execution_count": 6,
   "id": "religious-parcel",
   "metadata": {},
   "outputs": [
    {
     "ename": "NameError",
     "evalue": "name 'TREE1' is not defined",
     "output_type": "error",
     "traceback": [
      "\u001b[0;31m---------------------------------------------------------------------------\u001b[0m",
      "\u001b[0;31mNameError\u001b[0m                                 Traceback (most recent call last)",
      "\u001b[0;32m<ipython-input-6-6a6a5efa17b1>\u001b[0m in \u001b[0;36m<module>\u001b[0;34m\u001b[0m\n\u001b[1;32m      2\u001b[0m     \u001b[0;34m\"Rscript\"\u001b[0m\u001b[0;34m,\u001b[0m\u001b[0;34m\u001b[0m\u001b[0;34m\u001b[0m\u001b[0m\n\u001b[1;32m      3\u001b[0m     \u001b[0;34m\"-e\"\u001b[0m\u001b[0;34m,\u001b[0m \u001b[0;34m\"library(ape)\"\u001b[0m\u001b[0;34m,\u001b[0m\u001b[0;34m\u001b[0m\u001b[0;34m\u001b[0m\u001b[0m\n\u001b[0;32m----> 4\u001b[0;31m     \u001b[0;34m\"-e\"\u001b[0m\u001b[0;34m,\u001b[0m \u001b[0;34mf\"tree <- read.tree(text='{TREE1.newick}')\"\u001b[0m\u001b[0;34m,\u001b[0m\u001b[0;34m\u001b[0m\u001b[0;34m\u001b[0m\u001b[0m\n\u001b[0m\u001b[1;32m      5\u001b[0m     \u001b[0;34m\"-e\"\u001b[0m\u001b[0;34m,\u001b[0m \u001b[0;34mf\"data <- c{tuple(DATA1[::-1])}\"\u001b[0m\u001b[0;34m,\u001b[0m\u001b[0;34m\u001b[0m\u001b[0;34m\u001b[0m\u001b[0m\n\u001b[1;32m      6\u001b[0m     \u001b[0;34m\"-e\"\u001b[0m\u001b[0;34m,\u001b[0m \u001b[0;34m\"object <- ace(data, tree, marginal=TRUE, type='discrete', model='ARD', use.expm=TRUE)\"\u001b[0m\u001b[0;34m,\u001b[0m\u001b[0;34m\u001b[0m\u001b[0;34m\u001b[0m\u001b[0m\n",
      "\u001b[0;31mNameError\u001b[0m: name 'TREE1' is not defined"
     ]
    }
   ],
   "source": [
    "out = subprocess.run([\n",
    "    \"Rscript\", \n",
    "    \"-e\", \"library(ape)\",\n",
    "    \"-e\", f\"tree <- read.tree(text='{TREE1.newick}')\",\n",
    "    \"-e\", f\"data <- c{tuple(DATA1[::-1])}\",\n",
    "    \"-e\", \"object <- ace(data, tree, marginal=TRUE, type='discrete', model='ARD', use.expm=TRUE)\",\n",
    "    \"-e\", \"print(object)\",\n",
    "    \"-e\", \"print(object$lik.anc)\",\n",
    "    ], capture_output=True,\n",
    ")\n",
    "\n",
    "print(out.stdout.decode())"
   ]
  },
  {
   "cell_type": "code",
   "execution_count": 7,
   "id": "thousand-being",
   "metadata": {},
   "outputs": [],
   "source": [
    "import os\n",
    "import subprocess"
   ]
  },
  {
   "cell_type": "code",
   "execution_count": 8,
   "id": "sealed-ethiopia",
   "metadata": {},
   "outputs": [
    {
     "data": {
      "text/plain": [
       "'/Users/rachelcohen/hogtie/hogtie'"
      ]
     },
     "execution_count": 8,
     "metadata": {},
     "output_type": "execute_result"
    }
   ],
   "source": [
    "HOGTIEDIR = os.path.dirname(os.getcwd())\n",
    "HOGTIEDIR"
   ]
  },
  {
   "cell_type": "code",
   "execution_count": 13,
   "id": "photographic-guest",
   "metadata": {},
   "outputs": [
    {
     "data": {
      "text/plain": [
       "CompletedProcess(args=['mkdir', '/Users/rachelcohen/hogtie/hogtie/hogtie_output'], returncode=0)"
      ]
     },
     "execution_count": 13,
     "metadata": {},
     "output_type": "execute_result"
    }
   ],
   "source": [
    "cmd = [\"mkdir\", f\"{HOGTIEDIR}/hogtie_output\"]\n",
    "subprocess.run(\"mkdir\", f\"{HOGTIEDIR}/hogtieoutput)"
   ]
  },
  {
   "cell_type": "code",
   "execution_count": 14,
   "id": "preliminary-degree",
   "metadata": {},
   "outputs": [],
   "source": [
    "import pandas as pd"
   ]
  },
  {
   "cell_type": "code",
   "execution_count": null,
   "id": "muslim-andrews",
   "metadata": {},
   "outputs": [],
   "source": [
    "pd.to_csv"
   ]
  },
  {
   "cell_type": "code",
   "execution_count": null,
   "id": "twelve-tamil",
   "metadata": {},
   "outputs": [],
   "source": []
  }
 ],
 "metadata": {
  "kernelspec": {
   "display_name": "Python 3",
   "language": "python",
   "name": "python3"
  },
  "language_info": {
   "codemirror_mode": {
    "name": "ipython",
    "version": 3
   },
   "file_extension": ".py",
   "mimetype": "text/x-python",
   "name": "python",
   "nbconvert_exporter": "python",
   "pygments_lexer": "ipython3",
   "version": "3.8.5"
  }
 },
 "nbformat": 4,
 "nbformat_minor": 5
}
