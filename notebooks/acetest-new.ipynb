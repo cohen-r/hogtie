{
 "cells": [
  {
   "cell_type": "markdown",
   "id": "proud-campbell",
   "metadata": {},
   "source": [
    "## TEST NEW"
   ]
  },
  {
   "cell_type": "code",
   "execution_count": 1,
   "id": "precise-contact",
   "metadata": {},
   "outputs": [],
   "source": [
    "# lazy import\n",
    "import sys\n",
    "sys.path.append(\"/home/deren/hacks/hogtie/\")"
   ]
  },
  {
   "cell_type": "code",
   "execution_count": 2,
   "id": "wound-leisure",
   "metadata": {},
   "outputs": [],
   "source": [
    "import hogtie\n",
    "hogtie.set_loglevel(\"INFO\")"
   ]
  },
  {
   "cell_type": "code",
   "execution_count": 3,
   "id": "reasonable-setup",
   "metadata": {},
   "outputs": [],
   "source": [
    "import subprocess\n",
    "import toytree\n",
    "import numpy as np"
   ]
  },
  {
   "cell_type": "markdown",
   "id": "specific-canada",
   "metadata": {},
   "source": [
    "### test data"
   ]
  },
  {
   "cell_type": "code",
   "execution_count": 4,
   "id": "extended-supervision",
   "metadata": {},
   "outputs": [],
   "source": [
    "TREE = toytree.rtree.baltree(ntips=10, treeheight=10)\n",
    "DATA = np.array([0, 0, 0, 1, 1, 1, 1, 1, 0, 1]).astype(float)"
   ]
  },
  {
   "cell_type": "markdown",
   "id": "minimal-growth",
   "metadata": {},
   "source": [
    "### Fit with hogtie"
   ]
  },
  {
   "cell_type": "code",
   "execution_count": 5,
   "id": "manufactured-client",
   "metadata": {},
   "outputs": [
    {
     "name": "stdout",
     "output_type": "stream",
     "text": [
      "06:12 | INFO    | \u001b[1m\u001b[35moptimize       \u001b[0m\u001b[1m\u001b[0m | \u001b[1m{'alpha': 0.102567, 'beta': 0.0585, 'Lik': -0.002575, 'negLogLik': 5.96, 'convergence': True}\u001b[0m\n"
     ]
    }
   ],
   "source": [
    "model = hogtie.BinaryStateModel(TREE, DATA)\n",
    "model.optimize()"
   ]
  },
  {
   "cell_type": "code",
   "execution_count": 11,
   "id": "ultimate-induction",
   "metadata": {},
   "outputs": [
    {
     "data": {
      "text/plain": [
       "(0.10256728309648974, 0.058500294971227704)"
      ]
     },
     "execution_count": 11,
     "metadata": {},
     "output_type": "execute_result"
    }
   ],
   "source": [
    "# inferred parameters\n",
    "model.alpha, model.beta"
   ]
  },
  {
   "cell_type": "code",
   "execution_count": 12,
   "id": "nutritional-rogers",
   "metadata": {},
   "outputs": [
    {
     "data": {
      "text/plain": [
       "5.96"
      ]
     },
     "execution_count": 12,
     "metadata": {},
     "output_type": "execute_result"
    }
   ],
   "source": [
    "# negative log-likelihood of the data given the model\n",
    "model.log_lik"
   ]
  },
  {
   "cell_type": "code",
   "execution_count": 13,
   "id": "cooked-alexandria",
   "metadata": {},
   "outputs": [
    {
     "data": {
      "text/html": [
       "<div class=\"toyplot\" id=\"t44c0ab0fa01d4fafbbc1dea4990809e9\" style=\"text-align:center\"><svg class=\"toyplot-canvas-Canvas\" xmlns:toyplot=\"http://www.sandia.gov/toyplot\" xmlns:xlink=\"http://www.w3.org/1999/xlink\" xmlns=\"http://www.w3.org/2000/svg\" width=\"400.0px\" height=\"300.0px\" viewBox=\"0 0 400.0 300.0\" preserveAspectRatio=\"xMidYMid meet\" style=\"background-color:transparent;border-color:#292724;border-style:none;border-width:1.0;fill:rgb(16.1%,15.3%,14.1%);fill-opacity:1.0;font-family:Helvetica;font-size:12px;opacity:1.0;stroke:rgb(16.1%,15.3%,14.1%);stroke-opacity:1.0;stroke-width:1.0\" id=\"td2fc0db4035c4d98ab0eef550004d77d\"><g class=\"toyplot-coordinates-Cartesian\" id=\"t0619a74a41d1447baa0c39a42b0c8c83\"><clipPath id=\"t541995a7f42a409ba86134dd298a942a\"><rect x=\"30.0\" y=\"30.0\" width=\"340.0\" height=\"240.0\"></rect></clipPath><g clip-path=\"url(#t541995a7f42a409ba86134dd298a942a)\"><g class=\"toytree-mark-Toytree\" id=\"t65d7f989340542c8bc8aa3daceeab14c\"><g class=\"toytree-Edges\" style=\"fill:none;stroke:rgb(14.9%,14.9%,14.9%);stroke-linecap:round;stroke-opacity:1;stroke-width:2\"><path d=\"M 211.4 62.1 L 287.1 62.1 L 287.1 102.3\" id=\"18,17\"></path><path d=\"M 211.4 62.1 L 135.6 62.1 L 135.6 102.3\" id=\"18,16\"></path><path d=\"M 287.1 102.3 L 321.2 102.3 L 321.2 142.5\" id=\"17,15\"></path><path d=\"M 287.1 102.3 L 253.0 102.3 L 253.0 142.5\" id=\"17,14\"></path><path d=\"M 135.6 102.3 L 169.7 102.3 L 169.7 142.5\" id=\"16,13\"></path><path d=\"M 135.6 102.3 L 101.5 102.3 L 101.5 142.5\" id=\"16,12\"></path><path d=\"M 253.0 142.5 L 230.3 142.5 L 230.3 182.7\" id=\"14,11\"></path><path d=\"M 101.5 142.5 L 78.8 142.5 L 78.8 182.7\" id=\"12,10\"></path><path d=\"M 321.2 142.5 L 336.4 142.5 L 336.4 222.9\" id=\"15,9\"></path><path d=\"M 321.2 142.5 L 306.1 142.5 L 306.1 222.9\" id=\"15,8\"></path><path d=\"M 253.0 142.5 L 275.8 142.5 L 275.8 222.9\" id=\"14,7\"></path><path d=\"M 230.3 182.7 L 245.5 182.7 L 245.5 222.9\" id=\"11,6\"></path><path d=\"M 230.3 182.7 L 215.2 182.7 L 215.2 222.9\" id=\"11,5\"></path><path d=\"M 169.7 142.5 L 184.8 142.5 L 184.8 222.9\" id=\"13,4\"></path><path d=\"M 169.7 142.5 L 154.5 142.5 L 154.5 222.9\" id=\"13,3\"></path><path d=\"M 101.5 142.5 L 124.2 142.5 L 124.2 222.9\" id=\"12,2\"></path><path d=\"M 78.8 182.7 L 93.9 182.7 L 93.9 222.9\" id=\"10,1\"></path><path d=\"M 78.8 182.7 L 63.6 182.7 L 63.6 222.9\" id=\"10,0\"></path></g><g class=\"toytree-Nodes\" style=\"fill:rgb(40%,76.1%,64.7%);fill-opacity:1.0;stroke:rgb(0%,0%,0%);stroke-opacity:1.0;stroke-width:2\"><g fill=\"rgb(40%,76.1%,64.7%)\" fill-opacity=\"1.0\" id=\"node-0\" transform=\"translate(63.636,222.921)\"><circle r=\"7.5\"></circle></g><g fill=\"rgb(40%,76.1%,64.7%)\" fill-opacity=\"1.0\" id=\"node-1\" transform=\"translate(93.939,222.921)\"><circle r=\"7.5\"></circle></g><g fill=\"rgb(40%,76.1%,64.7%)\" fill-opacity=\"1.0\" id=\"node-2\" transform=\"translate(124.242,222.921)\"><circle r=\"7.5\"></circle></g><g fill=\"rgb(98.8%,55.3%,38.4%)\" fill-opacity=\"1.0\" id=\"node-3\" transform=\"translate(154.545,222.921)\"><circle r=\"7.5\"></circle></g><g fill=\"rgb(98.8%,55.3%,38.4%)\" fill-opacity=\"1.0\" id=\"node-4\" transform=\"translate(184.848,222.921)\"><circle r=\"7.5\"></circle></g><g fill=\"rgb(98.8%,55.3%,38.4%)\" fill-opacity=\"1.0\" id=\"node-5\" transform=\"translate(215.152,222.921)\"><circle r=\"7.5\"></circle></g><g fill=\"rgb(98.8%,55.3%,38.4%)\" fill-opacity=\"1.0\" id=\"node-6\" transform=\"translate(245.455,222.921)\"><circle r=\"7.5\"></circle></g><g fill=\"rgb(98.8%,55.3%,38.4%)\" fill-opacity=\"1.0\" id=\"node-7\" transform=\"translate(275.758,222.921)\"><circle r=\"7.5\"></circle></g><g fill=\"rgb(40%,76.1%,64.7%)\" fill-opacity=\"1.0\" id=\"node-8\" transform=\"translate(306.061,222.921)\"><circle r=\"7.5\"></circle></g><g fill=\"rgb(98.8%,55.3%,38.4%)\" fill-opacity=\"1.0\" id=\"node-9\" transform=\"translate(336.364,222.921)\"><circle r=\"7.5\"></circle></g><g fill=\"rgb(40%,76.1%,64.7%)\" fill-opacity=\"1.0\" id=\"node-10\" transform=\"translate(78.788,182.707)\"><circle r=\"7.5\"></circle></g><g fill=\"rgb(98.8%,55.3%,38.4%)\" fill-opacity=\"1.0\" id=\"node-11\" transform=\"translate(230.303,182.707)\"><circle r=\"7.5\"></circle></g><g fill=\"rgb(40%,76.1%,64.7%)\" fill-opacity=\"1.0\" id=\"node-12\" transform=\"translate(101.515,142.492)\"><circle r=\"7.5\"></circle></g><g fill=\"rgb(98.8%,55.3%,38.4%)\" fill-opacity=\"1.0\" id=\"node-13\" transform=\"translate(169.697,142.492)\"><circle r=\"7.5\"></circle></g><g fill=\"rgb(98.8%,55.3%,38.4%)\" fill-opacity=\"1.0\" id=\"node-14\" transform=\"translate(253.030,142.492)\"><circle r=\"7.5\"></circle></g><g fill=\"rgb(40%,76.1%,64.7%)\" fill-opacity=\"1.0\" id=\"node-15\" transform=\"translate(321.212,142.492)\"><circle r=\"7.5\"></circle></g><g fill=\"rgb(40%,76.1%,64.7%)\" fill-opacity=\"1.0\" id=\"node-16\" transform=\"translate(135.606,102.278)\"><circle r=\"7.5\"></circle></g><g fill=\"rgb(98.8%,55.3%,38.4%)\" fill-opacity=\"1.0\" id=\"node-17\" transform=\"translate(287.121,102.278)\"><circle r=\"7.5\"></circle></g><g fill=\"rgb(98.8%,55.3%,38.4%)\" fill-opacity=\"1.0\" id=\"node-18\" transform=\"translate(211.364,62.064)\"><circle r=\"7.5\"></circle></g></g><g class=\"toytree-NodeLabels\" style=\"fill:rgb(14.9%,14.9%,14.9%);fill-opacity:1.0;font-size:9px;stroke:none\"><g transform=\"translate(61.13,225.22)\"><text>0</text></g><g transform=\"translate(91.44,225.22)\"><text>1</text></g><g transform=\"translate(121.74,225.22)\"><text>2</text></g><g transform=\"translate(152.04,225.22)\"><text>3</text></g><g transform=\"translate(182.35,225.22)\"><text>4</text></g><g transform=\"translate(212.65,225.22)\"><text>5</text></g><g transform=\"translate(242.95,225.22)\"><text>6</text></g><g transform=\"translate(273.26,225.22)\"><text>7</text></g><g transform=\"translate(303.56,225.22)\"><text>8</text></g><g transform=\"translate(333.86,225.22)\"><text>9</text></g><g transform=\"translate(73.78,185.01)\"><text>10</text></g><g transform=\"translate(225.30,185.01)\"><text>11</text></g><g transform=\"translate(96.51,144.79)\"><text>12</text></g><g transform=\"translate(164.69,144.79)\"><text>13</text></g><g transform=\"translate(248.03,144.79)\"><text>14</text></g><g transform=\"translate(316.21,144.79)\"><text>15</text></g><g transform=\"translate(130.60,104.58)\"><text>16</text></g><g transform=\"translate(282.12,104.58)\"><text>17</text></g><g transform=\"translate(206.36,64.36)\"><text>18</text></g></g><g class=\"toytree-TipLabels\" style=\"fill:rgb(14.9%,14.9%,14.9%);fill-opacity:1.0;font-family:helvetica;font-size:11px;font-weight:normal;stroke:none;white-space:pre\"><g transform=\"translate(63.64,222.92)rotate(-90)\"><text x=\"-24.78\" y=\"2.81\" style=\"\">r0</text></g><g transform=\"translate(93.94,222.92)rotate(-90)\"><text x=\"-24.78\" y=\"2.81\" style=\"\">r1</text></g><g transform=\"translate(124.24,222.92)rotate(-90)\"><text x=\"-24.78\" y=\"2.81\" style=\"\">r2</text></g><g transform=\"translate(154.55,222.92)rotate(-90)\"><text x=\"-24.78\" y=\"2.81\" style=\"\">r3</text></g><g transform=\"translate(184.85,222.92)rotate(-90)\"><text x=\"-24.78\" y=\"2.81\" style=\"\">r4</text></g><g transform=\"translate(215.15,222.92)rotate(-90)\"><text x=\"-24.78\" y=\"2.81\" style=\"\">r5</text></g><g transform=\"translate(245.45,222.92)rotate(-90)\"><text x=\"-24.78\" y=\"2.81\" style=\"\">r6</text></g><g transform=\"translate(275.76,222.92)rotate(-90)\"><text x=\"-24.78\" y=\"2.81\" style=\"\">r7</text></g><g transform=\"translate(306.06,222.92)rotate(-90)\"><text x=\"-24.78\" y=\"2.81\" style=\"\">r8</text></g><g transform=\"translate(336.36,222.92)rotate(-90)\"><text x=\"-24.78\" y=\"2.81\" style=\"\">r9</text></g></g></g></g></g></svg><div class=\"toyplot-behavior\"><script>(function()\n",
       "{\n",
       "var modules={};\n",
       "})();</script></div></div>"
      ]
     },
     "metadata": {},
     "output_type": "display_data"
    }
   ],
   "source": [
    "# draw inferred states\n",
    "model.draw_states();"
   ]
  },
  {
   "cell_type": "code",
   "execution_count": 14,
   "id": "academic-hunter",
   "metadata": {},
   "outputs": [
    {
     "data": {
      "text/plain": [
       "array([[0.48180651, 0.51819349],\n",
       "       [0.30632986, 0.69367014],\n",
       "       [0.65676495, 0.34323505],\n",
       "       [0.58699789, 0.41300211],\n",
       "       [0.11309315, 0.88690685],\n",
       "       [0.16264176, 0.83735824],\n",
       "       [0.94784347, 0.05215653],\n",
       "       [0.05444848, 0.94555152],\n",
       "       [0.97724313, 0.02275687],\n",
       "       [0.        , 1.        ],\n",
       "       [1.        , 0.        ],\n",
       "       [0.        , 1.        ],\n",
       "       [0.        , 1.        ],\n",
       "       [0.        , 1.        ],\n",
       "       [0.        , 1.        ],\n",
       "       [0.        , 1.        ],\n",
       "       [1.        , 0.        ],\n",
       "       [1.        , 0.        ],\n",
       "       [1.        , 0.        ]])"
      ]
     },
     "execution_count": 14,
     "metadata": {},
     "output_type": "execute_result"
    }
   ],
   "source": [
    "# show relative likelihoods\n",
    "model.tree.get_node_values(\"likelihood\", 1, 1)"
   ]
  },
  {
   "cell_type": "markdown",
   "id": "earlier-pulse",
   "metadata": {},
   "source": [
    "### TEST WITH R"
   ]
  },
  {
   "cell_type": "code",
   "execution_count": 15,
   "id": "exterior-nomination",
   "metadata": {
    "scrolled": false
   },
   "outputs": [
    {
     "name": "stdout",
     "output_type": "stream",
     "text": [
      "\n",
      "    Ancestral Character Estimation\n",
      "\n",
      "Call: ace(x = data, phy = tree, type = \"discrete\", model = \"ARD\", use.expm = TRUE, \n",
      "    marginal = TRUE)\n",
      "\n",
      "    Log-likelihood: -5.268686 \n",
      "\n",
      "Rate index matrix:\n",
      "  0 1\n",
      "0 . 2\n",
      "1 1 .\n",
      "\n",
      "Parameter estimates:\n",
      " rate index estimate std-err\n",
      "          1   0.0585  0.0430\n",
      "          2   0.1026  0.0695\n",
      "\n",
      "Scaled likelihoods at the root (type '...$lik.anc' to get them for all nodes):\n",
      "        0         1 \n",
      "0.4818146 0.5181854 \n",
      "               0          1\n",
      " [1,] 0.48181457 0.51818543\n",
      " [2,] 0.30632514 0.69367486\n",
      " [3,] 0.58701036 0.41298964\n",
      " [4,] 0.11308282 0.88691718\n",
      " [5,] 0.05444339 0.94555661\n",
      " [6,] 0.65678039 0.34321961\n",
      " [7,] 0.16262925 0.83737075\n",
      " [8,] 0.94785412 0.05214588\n",
      " [9,] 0.97724780 0.02275220\n",
      "\n"
     ]
    }
   ],
   "source": [
    "\n",
    "out = subprocess.run([\n",
    "    \"Rscript\", \n",
    "    \"-e\", \"library(ape)\",\n",
    "    \"-e\", f\"tree <- read.tree(text='{TREE.newick}')\",\n",
    "    \"-e\", f\"data <- c{tuple(DATA[::-1])}\",\n",
    "    \"-e\", \"object <- ace(data, tree, marginal=TRUE, type='discrete', model='ARD', use.expm=TRUE)\",\n",
    "    \"-e\", \"print(object)\",\n",
    "    \"-e\", \"print(object$lik.anc)\",\n",
    "    ], capture_output=True,\n",
    ")\n",
    "\n",
    "print(out.stdout.decode())"
   ]
  },
  {
   "cell_type": "code",
   "execution_count": null,
   "id": "split-membrane",
   "metadata": {},
   "outputs": [],
   "source": []
  }
 ],
 "metadata": {
  "kernelspec": {
   "display_name": "Python 3",
   "language": "python",
   "name": "python3"
  },
  "language_info": {
   "codemirror_mode": {
    "name": "ipython",
    "version": 3
   },
   "file_extension": ".py",
   "mimetype": "text/x-python",
   "name": "python",
   "nbconvert_exporter": "python",
   "pygments_lexer": "ipython3",
   "version": "3.8.6"
  }
 },
 "nbformat": 4,
 "nbformat_minor": 5
}
