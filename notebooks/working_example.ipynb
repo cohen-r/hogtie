{
 "cells": [
  {
   "cell_type": "markdown",
   "id": "authorized-universal",
   "metadata": {},
   "source": [
    "# Hogtie Working Example"
   ]
  },
  {
   "cell_type": "code",
   "execution_count": 1,
   "id": "unexpected-buffalo",
   "metadata": {},
   "outputs": [],
   "source": [
    "import pandas as pd\n",
    "import numpy as np\n",
    "import toytree\n",
    "import ipcoal\n",
    "import hogtie\n",
    "import toyplot"
   ]
  },
  {
   "cell_type": "markdown",
   "id": "satisfied-visitor",
   "metadata": {},
   "source": [
    "## Simulate a matrix of binary data"
   ]
  },
  {
   "cell_type": "code",
   "execution_count": 2,
   "id": "commercial-nerve",
   "metadata": {},
   "outputs": [],
   "source": [
    "TREE = toytree.rtree.baltree(ntips=12, treeheight=1e6)\n",
    "MODEL = ipcoal.Model(TREE, Ne=20000, mut=1e-8, seed=123)\n",
    "MODEL.sim_snps(10)"
   ]
  },
  {
   "cell_type": "code",
   "execution_count": 3,
   "id": "distant-factory",
   "metadata": {},
   "outputs": [
    {
     "name": "stdout",
     "output_type": "stream",
     "text": [
      "   r0  r1  r10  r11  r2  r3  r4  r5  r6  r7  r8  r9\n",
      "0   0   0    0    0   0   0   1   0   0   0   0   0\n",
      "1   1   1    0    0   1   1   1   1   0   0   0   0\n",
      "2   0   0    0    0   0   0   0   0   1   0   0   0\n",
      "3   0   0    0    0   0   0   0   0   1   1   1   0\n",
      "4   0   0    0    0   0   0   0   1   0   0   0   0\n",
      "5   0   0    0    0   0   0   0   0   0   0   1   0\n",
      "6   0   0    0    0   0   0   0   1   0   0   0   0\n",
      "7   0   0    0    0   0   0   0   1   0   0   0   0\n",
      "8   0   0    1    0   0   0   0   0   0   0   0   0\n",
      "9   0   0    0    0   0   0   1   0   0   0   0   0\n"
     ]
    }
   ],
   "source": [
    "DATA = MODEL.write_vcf().iloc[:, 9:]\n",
    "print(DATA)\n",
    "DATA[(DATA == 2) | (DATA == 3)] = 1"
   ]
  },
  {
   "cell_type": "code",
   "execution_count": 4,
   "id": "injured-doctor",
   "metadata": {},
   "outputs": [],
   "source": [
    "# FIT PARAMS TO DATA on TREE with height=1\n",
    "TREE_ONE = TREE.mod.node_scale_root_height(1)"
   ]
  },
  {
   "cell_type": "markdown",
   "id": "manual-parking",
   "metadata": {},
   "source": [
    "## Fit model to data"
   ]
  },
  {
   "cell_type": "code",
   "execution_count": 8,
   "id": "nutritional-collection",
   "metadata": {},
   "outputs": [
    {
     "name": "stdout",
     "output_type": "stream",
     "text": [
      "01:04 | DEBUG   | \u001b[1m\u001b[35mget_unique_data\u001b[0m\u001b[1m\u001b[0m | \u001b[34m\u001b[1muniq array shape: (7, 12)\u001b[0m\n"
     ]
    },
    {
     "data": {
      "text/plain": [
       "{'alpha': 1.7913480011331022,\n",
       " 'beta': 0.20066671382249673,\n",
       " 'negLogLik': 43.03115722858791,\n",
       " 'convergence': True}"
      ]
     },
     "execution_count": 8,
     "metadata": {},
     "output_type": "execute_result"
    }
   ],
   "source": [
    "TEST = hogtie.DiscreteMarkovModel(TREE_ONE, DATA, 'ARD', prior=0.5)\n",
    "TEST.optimize()\n",
    "TEST.model_fit"
   ]
  }
 ],
 "metadata": {
  "kernelspec": {
   "display_name": "Python 3",
   "language": "python",
   "name": "python3"
  },
  "language_info": {
   "codemirror_mode": {
    "name": "ipython",
    "version": 3
   },
   "file_extension": ".py",
   "mimetype": "text/x-python",
   "name": "python",
   "nbconvert_exporter": "python",
   "pygments_lexer": "ipython3",
   "version": "3.8.5"
  }
 },
 "nbformat": 4,
 "nbformat_minor": 5
}
