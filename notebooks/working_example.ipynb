{
 "cells": [
  {
   "cell_type": "code",
   "execution_count": 1,
   "id": "unexpected-buffalo",
   "metadata": {},
   "outputs": [],
   "source": [
    "import hogtie\n",
    "import pandas as pd"
   ]
  },
  {
   "cell_type": "code",
   "execution_count": 2,
   "id": "pressing-thirty",
   "metadata": {},
   "outputs": [],
   "source": [
    "import os"
   ]
  },
  {
   "cell_type": "code",
   "execution_count": 3,
   "id": "urban-printing",
   "metadata": {},
   "outputs": [],
   "source": [
    "HOGTIEDIR = os.path.dirname(os.getcwd())"
   ]
  },
  {
   "cell_type": "code",
   "execution_count": 4,
   "id": "progressive-grenada",
   "metadata": {},
   "outputs": [],
   "source": [
    "file1 = os.path.join(HOGTIEDIR, \"sampledata\", \"testmatrix.csv\")"
   ]
  },
  {
   "cell_type": "code",
   "execution_count": 5,
   "id": "senior-pulse",
   "metadata": {},
   "outputs": [],
   "source": [
    "file2 = os.path.join(HOGTIEDIR, \"sampledata\", \"testtree.txt\")"
   ]
  },
  {
   "cell_type": "code",
   "execution_count": 6,
   "id": "attractive-identity",
   "metadata": {},
   "outputs": [
    {
     "name": "stdout",
     "output_type": "stream",
     "text": [
      "11:10 | INFO    | \u001b[1m\u001b[35moptimize       \u001b[0m\u001b[1m\u001b[0m | \u001b[1m{'alpha': 1.0, 'beta': 1.0, 'Lik': -0.00034, 'negLogLik': 7.99, 'convergence': True}\u001b[0m\n",
      "11:10 | INFO    | \u001b[1m\u001b[35moptimize       \u001b[0m\u001b[1m\u001b[0m | \u001b[1m{'alpha': 1.0, 'beta': 1.0, 'Lik': -0.000369, 'negLogLik': 7.9, 'convergence': True}\u001b[0m\n",
      "11:10 | INFO    | \u001b[1m\u001b[35moptimize       \u001b[0m\u001b[1m\u001b[0m | \u001b[1m{'alpha': 1.0, 'beta': 1.0, 'Lik': -0.001393, 'negLogLik': 6.58, 'convergence': True}\u001b[0m\n",
      "11:10 | INFO    | \u001b[1m\u001b[35moptimize       \u001b[0m\u001b[1m\u001b[0m | \u001b[1m{'alpha': 1.0, 'beta': 1.0, 'Lik': -0.001187, 'negLogLik': 6.74, 'convergence': True}\u001b[0m\n",
      "11:10 | INFO    | \u001b[1m\u001b[35moptimize       \u001b[0m\u001b[1m\u001b[0m | \u001b[1m{'alpha': 1.0, 'beta': 1.0, 'Lik': -0.000836, 'negLogLik': 7.09, 'convergence': True}\u001b[0m\n",
      "11:10 | INFO    | \u001b[1m\u001b[35moptimize       \u001b[0m\u001b[1m\u001b[0m | \u001b[1m{'alpha': 1.0, 'beta': 1.0, 'Lik': -0.00089, 'negLogLik': 7.02, 'convergence': True}\u001b[0m\n",
      "11:10 | INFO    | \u001b[1m\u001b[35moptimize       \u001b[0m\u001b[1m\u001b[0m | \u001b[1m{'alpha': 1.0, 'beta': 1.0, 'Lik': -0.00089, 'negLogLik': 7.02, 'convergence': True}\u001b[0m\n",
      "11:10 | INFO    | \u001b[1m\u001b[35moptimize       \u001b[0m\u001b[1m\u001b[0m | \u001b[1m{'alpha': 1.0, 'beta': 1.0, 'Lik': -0.000594, 'negLogLik': 7.43, 'convergence': True}\u001b[0m\n",
      "11:10 | INFO    | \u001b[1m\u001b[35moptimize       \u001b[0m\u001b[1m\u001b[0m | \u001b[1m{'alpha': 1.0, 'beta': 1.0, 'Lik': -0.000692, 'negLogLik': 7.28, 'convergence': True}\u001b[0m\n",
      "11:10 | INFO    | \u001b[1m\u001b[35moptimize       \u001b[0m\u001b[1m\u001b[0m | \u001b[1m{'alpha': 1.0, 'beta': 1.0, 'Lik': -0.002182, 'negLogLik': 6.13, 'convergence': True}\u001b[0m\n"
     ]
    }
   ],
   "source": [
    "testmatrix = hogtie.MatrixParser(tree=file2, file=file1, model='ARD')\n",
    "testmatrix.matrix_likelihoods()"
   ]
  },
  {
   "cell_type": "code",
   "execution_count": 7,
   "id": "incorporated-democrat",
   "metadata": {},
   "outputs": [
    {
     "data": {
      "text/html": [
       "<div>\n",
       "<style scoped>\n",
       "    .dataframe tbody tr th:only-of-type {\n",
       "        vertical-align: middle;\n",
       "    }\n",
       "\n",
       "    .dataframe tbody tr th {\n",
       "        vertical-align: top;\n",
       "    }\n",
       "\n",
       "    .dataframe thead th {\n",
       "        text-align: right;\n",
       "    }\n",
       "</style>\n",
       "<table border=\"1\" class=\"dataframe\">\n",
       "  <thead>\n",
       "    <tr style=\"text-align: right;\">\n",
       "      <th></th>\n",
       "      <th>0</th>\n",
       "    </tr>\n",
       "  </thead>\n",
       "  <tbody>\n",
       "    <tr>\n",
       "      <th>0</th>\n",
       "      <td>7.99</td>\n",
       "    </tr>\n",
       "    <tr>\n",
       "      <th>1</th>\n",
       "      <td>7.90</td>\n",
       "    </tr>\n",
       "    <tr>\n",
       "      <th>2</th>\n",
       "      <td>6.58</td>\n",
       "    </tr>\n",
       "    <tr>\n",
       "      <th>3</th>\n",
       "      <td>6.74</td>\n",
       "    </tr>\n",
       "    <tr>\n",
       "      <th>4</th>\n",
       "      <td>7.09</td>\n",
       "    </tr>\n",
       "    <tr>\n",
       "      <th>5</th>\n",
       "      <td>7.02</td>\n",
       "    </tr>\n",
       "    <tr>\n",
       "      <th>6</th>\n",
       "      <td>7.02</td>\n",
       "    </tr>\n",
       "    <tr>\n",
       "      <th>7</th>\n",
       "      <td>7.43</td>\n",
       "    </tr>\n",
       "    <tr>\n",
       "      <th>8</th>\n",
       "      <td>7.28</td>\n",
       "    </tr>\n",
       "    <tr>\n",
       "      <th>9</th>\n",
       "      <td>6.13</td>\n",
       "    </tr>\n",
       "  </tbody>\n",
       "</table>\n",
       "</div>"
      ],
      "text/plain": [
       "      0\n",
       "0  7.99\n",
       "1  7.90\n",
       "2  6.58\n",
       "3  6.74\n",
       "4  7.09\n",
       "5  7.02\n",
       "6  7.02\n",
       "7  7.43\n",
       "8  7.28\n",
       "9  6.13"
      ]
     },
     "execution_count": 7,
     "metadata": {},
     "output_type": "execute_result"
    }
   ],
   "source": [
    "testmatrix.likelihoods"
   ]
  },
  {
   "cell_type": "code",
   "execution_count": null,
   "id": "progressive-corpus",
   "metadata": {},
   "outputs": [],
   "source": []
  }
 ],
 "metadata": {
  "kernelspec": {
   "display_name": "Python 3",
   "language": "python",
   "name": "python3"
  },
  "language_info": {
   "codemirror_mode": {
    "name": "ipython",
    "version": 3
   },
   "file_extension": ".py",
   "mimetype": "text/x-python",
   "name": "python",
   "nbconvert_exporter": "python",
   "pygments_lexer": "ipython3",
   "version": "3.8.5"
  }
 },
 "nbformat": 4,
 "nbformat_minor": 5
}
