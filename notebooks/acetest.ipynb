{
 "cells": [
  {
   "cell_type": "code",
   "execution_count": 1,
   "id": "marked-recall",
   "metadata": {},
   "outputs": [],
   "source": [
    "import sys\n",
    "sys.path.append(\"/Users/rachelcohen/hogtie/hogtie\")"
   ]
  },
  {
   "cell_type": "code",
   "execution_count": 2,
   "id": "colonial-austin",
   "metadata": {},
   "outputs": [],
   "source": [
    "import hogtie\n",
    "hogtie.set_loglevel(\"INFO\")"
   ]
  },
  {
   "cell_type": "code",
   "execution_count": 3,
   "id": "governing-moral",
   "metadata": {},
   "outputs": [],
   "source": [
    "import subprocess\n",
    "import toytree\n",
    "import numpy as np"
   ]
  },
  {
   "cell_type": "code",
   "execution_count": 6,
   "id": "awful-spectacular",
   "metadata": {},
   "outputs": [
    {
     "data": {
      "text/plain": [
       "(<toyplot.canvas.Canvas at 0x7f8078833880>,\n",
       " <toyplot.coordinates.Cartesian at 0x7f8078cf5be0>,\n",
       " <toytree.Render.ToytreeMark at 0x7f8078828ca0>)"
      ]
     },
     "execution_count": 6,
     "metadata": {},
     "output_type": "execute_result"
    },
    {
     "data": {
      "text/html": [
       "<div class=\"toyplot\" id=\"tfb2bd0d2e19e42c0b07f451b0a8a6577\" style=\"text-align:center\"><svg class=\"toyplot-canvas-Canvas\" xmlns:toyplot=\"http://www.sandia.gov/toyplot\" xmlns:xlink=\"http://www.w3.org/1999/xlink\" xmlns=\"http://www.w3.org/2000/svg\" width=\"260.0px\" height=\"275.0px\" viewBox=\"0 0 260.0 275.0\" preserveAspectRatio=\"xMidYMid meet\" style=\"background-color:transparent;border-color:#292724;border-style:none;border-width:1.0;fill:rgb(16.1%,15.3%,14.1%);fill-opacity:1.0;font-family:Helvetica;font-size:12px;opacity:1.0;stroke:rgb(16.1%,15.3%,14.1%);stroke-opacity:1.0;stroke-width:1.0\" id=\"t473da617d60146e7b591d59a629fcfdc\"><g class=\"toyplot-coordinates-Cartesian\" id=\"t4a07f65852e849efa1e7ada2c3b56d62\"><clipPath id=\"t0dea148249c64fdbb78df9ffb937d886\"><rect x=\"30.0\" y=\"30.0\" width=\"200.0\" height=\"215.0\"></rect></clipPath><g clip-path=\"url(#t0dea148249c64fdbb78df9ffb937d886)\"><g class=\"toytree-mark-Toytree\" id=\"t7e26bf74e3ef49e8b8d97cfcc6a9e9fd\"><g class=\"toytree-Edges\" style=\"fill:none;stroke:rgb(14.9%,14.9%,14.9%);stroke-linecap:round;stroke-opacity:1;stroke-width:2\"><path d=\"M 51.8 131.1 L 51.8 88.6 L 87.2 88.6\" id=\"18,17\"></path><path d=\"M 51.8 131.1 L 51.8 173.6 L 87.2 173.6\" id=\"18,16\"></path><path d=\"M 87.2 88.6 L 87.2 69.5 L 122.6 69.5\" id=\"17,15\"></path><path d=\"M 87.2 88.6 L 87.2 107.8 L 122.6 107.8\" id=\"17,14\"></path><path d=\"M 87.2 173.6 L 87.2 154.5 L 122.6 154.5\" id=\"16,13\"></path><path d=\"M 87.2 173.6 L 87.2 192.7 L 122.6 192.7\" id=\"16,12\"></path><path d=\"M 122.6 107.8 L 122.6 120.5 L 158.0 120.5\" id=\"14,11\"></path><path d=\"M 122.6 192.7 L 122.6 205.5 L 158.0 205.5\" id=\"12,10\"></path><path d=\"M 122.6 69.5 L 122.6 61.0 L 193.5 61.0\" id=\"15,9\"></path><path d=\"M 122.6 69.5 L 122.6 78.0 L 193.5 78.0\" id=\"15,8\"></path><path d=\"M 122.6 107.8 L 122.6 95.0 L 193.5 95.0\" id=\"14,7\"></path><path d=\"M 158.0 120.5 L 158.0 112.0 L 193.5 112.0\" id=\"11,6\"></path><path d=\"M 158.0 120.5 L 158.0 129.0 L 193.5 129.0\" id=\"11,5\"></path><path d=\"M 122.6 154.5 L 122.6 146.0 L 193.5 146.0\" id=\"13,4\"></path><path d=\"M 122.6 154.5 L 122.6 163.0 L 193.5 163.0\" id=\"13,3\"></path><path d=\"M 122.6 192.7 L 122.6 180.0 L 193.5 180.0\" id=\"12,2\"></path><path d=\"M 158.0 205.5 L 158.0 197.0 L 193.5 197.0\" id=\"10,1\"></path><path d=\"M 158.0 205.5 L 158.0 214.0 L 193.5 214.0\" id=\"10,0\"></path></g><g class=\"toytree-TipLabels\" style=\"fill:rgb(14.9%,14.9%,14.9%);fill-opacity:1.0;font-family:helvetica;font-size:11px;font-weight:normal;stroke:none;white-space:pre\"><g transform=\"translate(193.47,213.99)rotate(0)\"><text x=\"15.00\" y=\"2.81\" style=\"\">r0</text></g><g transform=\"translate(193.47,196.99)rotate(0)\"><text x=\"15.00\" y=\"2.81\" style=\"\">r1</text></g><g transform=\"translate(193.47,179.99)rotate(0)\"><text x=\"15.00\" y=\"2.81\" style=\"\">r2</text></g><g transform=\"translate(193.47,163.00)rotate(0)\"><text x=\"15.00\" y=\"2.81\" style=\"\">r3</text></g><g transform=\"translate(193.47,146.00)rotate(0)\"><text x=\"15.00\" y=\"2.81\" style=\"\">r4</text></g><g transform=\"translate(193.47,129.00)rotate(0)\"><text x=\"15.00\" y=\"2.81\" style=\"\">r5</text></g><g transform=\"translate(193.47,112.00)rotate(0)\"><text x=\"15.00\" y=\"2.81\" style=\"\">r6</text></g><g transform=\"translate(193.47,95.01)rotate(0)\"><text x=\"15.00\" y=\"2.81\" style=\"\">r7</text></g><g transform=\"translate(193.47,78.01)rotate(0)\"><text x=\"15.00\" y=\"2.81\" style=\"\">r8</text></g><g transform=\"translate(193.47,61.01)rotate(0)\"><text x=\"15.00\" y=\"2.81\" style=\"\">r9</text></g></g></g></g></g></svg><div class=\"toyplot-behavior\"><script>(function()\n",
       "{\n",
       "var modules={};\n",
       "})();</script></div></div>"
      ]
     },
     "metadata": {},
     "output_type": "display_data"
    }
   ],
   "source": [
    "TREE = toytree.rtree.baltree(ntips=10, treeheight=10)\n",
    "DATA = np.array([0, 0, 0, 1, 1, 1, 1, 1, 0, 1]).astype(float)\n",
    "\n",
    "TREE.draw()"
   ]
  },
  {
   "cell_type": "code",
   "execution_count": 20,
   "id": "fifth-jenny",
   "metadata": {},
   "outputs": [
    {
     "data": {
      "text/plain": [
       "(<toyplot.canvas.Canvas at 0x7f807aa19df0>,\n",
       " <toyplot.coordinates.Cartesian at 0x7f807aa19e20>,\n",
       " <toytree.Render.ToytreeMark at 0x7f807a4baa90>)"
      ]
     },
     "execution_count": 20,
     "metadata": {},
     "output_type": "execute_result"
    },
    {
     "data": {
      "text/html": [
       "<div class=\"toyplot\" id=\"t8c6f673b0075430cb7820b9a7583f488\" style=\"text-align:center\"><svg class=\"toyplot-canvas-Canvas\" xmlns:toyplot=\"http://www.sandia.gov/toyplot\" xmlns:xlink=\"http://www.w3.org/1999/xlink\" xmlns=\"http://www.w3.org/2000/svg\" width=\"260.0px\" height=\"275.0px\" viewBox=\"0 0 260.0 275.0\" preserveAspectRatio=\"xMidYMid meet\" style=\"background-color:transparent;border-color:#292724;border-style:none;border-width:1.0;fill:rgb(16.1%,15.3%,14.1%);fill-opacity:1.0;font-family:Helvetica;font-size:12px;opacity:1.0;stroke:rgb(16.1%,15.3%,14.1%);stroke-opacity:1.0;stroke-width:1.0\" id=\"t7f4946e049a74a41b47f684a0098c08e\"><g class=\"toyplot-coordinates-Cartesian\" id=\"td62dce5fdde14633affaef819f4864c7\"><clipPath id=\"t5b0c25d6aa554f89ac844285f3d276da\"><rect x=\"30.0\" y=\"30.0\" width=\"200.0\" height=\"215.0\"></rect></clipPath><g clip-path=\"url(#t5b0c25d6aa554f89ac844285f3d276da)\"><g class=\"toytree-mark-Toytree\" id=\"tf0610d78f5994a6395612146bd809366\"><g class=\"toytree-Edges\" style=\"fill:none;stroke:rgb(14.9%,14.9%,14.9%);stroke-linecap:round;stroke-opacity:1;stroke-width:2\"><path d=\"M 51.8 100.1 L 51.8 69.5 L 75.4 69.5\" id=\"18,17\"></path><path d=\"M 51.8 100.1 L 51.8 130.6 L 75.4 130.6\" id=\"18,16\"></path><path d=\"M 75.4 130.6 L 75.4 103.5 L 99.0 103.5\" id=\"16,15\"></path><path d=\"M 75.4 130.6 L 75.4 157.7 L 99.0 157.7\" id=\"16,14\"></path><path d=\"M 99.0 157.7 L 99.0 137.5 L 122.6 137.5\" id=\"14,13\"></path><path d=\"M 99.0 157.7 L 99.0 177.9 L 122.6 177.9\" id=\"14,12\"></path><path d=\"M 122.6 177.9 L 122.6 192.7 L 146.2 192.7\" id=\"12,11\"></path><path d=\"M 146.2 192.7 L 146.2 205.5 L 169.9 205.5\" id=\"11,10\"></path><path d=\"M 75.4 69.5 L 75.4 61.0 L 193.5 61.0\" id=\"17,9\"></path><path d=\"M 75.4 69.5 L 75.4 78.0 L 193.5 78.0\" id=\"17,8\"></path><path d=\"M 99.0 103.5 L 99.0 95.0 L 193.5 95.0\" id=\"15,7\"></path><path d=\"M 99.0 103.5 L 99.0 112.0 L 193.5 112.0\" id=\"15,6\"></path><path d=\"M 122.6 137.5 L 122.6 129.0 L 193.5 129.0\" id=\"13,5\"></path><path d=\"M 122.6 137.5 L 122.6 146.0 L 193.5 146.0\" id=\"13,4\"></path><path d=\"M 122.6 177.9 L 122.6 163.0 L 193.5 163.0\" id=\"12,3\"></path><path d=\"M 146.2 192.7 L 146.2 180.0 L 193.5 180.0\" id=\"11,2\"></path><path d=\"M 169.9 205.5 L 169.9 197.0 L 193.5 197.0\" id=\"10,1\"></path><path d=\"M 169.9 205.5 L 169.9 214.0 L 193.5 214.0\" id=\"10,0\"></path></g><g class=\"toytree-TipLabels\" style=\"fill:rgb(14.9%,14.9%,14.9%);fill-opacity:1.0;font-family:helvetica;font-size:11px;font-weight:normal;stroke:none;white-space:pre\"><g transform=\"translate(193.47,213.99)rotate(0)\"><text x=\"15.00\" y=\"2.81\" style=\"\">r0</text></g><g transform=\"translate(193.47,196.99)rotate(0)\"><text x=\"15.00\" y=\"2.81\" style=\"\">r1</text></g><g transform=\"translate(193.47,179.99)rotate(0)\"><text x=\"15.00\" y=\"2.81\" style=\"\">r2</text></g><g transform=\"translate(193.47,163.00)rotate(0)\"><text x=\"15.00\" y=\"2.81\" style=\"\">r3</text></g><g transform=\"translate(193.47,146.00)rotate(0)\"><text x=\"15.00\" y=\"2.81\" style=\"\">r4</text></g><g transform=\"translate(193.47,129.00)rotate(0)\"><text x=\"15.00\" y=\"2.81\" style=\"\">r5</text></g><g transform=\"translate(193.47,112.00)rotate(0)\"><text x=\"15.00\" y=\"2.81\" style=\"\">r6</text></g><g transform=\"translate(193.47,95.01)rotate(0)\"><text x=\"15.00\" y=\"2.81\" style=\"\">r7</text></g><g transform=\"translate(193.47,78.01)rotate(0)\"><text x=\"15.00\" y=\"2.81\" style=\"\">r8</text></g><g transform=\"translate(193.47,61.01)rotate(0)\"><text x=\"15.00\" y=\"2.81\" style=\"\">r9</text></g></g></g></g></g></svg><div class=\"toyplot-behavior\"><script>(function()\n",
       "{\n",
       "var modules={};\n",
       "})();</script></div></div>"
      ]
     },
     "metadata": {},
     "output_type": "display_data"
    }
   ],
   "source": [
    "tree = toytree.rtree.unittree(ntips = 10)\n",
    "tree.draw()"
   ]
  },
  {
   "cell_type": "code",
   "execution_count": 42,
   "id": "appreciated-offering",
   "metadata": {},
   "outputs": [
    {
     "name": "stdout",
     "output_type": "stream",
     "text": [
      "10:00 | INFO    | \u001b[1m\u001b[35moptimize       \u001b[0m\u001b[1m\u001b[0m | \u001b[1m{'alpha': 1.025604, 'beta': 0.584925, 'Lik': -0.002575, 'negLogLik': 5.96, 'convergence': True}\u001b[0m\n"
     ]
    }
   ],
   "source": [
    "model = hogtie.BinaryStateModel(TREE, DATA)\n",
    "model.optimize()"
   ]
  },
  {
   "cell_type": "code",
   "execution_count": 43,
   "id": "terminal-break",
   "metadata": {},
   "outputs": [
    {
     "data": {
      "text/plain": [
       "5.96"
      ]
     },
     "execution_count": 43,
     "metadata": {},
     "output_type": "execute_result"
    }
   ],
   "source": [
    "model.log_lik"
   ]
  },
  {
   "cell_type": "code",
   "execution_count": 44,
   "id": "meaning-crest",
   "metadata": {},
   "outputs": [
    {
     "data": {
      "text/plain": [
       "array([[0.48181443, 0.51818557],\n",
       "       [0.30632235, 0.69367765],\n",
       "       [0.65678295, 0.34321705],\n",
       "       [0.58701247, 0.41298753],\n",
       "       [0.11307941, 0.88692059],\n",
       "       [0.16262517, 0.83737483],\n",
       "       [0.94785669, 0.05214331],\n",
       "       [0.05444168, 0.94555832],\n",
       "       [0.9772489 , 0.0227511 ],\n",
       "       [0.        , 1.        ],\n",
       "       [1.        , 0.        ],\n",
       "       [0.        , 1.        ],\n",
       "       [0.        , 1.        ],\n",
       "       [0.        , 1.        ],\n",
       "       [0.        , 1.        ],\n",
       "       [0.        , 1.        ],\n",
       "       [1.        , 0.        ],\n",
       "       [1.        , 0.        ],\n",
       "       [1.        , 0.        ]])"
      ]
     },
     "execution_count": 44,
     "metadata": {},
     "output_type": "execute_result"
    }
   ],
   "source": [
    "model.tree.get_node_values('likelihood',True,True)"
   ]
  },
  {
   "cell_type": "code",
   "execution_count": 46,
   "id": "thorough-calculator",
   "metadata": {},
   "outputs": [
    {
     "name": "stdout",
     "output_type": "stream",
     "text": [
      "\n",
      "    Ancestral Character Estimation\n",
      "\n",
      "Call: ace(x = data, phy = tree, type = \"discrete\", model = \"ARD\", use.expm = FALSE, \n",
      "    marginal = TRUE)\n",
      "\n",
      "    Log-likelihood: -5.268686 \n",
      "\n",
      "Rate index matrix:\n",
      "  0 1\n",
      "0 . 2\n",
      "1 1 .\n",
      "\n",
      "Parameter estimates:\n",
      " rate index estimate std-err\n",
      "          1   0.5849  0.4291\n",
      "          2   1.0256  0.6947\n",
      "\n",
      "Scaled likelihoods at the root (type '...$lik.anc' to get them for all nodes):\n",
      "        0         1 \n",
      "0.4818151 0.5181849 \n",
      "               0          1\n",
      " [1,] 0.48181510 0.51818490\n",
      " [2,] 0.30632691 0.69367309\n",
      " [3,] 0.58700949 0.41299051\n",
      " [4,] 0.11308474 0.88691526\n",
      " [5,] 0.05444436 0.94555564\n",
      " [6,] 0.65677934 0.34322066\n",
      " [7,] 0.16263154 0.83736846\n",
      " [8,] 0.94785282 0.05214718\n",
      " [9,] 0.97724724 0.02275276\n",
      "\n"
     ]
    }
   ],
   "source": [
    "out = subprocess.run([\n",
    "    \"Rscript\", \n",
    "    \"-e\", \"library(ape)\",\n",
    "    \"-e\", f\"tree <- read.tree(text='{TREE.newick}')\",\n",
    "    \"-e\", f\"data <- c{tuple(DATA[::-1])}\",\n",
    "    \"-e\", \"object <- ace(data, tree, marginal=TRUE, type='discrete', model='ARD', use.expm=FALSE)\",\n",
    "    \"-e\", \"print(object)\",\n",
    "    \"-e\", \"print(object$lik.anc)\",\n",
    "    ], capture_output=True,\n",
    ")\n",
    "\n",
    "print(out.stdout.decode())"
   ]
  }
 ],
 "metadata": {
  "kernelspec": {
   "display_name": "Python 3",
   "language": "python",
   "name": "python3"
  },
  "language_info": {
   "codemirror_mode": {
    "name": "ipython",
    "version": 3
   },
   "file_extension": ".py",
   "mimetype": "text/x-python",
   "name": "python",
   "nbconvert_exporter": "python",
   "pygments_lexer": "ipython3",
   "version": "3.8.5"
  }
 },
 "nbformat": 4,
 "nbformat_minor": 5
}
