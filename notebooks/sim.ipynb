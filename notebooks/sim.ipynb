{
 "cells": [
  {
   "cell_type": "code",
   "execution_count": 1,
   "id": "conditional-power",
   "metadata": {},
   "outputs": [],
   "source": [
    "import ipcoal\n",
    "import toytree"
   ]
  },
  {
   "cell_type": "code",
   "execution_count": 2,
   "id": "biological-novelty",
   "metadata": {},
   "outputs": [],
   "source": [
    "sim_tree = toytree.rtree.unittree(ntips = 10, treeheight=5.)"
   ]
  },
  {
   "cell_type": "code",
   "execution_count": 5,
   "id": "vertical-alias",
   "metadata": {},
   "outputs": [],
   "source": [
    "mod = ipcoal.Model(sim_tree, Ne=10000, admixture_edges=(3,5,0.5,0.01))"
   ]
  },
  {
   "cell_type": "code",
   "execution_count": 7,
   "id": "cardiovascular-architect",
   "metadata": {},
   "outputs": [
    {
     "data": {
      "text/plain": [
       "(<toyplot.canvas.Canvas at 0x7fa29398e4f0>,\n",
       " <toyplot.coordinates.Cartesian at 0x7fa29398ee50>,\n",
       " <toytree.Render.ToytreeMark at 0x7fa293751400>)"
      ]
     },
     "execution_count": 7,
     "metadata": {},
     "output_type": "execute_result"
    },
    {
     "data": {
      "text/html": [
       "<div class=\"toyplot\" id=\"t7b5100ad69ac4b80aa38c5cc49922af7\" style=\"text-align:center\"><svg class=\"toyplot-canvas-Canvas\" xmlns:toyplot=\"http://www.sandia.gov/toyplot\" xmlns:xlink=\"http://www.w3.org/1999/xlink\" xmlns=\"http://www.w3.org/2000/svg\" width=\"350.0px\" height=\"260.0px\" viewBox=\"0 0 350.0 260.0\" preserveAspectRatio=\"xMidYMid meet\" style=\"background-color:transparent;border-color:#292724;border-style:none;border-width:1.0;fill:rgb(16.1%,15.3%,14.1%);fill-opacity:1.0;font-family:Helvetica;font-size:12px;opacity:1.0;stroke:rgb(16.1%,15.3%,14.1%);stroke-opacity:1.0;stroke-width:1.0\" id=\"tdd7f12d0b90d4a42802c65d8c0a8ec90\"><g class=\"toyplot-coordinates-Cartesian\" id=\"t4d886f0a1b1443e69cca2b042a5c6da3\"><clipPath id=\"t3c840d95806d427b856f8519ad7d12fe\"><rect x=\"30.0\" y=\"30.0\" width=\"290.0\" height=\"200.0\"></rect></clipPath><g clip-path=\"url(#t3c840d95806d427b856f8519ad7d12fe)\"><g class=\"toytree-mark-Toytree\" id=\"t9f7b0f445b4247daa988de4628a1bc22\"><g class=\"toytree-Edges\" style=\"fill:none;stroke:rgb(14.9%,14.9%,14.9%);stroke-linecap:round;stroke-opacity:1;stroke-width:2.0\"><path d=\"M 184.3 61.5 L 246.3 92.2\" id=\"18,17\"></path><path d=\"M 184.3 61.5 L 122.3 92.2\" id=\"18,16\"></path><path d=\"M 246.3 92.2 L 274.2 122.8\" id=\"17,15\"></path><path d=\"M 246.3 92.2 L 218.4 122.8\" id=\"17,14\"></path><path d=\"M 122.3 92.2 L 150.2 122.8\" id=\"16,13\"></path><path d=\"M 122.3 92.2 L 94.4 122.8\" id=\"16,12\"></path><path d=\"M 218.4 122.8 L 199.8 153.5\" id=\"14,11\"></path><path d=\"M 94.4 122.8 L 75.8 153.5\" id=\"12,10\"></path><path d=\"M 274.2 122.8 L 286.6 184.2\" id=\"15,9\"></path><path d=\"M 274.2 122.8 L 261.8 184.2\" id=\"15,8\"></path><path d=\"M 218.4 122.8 L 237.0 184.2\" id=\"14,7\"></path><path d=\"M 199.8 153.5 L 212.2 184.2\" id=\"11,6\"></path><path d=\"M 199.8 153.5 L 187.4 184.2\" id=\"11,5\"></path><path d=\"M 150.2 122.8 L 162.6 184.2\" id=\"13,4\"></path><path d=\"M 150.2 122.8 L 137.8 184.2\" id=\"13,3\"></path><path d=\"M 94.4 122.8 L 113.0 184.2\" id=\"12,2\"></path><path d=\"M 75.8 153.5 L 88.2 184.2\" id=\"10,1\"></path><path d=\"M 75.8 153.5 L 63.4 184.2\" id=\"10,0\"></path></g><g class=\"toytree-AdmixEdges\" style=\"fill:none;font-size:14px;stroke:rgba(90.6%,54.1%,76.5%,1.000);stroke-linecap:round;stroke-opacity:0.6;stroke-width:5\"><path d=\"M 137.8 184.2 L 140.9 168.8 L 193.6 168.8 L 199.8 153.5\" style=\"stroke:rgb(98.8%,55.3%,38.4%);stroke-opacity:0.7\"></path></g><g class=\"toytree-Nodes\" style=\"fill:rgb(40%,76.1%,64.7%);fill-opacity:1.0;stroke:rgb(14.9%,14.9%,14.9%);stroke-opacity:1.0;stroke-width:1\"><g id=\"node-0\" transform=\"translate(63.393,184.184)\"><circle r=\"7.5\"></circle></g><g id=\"node-1\" transform=\"translate(88.194,184.184)\"><circle r=\"7.5\"></circle></g><g id=\"node-2\" transform=\"translate(112.996,184.184)\"><circle r=\"7.5\"></circle></g><g id=\"node-3\" transform=\"translate(137.798,184.184)\"><circle r=\"7.5\"></circle></g><g id=\"node-4\" transform=\"translate(162.599,184.184)\"><circle r=\"7.5\"></circle></g><g id=\"node-5\" transform=\"translate(187.401,184.184)\"><circle r=\"7.5\"></circle></g><g id=\"node-6\" transform=\"translate(212.202,184.184)\"><circle r=\"7.5\"></circle></g><g id=\"node-7\" transform=\"translate(237.004,184.184)\"><circle r=\"7.5\"></circle></g><g id=\"node-8\" transform=\"translate(261.806,184.184)\"><circle r=\"7.5\"></circle></g><g id=\"node-9\" transform=\"translate(286.607,184.184)\"><circle r=\"7.5\"></circle></g><g id=\"node-10\" transform=\"translate(75.794,153.513)\"><circle r=\"7.5\"></circle></g><g id=\"node-11\" transform=\"translate(199.802,153.513)\"><circle r=\"7.5\"></circle></g><g id=\"node-12\" transform=\"translate(94.395,122.843)\"><circle r=\"7.5\"></circle></g><g id=\"node-13\" transform=\"translate(150.198,122.843)\"><circle r=\"7.5\"></circle></g><g id=\"node-14\" transform=\"translate(218.403,122.843)\"><circle r=\"7.5\"></circle></g><g id=\"node-15\" transform=\"translate(274.206,122.843)\"><circle r=\"7.5\"></circle></g><g id=\"node-16\" transform=\"translate(122.297,92.172)\"><circle r=\"7.5\"></circle></g><g id=\"node-17\" transform=\"translate(246.305,92.172)\"><circle r=\"7.5\"></circle></g><g id=\"node-18\" transform=\"translate(184.301,61.501)\"><circle r=\"7.5\"></circle></g></g><g class=\"toytree-NodeLabels\" style=\"fill:rgb(14.9%,14.9%,14.9%);fill-opacity:1.0;font-size:9px;stroke:none\"><g transform=\"translate(60.89,186.48)\"><text>0</text></g><g transform=\"translate(85.69,186.48)\"><text>1</text></g><g transform=\"translate(110.49,186.48)\"><text>2</text></g><g transform=\"translate(135.30,186.48)\"><text>3</text></g><g transform=\"translate(160.10,186.48)\"><text>4</text></g><g transform=\"translate(184.90,186.48)\"><text>5</text></g><g transform=\"translate(209.70,186.48)\"><text>6</text></g><g transform=\"translate(234.50,186.48)\"><text>7</text></g><g transform=\"translate(259.30,186.48)\"><text>8</text></g><g transform=\"translate(284.11,186.48)\"><text>9</text></g><g transform=\"translate(70.79,155.81)\"><text>10</text></g><g transform=\"translate(194.80,155.81)\"><text>11</text></g><g transform=\"translate(89.39,125.14)\"><text>12</text></g><g transform=\"translate(145.19,125.14)\"><text>13</text></g><g transform=\"translate(213.40,125.14)\"><text>14</text></g><g transform=\"translate(269.20,125.14)\"><text>15</text></g><g transform=\"translate(117.29,94.47)\"><text>16</text></g><g transform=\"translate(241.30,94.47)\"><text>17</text></g><g transform=\"translate(179.30,63.80)\"><text>18</text></g></g><g class=\"toytree-TipLabels\" style=\"fill:rgb(14.9%,14.9%,14.9%);fill-opacity:1.0;font-family:helvetica;font-size:11px;font-weight:normal;stroke:none;white-space:pre\"><g transform=\"translate(63.39,184.18)rotate(-90)\"><text x=\"-24.78\" y=\"2.81\" style=\"\">r0</text></g><g transform=\"translate(88.19,184.18)rotate(-90)\"><text x=\"-24.78\" y=\"2.81\" style=\"\">r1</text></g><g transform=\"translate(113.00,184.18)rotate(-90)\"><text x=\"-24.78\" y=\"2.81\" style=\"\">r2</text></g><g transform=\"translate(137.80,184.18)rotate(-90)\"><text x=\"-24.78\" y=\"2.81\" style=\"\">r3</text></g><g transform=\"translate(162.60,184.18)rotate(-90)\"><text x=\"-24.78\" y=\"2.81\" style=\"\">r4</text></g><g transform=\"translate(187.40,184.18)rotate(-90)\"><text x=\"-24.78\" y=\"2.81\" style=\"\">r5</text></g><g transform=\"translate(212.20,184.18)rotate(-90)\"><text x=\"-24.78\" y=\"2.81\" style=\"\">r6</text></g><g transform=\"translate(237.00,184.18)rotate(-90)\"><text x=\"-24.78\" y=\"2.81\" style=\"\">r7</text></g><g transform=\"translate(261.81,184.18)rotate(-90)\"><text x=\"-24.78\" y=\"2.81\" style=\"\">r8</text></g><g transform=\"translate(286.61,184.18)rotate(-90)\"><text x=\"-24.78\" y=\"2.81\" style=\"\">r9</text></g></g></g></g><g class=\"toyplot-coordinates-Axis\" id=\"t52624a83e3c1430fa25fa8dbb8265a33\" transform=\"translate(50.0,210.0)rotate(-90.0)translate(0,-20.0)\"><line x1=\"25.81619694348465\" y1=\"0\" x2=\"148.4985311665844\" y2=\"0\" style=\"\"></line><g><line x1=\"25.81619694348465\" y1=\"0\" x2=\"25.81619694348465\" y2=\"5\" style=\"\"></line><line x1=\"87.15736405503452\" y1=\"0\" x2=\"87.15736405503452\" y2=\"5\" style=\"\"></line><line x1=\"148.4985311665844\" y1=\"0\" x2=\"148.4985311665844\" y2=\"5\" style=\"\"></line></g><g><g transform=\"translate(25.81619694348465,-6)\"><text x=\"-2.78\" y=\"-4.440892098500626e-16\" style=\"fill:rgb(16.1%,15.3%,14.1%);fill-opacity:1.0;font-family:helvetica;font-size:10.0px;font-weight:normal;stroke:none;vertical-align:baseline;white-space:pre\">0</text></g><g transform=\"translate(87.15736405503452,-6)\"><text x=\"-2.78\" y=\"-4.440892098500626e-16\" style=\"fill:rgb(16.1%,15.3%,14.1%);fill-opacity:1.0;font-family:helvetica;font-size:10.0px;font-weight:normal;stroke:none;vertical-align:baseline;white-space:pre\">2</text></g><g transform=\"translate(148.4985311665844,-6)\"><text x=\"-2.78\" y=\"-4.440892098500626e-16\" style=\"fill:rgb(16.1%,15.3%,14.1%);fill-opacity:1.0;font-family:helvetica;font-size:10.0px;font-weight:normal;stroke:none;vertical-align:baseline;white-space:pre\">5</text></g></g><g class=\"toyplot-coordinates-Axis-coordinates\" style=\"visibility:hidden\" transform=\"\"><line x1=\"0\" x2=\"0\" y1=\"3.0\" y2=\"-4.5\" style=\"stroke:rgb(43.9%,50.2%,56.5%);stroke-opacity:1.0;stroke-width:1.0\"></line><text x=\"0\" y=\"6\" style=\"alignment-baseline:hanging;fill:rgb(43.9%,50.2%,56.5%);fill-opacity:1.0;font-size:10px;font-weight:normal;stroke:none;text-anchor:middle\"></text></g></g></g></svg><div class=\"toyplot-behavior\"><script>(function()\n",
       "{\n",
       "var modules={};\n",
       "modules[\"toyplot/canvas/id\"] = \"tdd7f12d0b90d4a42802c65d8c0a8ec90\";\n",
       "modules[\"toyplot/canvas\"] = (function(canvas_id)\n",
       "    {\n",
       "        return document.querySelector(\"#\" + canvas_id);\n",
       "    })(modules[\"toyplot/canvas/id\"]);\n",
       "modules[\"toyplot.coordinates.Axis\"] = (\n",
       "        function(canvas)\n",
       "        {\n",
       "            function sign(x)\n",
       "            {\n",
       "                return x < 0 ? -1 : x > 0 ? 1 : 0;\n",
       "            }\n",
       "\n",
       "            function mix(a, b, amount)\n",
       "            {\n",
       "                return ((1.0 - amount) * a) + (amount * b);\n",
       "            }\n",
       "\n",
       "            function log(x, base)\n",
       "            {\n",
       "                return Math.log(Math.abs(x)) / Math.log(base);\n",
       "            }\n",
       "\n",
       "            function in_range(a, x, b)\n",
       "            {\n",
       "                var left = Math.min(a, b);\n",
       "                var right = Math.max(a, b);\n",
       "                return left <= x && x <= right;\n",
       "            }\n",
       "\n",
       "            function inside(range, projection)\n",
       "            {\n",
       "                for(var i = 0; i != projection.length; ++i)\n",
       "                {\n",
       "                    var segment = projection[i];\n",
       "                    if(in_range(segment.range.min, range, segment.range.max))\n",
       "                        return true;\n",
       "                }\n",
       "                return false;\n",
       "            }\n",
       "\n",
       "            function to_domain(range, projection)\n",
       "            {\n",
       "                for(var i = 0; i != projection.length; ++i)\n",
       "                {\n",
       "                    var segment = projection[i];\n",
       "                    if(in_range(segment.range.bounds.min, range, segment.range.bounds.max))\n",
       "                    {\n",
       "                        if(segment.scale == \"linear\")\n",
       "                        {\n",
       "                            var amount = (range - segment.range.min) / (segment.range.max - segment.range.min);\n",
       "                            return mix(segment.domain.min, segment.domain.max, amount)\n",
       "                        }\n",
       "                        else if(segment.scale[0] == \"log\")\n",
       "                        {\n",
       "                            var amount = (range - segment.range.min) / (segment.range.max - segment.range.min);\n",
       "                            var base = segment.scale[1];\n",
       "                            return sign(segment.domain.min) * Math.pow(base, mix(log(segment.domain.min, base), log(segment.domain.max, base), amount));\n",
       "                        }\n",
       "                    }\n",
       "                }\n",
       "            }\n",
       "\n",
       "            var axes = {};\n",
       "\n",
       "            function display_coordinates(e)\n",
       "            {\n",
       "                var current = canvas.createSVGPoint();\n",
       "                current.x = e.clientX;\n",
       "                current.y = e.clientY;\n",
       "\n",
       "                for(var axis_id in axes)\n",
       "                {\n",
       "                    var axis = document.querySelector(\"#\" + axis_id);\n",
       "                    var coordinates = axis.querySelector(\".toyplot-coordinates-Axis-coordinates\");\n",
       "                    if(coordinates)\n",
       "                    {\n",
       "                        var projection = axes[axis_id];\n",
       "                        var local = current.matrixTransform(axis.getScreenCTM().inverse());\n",
       "                        if(inside(local.x, projection))\n",
       "                        {\n",
       "                            var domain = to_domain(local.x, projection);\n",
       "                            coordinates.style.visibility = \"visible\";\n",
       "                            coordinates.setAttribute(\"transform\", \"translate(\" + local.x + \")\");\n",
       "                            var text = coordinates.querySelector(\"text\");\n",
       "                            text.textContent = domain.toFixed(2);\n",
       "                        }\n",
       "                        else\n",
       "                        {\n",
       "                            coordinates.style.visibility= \"hidden\";\n",
       "                        }\n",
       "                    }\n",
       "                }\n",
       "            }\n",
       "\n",
       "            canvas.addEventListener(\"click\", display_coordinates);\n",
       "\n",
       "            var module = {};\n",
       "            module.show_coordinates = function(axis_id, projection)\n",
       "            {\n",
       "                axes[axis_id] = projection;\n",
       "            }\n",
       "\n",
       "            return module;\n",
       "        })(modules[\"toyplot/canvas\"]);\n",
       "(function(axis, axis_id, projection)\n",
       "        {\n",
       "            axis.show_coordinates(axis_id, projection);\n",
       "        })(modules[\"toyplot.coordinates.Axis\"],\"t52624a83e3c1430fa25fa8dbb8265a33\",[{\"domain\": {\"bounds\": {\"max\": Infinity, \"min\": -Infinity}, \"max\": 5.46875, \"min\": -1.0521562499999995}, \"range\": {\"bounds\": {\"max\": Infinity, \"min\": -Infinity}, \"max\": 160.0, \"min\": 0.0}, \"scale\": \"linear\"}]);\n",
       "})();</script></div></div>"
      ]
     },
     "metadata": {},
     "output_type": "display_data"
    }
   ],
   "source": [
    "mod.draw_sptree()"
   ]
  },
  {
   "cell_type": "code",
   "execution_count": 12,
   "id": "retired-advertiser",
   "metadata": {},
   "outputs": [],
   "source": [
    "mod.sim_snps(100)"
   ]
  }
 ],
 "metadata": {
  "kernelspec": {
   "display_name": "Python 3",
   "language": "python",
   "name": "python3"
  },
  "language_info": {
   "codemirror_mode": {
    "name": "ipython",
    "version": 3
   },
   "file_extension": ".py",
   "mimetype": "text/x-python",
   "name": "python",
   "nbconvert_exporter": "python",
   "pygments_lexer": "ipython3",
   "version": "3.8.5"
  }
 },
 "nbformat": 4,
 "nbformat_minor": 5
}
