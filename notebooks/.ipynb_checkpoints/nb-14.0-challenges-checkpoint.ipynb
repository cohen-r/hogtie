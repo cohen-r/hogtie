{
 "cells": [
  {
   "cell_type": "markdown",
   "id": "instrumental-pride",
   "metadata": {},
   "source": [
    "## Python challenges\n",
    "\n",
    "This notebook includes a series of challenges to test your Python coding skills. If you get stuck, try googling for answers. If you don't understand *why* a particular answer works, try searching for the answer to that question. Revisit old tutorials from this class as needed, and finally, turn to the course chatroom for help. Best of luck."
   ]
  },
  {
   "cell_type": "code",
   "execution_count": null,
   "id": "patent-celtic",
   "metadata": {},
   "outputs": [],
   "source": [
    "# required software\n",
    "# conda install numpy pandas toyplot requests -c conda-forge"
   ]
  },
  {
   "cell_type": "code",
   "execution_count": 1,
   "id": "embedded-quantum",
   "metadata": {},
   "outputs": [],
   "source": [
    "import requests\n",
    "import numpy as np\n",
    "import pandas as pd\n",
    "import toyplot"
   ]
  },
  {
   "cell_type": "markdown",
   "id": "ignored-theorem",
   "metadata": {},
   "source": [
    "### Challenge 1: \n",
    "Execute the code cell below to see an example of how it works. \n",
    "Use markdown in the cell after the code-block to describe the function `random_words_api`. Try to be descriptive about what each step of code in this function does, and why it works. "
   ]
  },
  {
   "cell_type": "code",
   "execution_count": 2,
   "id": "pregnant-certificate",
   "metadata": {},
   "outputs": [
    {
     "data": {
      "text/plain": [
       "['rosinweeds', 'goatherds', 'rhymester', 'icon', 'plantar']"
      ]
     },
     "execution_count": 2,
     "metadata": {},
     "output_type": "execute_result"
    }
   ],
   "source": [
    "def random_words_api(nwords=10):\n",
    "    \"no docstring\"\n",
    "    URL = \"https://random-word-api.herokuapp.com/word\"\n",
    "    response = requests.get(url=URL, params={\"number\": nwords})\n",
    "    return response.json()\n",
    "\n",
    "# demonstration\n",
    "random_words_api(5)"
   ]
  },
  {
   "cell_type": "markdown",
   "id": "sought-plenty",
   "metadata": {},
   "source": [
    "**Description:** \n",
    "This function queries a random words app that's hosted through heroku to get a certain number of random words."
   ]
  },
  {
   "cell_type": "markdown",
   "id": "charming-portsmouth",
   "metadata": {},
   "source": [
    "### Challenge 2: \n",
    "Use the `random_words_api` function to get 50 random words and store the result as a variable. Write a function that takes the list of words as input and returns a dictionary with the longest word as the key and the length of the longest word as a value. If there is a tie in the length of words then have it return additional words as keys with their lengths as values."
   ]
  },
  {
   "cell_type": "code",
   "execution_count": 3,
   "id": "amino-springfield",
   "metadata": {},
   "outputs": [],
   "source": [
    "mywords = random_words_api(nwords=50)\n",
    "def longest_word(words):\n",
    "    long = max(words, key=len)\n",
    "    keys = []\n",
    "    values = []\n",
    "    for word in words:\n",
    "        if len(word) == len(long):\n",
    "            keys.append(word)\n",
    "            values.append(len(word))\n",
    "    return dict(zip(keys, values))"
   ]
  },
  {
   "cell_type": "code",
   "execution_count": 49,
   "id": "junior-principal",
   "metadata": {},
   "outputs": [
    {
     "data": {
      "text/plain": [
       "{'macroaggregates': 15}"
      ]
     },
     "execution_count": 49,
     "metadata": {},
     "output_type": "execute_result"
    }
   ],
   "source": [
    "longest_word(words = mywords)"
   ]
  },
  {
   "cell_type": "code",
   "execution_count": 4,
   "id": "powered-edward",
   "metadata": {},
   "outputs": [
    {
     "data": {
      "text/plain": [
       "{'eaten': 5, 'carly': 5}"
      ]
     },
     "execution_count": 4,
     "metadata": {},
     "output_type": "execute_result"
    }
   ],
   "source": [
    "mywords2 = ['eaten', 'carly']\n",
    "longest_word(words = mywords2)"
   ]
  },
  {
   "cell_type": "markdown",
   "id": "happy-filing",
   "metadata": {},
   "source": [
    "### Challenge 3: \n",
    "Write a function to take the list of words as input and trim all words to be at most 5 characters in length, and return as a list."
   ]
  },
  {
   "cell_type": "code",
   "execution_count": 5,
   "id": "outdoor-convention",
   "metadata": {},
   "outputs": [],
   "source": [
    "def wordtrim(words):\n",
    "    fives = []\n",
    "    for word in words:\n",
    "        short = word[:5]\n",
    "        fives.append(short)\n",
    "    return fives"
   ]
  },
  {
   "cell_type": "code",
   "execution_count": 7,
   "id": "healthy-survivor",
   "metadata": {},
   "outputs": [],
   "source": [
    "#wordtrim(words = mywords)"
   ]
  },
  {
   "cell_type": "markdown",
   "id": "minute-plasma",
   "metadata": {},
   "source": [
    "### Challenge 4: \n",
    "Write a function to take a list of words as input and to count the occurrence of all letters in every word and return as a dictionary mapping letters to integers., e.g., {'a': 10, 'b': 3, 'c': 5, ...}.  "
   ]
  },
  {
   "cell_type": "code",
   "execution_count": 24,
   "id": "current-sally",
   "metadata": {},
   "outputs": [],
   "source": [
    "def lettercount(words):\n",
    "    counts={}\n",
    "    for word in words:\n",
    "        for letter in word:\n",
    "            keys=counts.keys()\n",
    "            if letter in keys:\n",
    "                counts[letter]+=1\n",
    "            else:\n",
    "                counts[letter]=1\n",
    "            sorted counts = \n",
    "    return counts"
   ]
  },
  {
   "cell_type": "code",
   "execution_count": 64,
   "id": "focused-marble",
   "metadata": {},
   "outputs": [
    {
     "name": "stdout",
     "output_type": "stream",
     "text": [
      "26\n",
      "26\n",
      "26\n",
      "26\n"
     ]
    }
   ],
   "source": [
    "worddict = lettercount(words = mywords)\n",
    "list1 = list(worddict.keys())\n",
    "np.array(list1)\n",
    "list2 = list(worddict.values())\n",
    "print(len(list1))\n",
    "print(len(list2))\n",
    "\n",
    "x = np.array(list1)\n",
    "y = np.array(list2)\n",
    "\n",
    "print(len(x))\n",
    "print(len(y))"
   ]
  },
  {
   "cell_type": "markdown",
   "id": "tough-devon",
   "metadata": {},
   "source": [
    "### Challenge 5:\n",
    "Use [toyplot](https://toyplot.readthedocs.io/en/stable/tutorial.html) to create a barplot of the occurrences of each letter in your dictionary from the previous challenge. This will represent a histogram of the letters. Play with the size and color of the figure to try to make it look nice."
   ]
  },
  {
   "cell_type": "code",
   "execution_count": 67,
   "id": "enormous-addition",
   "metadata": {},
   "outputs": [
    {
     "ename": "ValueError",
     "evalue": "Expected 25 values, received 26",
     "output_type": "error",
     "traceback": [
      "\u001b[0;31m---------------------------------------------------------------------------\u001b[0m",
      "\u001b[0;31mValueError\u001b[0m                                Traceback (most recent call last)",
      "\u001b[0;32m<ipython-input-67-72944b9f3cae>\u001b[0m in \u001b[0;36m<module>\u001b[0;34m\u001b[0m\n\u001b[1;32m      3\u001b[0m \u001b[0mvalues\u001b[0m \u001b[0;34m=\u001b[0m \u001b[0mlist\u001b[0m\u001b[0;34m(\u001b[0m\u001b[0mworddict\u001b[0m\u001b[0;34m.\u001b[0m\u001b[0mvalues\u001b[0m\u001b[0;34m(\u001b[0m\u001b[0;34m)\u001b[0m\u001b[0;34m)\u001b[0m\u001b[0;34m\u001b[0m\u001b[0;34m\u001b[0m\u001b[0m\n\u001b[1;32m      4\u001b[0m \u001b[0mhist\u001b[0m \u001b[0;34m=\u001b[0m \u001b[0mnp\u001b[0m\u001b[0;34m.\u001b[0m\u001b[0marray\u001b[0m\u001b[0;34m(\u001b[0m\u001b[0mvalues\u001b[0m\u001b[0;34m)\u001b[0m\u001b[0;34m\u001b[0m\u001b[0;34m\u001b[0m\u001b[0m\n\u001b[0;32m----> 5\u001b[0;31m toyplot.bars(\n\u001b[0m\u001b[1;32m      6\u001b[0m     \u001b[0;34m(\u001b[0m\u001b[0mhist\u001b[0m\u001b[0;34m,\u001b[0m \u001b[0medges\u001b[0m\u001b[0;34m)\u001b[0m\u001b[0;34m,\u001b[0m\u001b[0;34m\u001b[0m\u001b[0;34m\u001b[0m\u001b[0m\n\u001b[1;32m      7\u001b[0m     \u001b[0mheight\u001b[0m\u001b[0;34m=\u001b[0m\u001b[0;36m200\u001b[0m\u001b[0;34m,\u001b[0m\u001b[0;34m\u001b[0m\u001b[0;34m\u001b[0m\u001b[0m\n",
      "\u001b[0;32m~/miniconda3/lib/python3.8/site-packages/toyplot/__init__.py\u001b[0m in \u001b[0;36mbars\u001b[0;34m(a, b, c, along, baseline, color, filename, height, hyperlink, label, margin, opacity, padding, show, style, title, width, xlabel, xmax, xmin, xscale, xshow, ylabel, ymax, ymin, yscale, yshow)\u001b[0m\n\u001b[1;32m     89\u001b[0m         )\n\u001b[1;32m     90\u001b[0m \u001b[0;34m\u001b[0m\u001b[0m\n\u001b[0;32m---> 91\u001b[0;31m     mark = axes.bars(\n\u001b[0m\u001b[1;32m     92\u001b[0m         \u001b[0ma\u001b[0m\u001b[0;34m=\u001b[0m\u001b[0ma\u001b[0m\u001b[0;34m,\u001b[0m\u001b[0;34m\u001b[0m\u001b[0;34m\u001b[0m\u001b[0m\n\u001b[1;32m     93\u001b[0m         \u001b[0mb\u001b[0m\u001b[0;34m=\u001b[0m\u001b[0mb\u001b[0m\u001b[0;34m,\u001b[0m\u001b[0;34m\u001b[0m\u001b[0;34m\u001b[0m\u001b[0m\n",
      "\u001b[0;32m~/miniconda3/lib/python3.8/site-packages/toyplot/coordinates.py\u001b[0m in \u001b[0;36mbars\u001b[0;34m(self, a, b, c, along, baseline, color, filename, hyperlink, opacity, style, title)\u001b[0m\n\u001b[1;32m   1286\u001b[0m                     \u001b[0mcounts\u001b[0m\u001b[0;34m,\u001b[0m \u001b[0medges\u001b[0m \u001b[0;34m=\u001b[0m \u001b[0ma\u001b[0m\u001b[0;34m\u001b[0m\u001b[0;34m\u001b[0m\u001b[0m\n\u001b[1;32m   1287\u001b[0m                     \u001b[0mposition\u001b[0m \u001b[0;34m=\u001b[0m \u001b[0mnumpy\u001b[0m\u001b[0;34m.\u001b[0m\u001b[0mma\u001b[0m\u001b[0;34m.\u001b[0m\u001b[0mcolumn_stack\u001b[0m\u001b[0;34m(\u001b[0m\u001b[0;34m(\u001b[0m\u001b[0medges\u001b[0m\u001b[0;34m[\u001b[0m\u001b[0;34m:\u001b[0m\u001b[0;34m-\u001b[0m\u001b[0;36m1\u001b[0m\u001b[0;34m]\u001b[0m\u001b[0;34m,\u001b[0m \u001b[0medges\u001b[0m\u001b[0;34m[\u001b[0m\u001b[0;36m1\u001b[0m\u001b[0;34m:\u001b[0m\u001b[0;34m]\u001b[0m\u001b[0;34m)\u001b[0m\u001b[0;34m)\u001b[0m\u001b[0;34m\u001b[0m\u001b[0;34m\u001b[0m\u001b[0m\n\u001b[0;32m-> 1288\u001b[0;31m                     \u001b[0mseries\u001b[0m \u001b[0;34m=\u001b[0m \u001b[0mnumpy\u001b[0m\u001b[0;34m.\u001b[0m\u001b[0mma\u001b[0m\u001b[0;34m.\u001b[0m\u001b[0mcolumn_stack\u001b[0m\u001b[0;34m(\u001b[0m\u001b[0;34m(\u001b[0m\u001b[0mtoyplot\u001b[0m\u001b[0;34m.\u001b[0m\u001b[0mrequire\u001b[0m\u001b[0;34m.\u001b[0m\u001b[0mscalar_vector\u001b[0m\u001b[0;34m(\u001b[0m\u001b[0mcounts\u001b[0m\u001b[0;34m,\u001b[0m \u001b[0mlen\u001b[0m\u001b[0;34m(\u001b[0m\u001b[0mposition\u001b[0m\u001b[0;34m)\u001b[0m\u001b[0;34m)\u001b[0m\u001b[0;34m,\u001b[0m \u001b[0;34m)\u001b[0m\u001b[0;34m)\u001b[0m\u001b[0;34m\u001b[0m\u001b[0;34m\u001b[0m\u001b[0m\n\u001b[0m\u001b[1;32m   1289\u001b[0m                 \u001b[0;32melse\u001b[0m\u001b[0;34m:\u001b[0m\u001b[0;34m\u001b[0m\u001b[0;34m\u001b[0m\u001b[0m\n\u001b[1;32m   1290\u001b[0m                     \u001b[0ma\u001b[0m \u001b[0;34m=\u001b[0m \u001b[0mtoyplot\u001b[0m\u001b[0;34m.\u001b[0m\u001b[0mrequire\u001b[0m\u001b[0;34m.\u001b[0m\u001b[0mscalar_array\u001b[0m\u001b[0;34m(\u001b[0m\u001b[0ma\u001b[0m\u001b[0;34m)\u001b[0m\u001b[0;34m\u001b[0m\u001b[0;34m\u001b[0m\u001b[0m\n",
      "\u001b[0;32m~/miniconda3/lib/python3.8/site-packages/toyplot/require.py\u001b[0m in \u001b[0;36mscalar_vector\u001b[0;34m(value, length, min_length, modulus)\u001b[0m\n\u001b[1;32m     74\u001b[0m \u001b[0;32mdef\u001b[0m \u001b[0mscalar_vector\u001b[0m\u001b[0;34m(\u001b[0m\u001b[0mvalue\u001b[0m\u001b[0;34m,\u001b[0m \u001b[0mlength\u001b[0m\u001b[0;34m=\u001b[0m\u001b[0;32mNone\u001b[0m\u001b[0;34m,\u001b[0m \u001b[0mmin_length\u001b[0m\u001b[0;34m=\u001b[0m\u001b[0;32mNone\u001b[0m\u001b[0;34m,\u001b[0m \u001b[0mmodulus\u001b[0m\u001b[0;34m=\u001b[0m\u001b[0;32mNone\u001b[0m\u001b[0;34m)\u001b[0m\u001b[0;34m:\u001b[0m\u001b[0;34m\u001b[0m\u001b[0;34m\u001b[0m\u001b[0m\n\u001b[1;32m     75\u001b[0m     \u001b[0;34m\"\"\"Raise an exception if a value isn't convertable to a 1D array of numbers.\"\"\"\u001b[0m\u001b[0;34m\u001b[0m\u001b[0;34m\u001b[0m\u001b[0m\n\u001b[0;32m---> 76\u001b[0;31m     \u001b[0;32mreturn\u001b[0m \u001b[0mvector\u001b[0m\u001b[0;34m(\u001b[0m\u001b[0mvalue\u001b[0m\u001b[0;34m,\u001b[0m \u001b[0mlength\u001b[0m\u001b[0;34m=\u001b[0m\u001b[0mlength\u001b[0m\u001b[0;34m,\u001b[0m \u001b[0mmin_length\u001b[0m\u001b[0;34m=\u001b[0m\u001b[0mmin_length\u001b[0m\u001b[0;34m,\u001b[0m \u001b[0mmodulus\u001b[0m\u001b[0;34m=\u001b[0m\u001b[0mmodulus\u001b[0m\u001b[0;34m)\u001b[0m\u001b[0;34m.\u001b[0m\u001b[0mastype\u001b[0m\u001b[0;34m(\u001b[0m\u001b[0;34m\"float64\"\u001b[0m\u001b[0;34m)\u001b[0m\u001b[0;34m\u001b[0m\u001b[0;34m\u001b[0m\u001b[0m\n\u001b[0m\u001b[1;32m     77\u001b[0m \u001b[0;34m\u001b[0m\u001b[0m\n\u001b[1;32m     78\u001b[0m \u001b[0;34m\u001b[0m\u001b[0m\n",
      "\u001b[0;32m~/miniconda3/lib/python3.8/site-packages/toyplot/require.py\u001b[0m in \u001b[0;36mvector\u001b[0;34m(value, length, min_length, modulus)\u001b[0m\n\u001b[1;32m     57\u001b[0m     \u001b[0;32mif\u001b[0m \u001b[0mlength\u001b[0m \u001b[0;32mis\u001b[0m \u001b[0;32mnot\u001b[0m \u001b[0;32mNone\u001b[0m\u001b[0;34m:\u001b[0m\u001b[0;34m\u001b[0m\u001b[0;34m\u001b[0m\u001b[0m\n\u001b[1;32m     58\u001b[0m         \u001b[0;32mif\u001b[0m \u001b[0mlen\u001b[0m\u001b[0;34m(\u001b[0m\u001b[0marray\u001b[0m\u001b[0;34m)\u001b[0m \u001b[0;34m!=\u001b[0m \u001b[0mlength\u001b[0m\u001b[0;34m:\u001b[0m\u001b[0;34m\u001b[0m\u001b[0;34m\u001b[0m\u001b[0m\n\u001b[0;32m---> 59\u001b[0;31m             \u001b[0;32mraise\u001b[0m \u001b[0mValueError\u001b[0m\u001b[0;34m(\u001b[0m\u001b[0;34m\"Expected %s values, received %s\"\u001b[0m \u001b[0;34m%\u001b[0m \u001b[0;34m(\u001b[0m\u001b[0mlength\u001b[0m\u001b[0;34m,\u001b[0m \u001b[0mlen\u001b[0m\u001b[0;34m(\u001b[0m\u001b[0marray\u001b[0m\u001b[0;34m)\u001b[0m\u001b[0;34m)\u001b[0m\u001b[0;34m)\u001b[0m \u001b[0;31m# pragma: no cover\u001b[0m\u001b[0;34m\u001b[0m\u001b[0;34m\u001b[0m\u001b[0m\n\u001b[0m\u001b[1;32m     60\u001b[0m     \u001b[0;32mif\u001b[0m \u001b[0mmin_length\u001b[0m \u001b[0;32mis\u001b[0m \u001b[0;32mnot\u001b[0m \u001b[0;32mNone\u001b[0m\u001b[0;34m:\u001b[0m\u001b[0;34m\u001b[0m\u001b[0;34m\u001b[0m\u001b[0m\n\u001b[1;32m     61\u001b[0m         \u001b[0;32mif\u001b[0m \u001b[0mlen\u001b[0m\u001b[0;34m(\u001b[0m\u001b[0marray\u001b[0m\u001b[0;34m)\u001b[0m \u001b[0;34m<\u001b[0m \u001b[0mmin_length\u001b[0m\u001b[0;34m:\u001b[0m\u001b[0;34m\u001b[0m\u001b[0;34m\u001b[0m\u001b[0m\n",
      "\u001b[0;31mValueError\u001b[0m: Expected 25 values, received 26"
     ]
    },
    {
     "data": {
      "text/html": [
       "<div class=\"toyplot\" id=\"tf80b345623bf4553a2857f4148470f3c\" style=\"text-align:center\"><svg class=\"toyplot-canvas-Canvas\" xmlns:toyplot=\"http://www.sandia.gov/toyplot\" xmlns:xlink=\"http://www.w3.org/1999/xlink\" xmlns=\"http://www.w3.org/2000/svg\" width=\"400.0px\" height=\"200.0px\" viewBox=\"0 0 400.0 200.0\" preserveAspectRatio=\"xMidYMid meet\" style=\"background-color:transparent;border-color:#292724;border-style:none;border-width:1.0;fill:rgb(16.1%,15.3%,14.1%);fill-opacity:1.0;font-family:Helvetica;font-size:12px;opacity:1.0;stroke:rgb(16.1%,15.3%,14.1%);stroke-opacity:1.0;stroke-width:1.0\" id=\"t4e50309594234427b497d4c6dd9f6ea6\"><g class=\"toyplot-coordinates-Cartesian\" id=\"t200cdd1638844dfdb67590d7f321de17\"><clipPath id=\"t0f37616b8f7b456f80772f48172a14e4\"><rect x=\"40.0\" y=\"40.0\" width=\"320.0\" height=\"120.0\"></rect></clipPath><g clip-path=\"url(#t0f37616b8f7b456f80772f48172a14e4)\"></g><g class=\"toyplot-coordinates-Axis\" id=\"t84afc1b2c651495da473a22eadc69c24\" transform=\"translate(50.0,150.0)translate(0,10.0)\"><line x1=\"0\" y1=\"0\" x2=\"300.0\" y2=\"0\" style=\"\"></line><g><g transform=\"translate(0.0,6)\"><text x=\"-8.615\" y=\"8.555\" style=\"fill:rgb(16.1%,15.3%,14.1%);fill-opacity:1.0;font-family:helvetica;font-size:10.0px;font-weight:normal;stroke:none;vertical-align:baseline;white-space:pre\">-0.5</text></g><g transform=\"translate(150.0,6)\"><text x=\"-6.95\" y=\"8.555\" style=\"fill:rgb(16.1%,15.3%,14.1%);fill-opacity:1.0;font-family:helvetica;font-size:10.0px;font-weight:normal;stroke:none;vertical-align:baseline;white-space:pre\">0.0</text></g><g transform=\"translate(300.0,6)\"><text x=\"-6.95\" y=\"8.555\" style=\"fill:rgb(16.1%,15.3%,14.1%);fill-opacity:1.0;font-family:helvetica;font-size:10.0px;font-weight:normal;stroke:none;vertical-align:baseline;white-space:pre\">0.5</text></g></g><g class=\"toyplot-coordinates-Axis-coordinates\" style=\"visibility:hidden\" transform=\"\"><line x1=\"0\" x2=\"0\" y1=\"-3.0\" y2=\"4.5\" style=\"stroke:rgb(43.9%,50.2%,56.5%);stroke-opacity:1.0;stroke-width:1.0\"></line><text x=\"0\" y=\"-6\" style=\"alignment-baseline:alphabetic;fill:rgb(43.9%,50.2%,56.5%);fill-opacity:1.0;font-size:10px;font-weight:normal;stroke:none;text-anchor:middle\"></text></g></g><g class=\"toyplot-coordinates-Axis\" id=\"t4758595961f04abbb6d08e5c91b697f8\" transform=\"translate(50.0,150.0)rotate(-90.0)translate(0,-10.0)\"><line x1=\"0\" y1=\"0\" x2=\"100.0\" y2=\"0\" style=\"\"></line><g><g transform=\"translate(0.0,-6)\"><text x=\"-8.615\" y=\"-4.440892098500626e-16\" style=\"fill:rgb(16.1%,15.3%,14.1%);fill-opacity:1.0;font-family:helvetica;font-size:10.0px;font-weight:normal;stroke:none;vertical-align:baseline;white-space:pre\">-0.5</text></g><g transform=\"translate(50.0,-6)\"><text x=\"-6.95\" y=\"-4.440892098500626e-16\" style=\"fill:rgb(16.1%,15.3%,14.1%);fill-opacity:1.0;font-family:helvetica;font-size:10.0px;font-weight:normal;stroke:none;vertical-align:baseline;white-space:pre\">0.0</text></g><g transform=\"translate(100.0,-6)\"><text x=\"-6.95\" y=\"-4.440892098500626e-16\" style=\"fill:rgb(16.1%,15.3%,14.1%);fill-opacity:1.0;font-family:helvetica;font-size:10.0px;font-weight:normal;stroke:none;vertical-align:baseline;white-space:pre\">0.5</text></g></g><g class=\"toyplot-coordinates-Axis-coordinates\" style=\"visibility:hidden\" transform=\"\"><line x1=\"0\" x2=\"0\" y1=\"3.0\" y2=\"-4.5\" style=\"stroke:rgb(43.9%,50.2%,56.5%);stroke-opacity:1.0;stroke-width:1.0\"></line><text x=\"0\" y=\"6\" style=\"alignment-baseline:hanging;fill:rgb(43.9%,50.2%,56.5%);fill-opacity:1.0;font-size:10px;font-weight:normal;stroke:none;text-anchor:middle\"></text></g></g></g></svg><div class=\"toyplot-behavior\"><script>(function()\n",
       "{\n",
       "var modules={};\n",
       "modules[\"toyplot/canvas/id\"] = \"t4e50309594234427b497d4c6dd9f6ea6\";\n",
       "modules[\"toyplot/canvas\"] = (function(canvas_id)\n",
       "    {\n",
       "        return document.querySelector(\"#\" + canvas_id);\n",
       "    })(modules[\"toyplot/canvas/id\"]);\n",
       "modules[\"toyplot.coordinates.Axis\"] = (\n",
       "        function(canvas)\n",
       "        {\n",
       "            function sign(x)\n",
       "            {\n",
       "                return x < 0 ? -1 : x > 0 ? 1 : 0;\n",
       "            }\n",
       "\n",
       "            function mix(a, b, amount)\n",
       "            {\n",
       "                return ((1.0 - amount) * a) + (amount * b);\n",
       "            }\n",
       "\n",
       "            function log(x, base)\n",
       "            {\n",
       "                return Math.log(Math.abs(x)) / Math.log(base);\n",
       "            }\n",
       "\n",
       "            function in_range(a, x, b)\n",
       "            {\n",
       "                var left = Math.min(a, b);\n",
       "                var right = Math.max(a, b);\n",
       "                return left <= x && x <= right;\n",
       "            }\n",
       "\n",
       "            function inside(range, projection)\n",
       "            {\n",
       "                for(var i = 0; i != projection.length; ++i)\n",
       "                {\n",
       "                    var segment = projection[i];\n",
       "                    if(in_range(segment.range.min, range, segment.range.max))\n",
       "                        return true;\n",
       "                }\n",
       "                return false;\n",
       "            }\n",
       "\n",
       "            function to_domain(range, projection)\n",
       "            {\n",
       "                for(var i = 0; i != projection.length; ++i)\n",
       "                {\n",
       "                    var segment = projection[i];\n",
       "                    if(in_range(segment.range.bounds.min, range, segment.range.bounds.max))\n",
       "                    {\n",
       "                        if(segment.scale == \"linear\")\n",
       "                        {\n",
       "                            var amount = (range - segment.range.min) / (segment.range.max - segment.range.min);\n",
       "                            return mix(segment.domain.min, segment.domain.max, amount)\n",
       "                        }\n",
       "                        else if(segment.scale[0] == \"log\")\n",
       "                        {\n",
       "                            var amount = (range - segment.range.min) / (segment.range.max - segment.range.min);\n",
       "                            var base = segment.scale[1];\n",
       "                            return sign(segment.domain.min) * Math.pow(base, mix(log(segment.domain.min, base), log(segment.domain.max, base), amount));\n",
       "                        }\n",
       "                    }\n",
       "                }\n",
       "            }\n",
       "\n",
       "            var axes = {};\n",
       "\n",
       "            function display_coordinates(e)\n",
       "            {\n",
       "                var current = canvas.createSVGPoint();\n",
       "                current.x = e.clientX;\n",
       "                current.y = e.clientY;\n",
       "\n",
       "                for(var axis_id in axes)\n",
       "                {\n",
       "                    var axis = document.querySelector(\"#\" + axis_id);\n",
       "                    var coordinates = axis.querySelector(\".toyplot-coordinates-Axis-coordinates\");\n",
       "                    if(coordinates)\n",
       "                    {\n",
       "                        var projection = axes[axis_id];\n",
       "                        var local = current.matrixTransform(axis.getScreenCTM().inverse());\n",
       "                        if(inside(local.x, projection))\n",
       "                        {\n",
       "                            var domain = to_domain(local.x, projection);\n",
       "                            coordinates.style.visibility = \"visible\";\n",
       "                            coordinates.setAttribute(\"transform\", \"translate(\" + local.x + \")\");\n",
       "                            var text = coordinates.querySelector(\"text\");\n",
       "                            text.textContent = domain.toFixed(2);\n",
       "                        }\n",
       "                        else\n",
       "                        {\n",
       "                            coordinates.style.visibility= \"hidden\";\n",
       "                        }\n",
       "                    }\n",
       "                }\n",
       "            }\n",
       "\n",
       "            canvas.addEventListener(\"click\", display_coordinates);\n",
       "\n",
       "            var module = {};\n",
       "            module.show_coordinates = function(axis_id, projection)\n",
       "            {\n",
       "                axes[axis_id] = projection;\n",
       "            }\n",
       "\n",
       "            return module;\n",
       "        })(modules[\"toyplot/canvas\"]);\n",
       "(function(axis, axis_id, projection)\n",
       "        {\n",
       "            axis.show_coordinates(axis_id, projection);\n",
       "        })(modules[\"toyplot.coordinates.Axis\"],\"t84afc1b2c651495da473a22eadc69c24\",[{\"domain\": {\"bounds\": {\"max\": Infinity, \"min\": -Infinity}, \"max\": 0.5, \"min\": -0.5}, \"range\": {\"bounds\": {\"max\": Infinity, \"min\": -Infinity}, \"max\": 300.0, \"min\": 0.0}, \"scale\": \"linear\"}]);\n",
       "(function(axis, axis_id, projection)\n",
       "        {\n",
       "            axis.show_coordinates(axis_id, projection);\n",
       "        })(modules[\"toyplot.coordinates.Axis\"],\"t4758595961f04abbb6d08e5c91b697f8\",[{\"domain\": {\"bounds\": {\"max\": Infinity, \"min\": -Infinity}, \"max\": 0.5, \"min\": -0.5}, \"range\": {\"bounds\": {\"max\": Infinity, \"min\": -Infinity}, \"max\": 100.0, \"min\": 0.0}, \"scale\": \"linear\"}]);\n",
       "})();</script></div></div>"
      ]
     },
     "metadata": {},
     "output_type": "display_data"
    }
   ],
   "source": [
    "keys = list(worddict.keys())\n",
    "edges = np.array(keys)\n",
    "values = list(worddict.values())\n",
    "hist = np.array(values)\n",
    "toyplot.bars(\n",
    "    (hist, edges), \n",
    "    height=200, \n",
    "    width=400,\n",
    ");"
   ]
  },
  {
   "cell_type": "markdown",
   "id": "religious-flavor",
   "metadata": {},
   "source": [
    "### Challenge 6: \n",
    "Using numpy create a new variable called `arr` with 1000 random samples from a normal distribution. Use the numpy `.histogram` function to bin these values into 20 bins, and then plot the histogram using a barplot from toyplot. Color the bars of the histogram orange."
   ]
  },
  {
   "cell_type": "code",
   "execution_count": 75,
   "id": "useful-activation",
   "metadata": {},
   "outputs": [
    {
     "data": {
      "text/html": [
       "<div class=\"toyplot\" id=\"t8d9764fc5ada4f3e82374d03520feec6\" style=\"text-align:center\"><svg class=\"toyplot-canvas-Canvas\" xmlns:toyplot=\"http://www.sandia.gov/toyplot\" xmlns:xlink=\"http://www.w3.org/1999/xlink\" xmlns=\"http://www.w3.org/2000/svg\" width=\"400.0px\" height=\"200.0px\" viewBox=\"0 0 400.0 200.0\" preserveAspectRatio=\"xMidYMid meet\" style=\"background-color:transparent;border-color:#292724;border-style:none;border-width:1.0;fill:rgb(16.1%,15.3%,14.1%);fill-opacity:1.0;font-family:Helvetica;font-size:12px;opacity:1.0;stroke:rgb(16.1%,15.3%,14.1%);stroke-opacity:1.0;stroke-width:1.0\" id=\"t34e17f550d084e05891bbacd2be94cc3\"><g class=\"toyplot-coordinates-Cartesian\" id=\"te58a4fe2d9dd4a46b1c538f76eabe56a\"><clipPath id=\"te055d503bdaa4063919f30934158f5dd\"><rect x=\"40.0\" y=\"40.0\" width=\"320.0\" height=\"120.0\"></rect></clipPath><g clip-path=\"url(#te055d503bdaa4063919f30934158f5dd)\"><g class=\"toyplot-mark-BarMagnitudes\" style=\"stroke:rgb(100%,100%,100%);stroke-opacity:1.0;stroke-width:1.0\" id=\"tf6e31ea21f4f413592c61ddce8951112\"><g class=\"toyplot-Series\"><rect class=\"toyplot-Datum\" x=\"50.0\" y=\"144.9783849154292\" width=\"13.081652306300967\" height=\"5.021615084570811\" style=\"fill:rgb(100%,64.7%,0%);fill-opacity:1.0;opacity:1.0;stroke:rgb(100%,100%,100%);stroke-opacity:1.0;stroke-width:1.0\"></rect><rect class=\"toyplot-Datum\" x=\"63.08165230630097\" y=\"147.13050566595953\" width=\"13.081652306300953\" height=\"2.8694943340404677\" style=\"fill:rgb(100%,64.7%,0%);fill-opacity:1.0;opacity:1.0;stroke:rgb(100%,100%,100%);stroke-opacity:1.0;stroke-width:1.0\"></rect><rect class=\"toyplot-Datum\" x=\"76.16330461260192\" y=\"139.23939624734822\" width=\"13.081652306300967\" height=\"10.760603752651775\" style=\"fill:rgb(100%,64.7%,0%);fill-opacity:1.0;opacity:1.0;stroke:rgb(100%,100%,100%);stroke-opacity:1.0;stroke-width:1.0\"></rect><rect class=\"toyplot-Datum\" x=\"89.24495691890289\" y=\"129.19616607820655\" width=\"13.081652306300953\" height=\"20.803833921793455\" style=\"fill:rgb(100%,64.7%,0%);fill-opacity:1.0;opacity:1.0;stroke:rgb(100%,100%,100%);stroke-opacity:1.0;stroke-width:1.0\"></rect><rect class=\"toyplot-Datum\" x=\"102.32660922520384\" y=\"114.13132082449407\" width=\"13.081652306300953\" height=\"35.86867917550593\" style=\"fill:rgb(100%,64.7%,0%);fill-opacity:1.0;opacity:1.0;stroke:rgb(100%,100%,100%);stroke-opacity:1.0;stroke-width:1.0\"></rect><rect class=\"toyplot-Datum\" x=\"115.40826153150479\" y=\"91.89273973568041\" width=\"13.081652306300981\" height=\"58.10726026431959\" style=\"fill:rgb(100%,64.7%,0%);fill-opacity:1.0;opacity:1.0;stroke:rgb(100%,100%,100%);stroke-opacity:1.0;stroke-width:1.0\"></rect><rect class=\"toyplot-Datum\" x=\"128.48991383780577\" y=\"80.41476239951842\" width=\"13.081652306300953\" height=\"69.58523760048158\" style=\"fill:rgb(100%,64.7%,0%);fill-opacity:1.0;opacity:1.0;stroke:rgb(100%,100%,100%);stroke-opacity:1.0;stroke-width:1.0\"></rect><rect class=\"toyplot-Datum\" x=\"141.57156614410673\" y=\"63.915169978785784\" width=\"13.081652306300953\" height=\"86.08483002121422\" style=\"fill:rgb(100%,64.7%,0%);fill-opacity:1.0;opacity:1.0;stroke:rgb(100%,100%,100%);stroke-opacity:1.0;stroke-width:1.0\"></rect><rect class=\"toyplot-Datum\" x=\"154.65321845040768\" y=\"53.154566226134015\" width=\"13.08165230630101\" height=\"96.84543377386598\" style=\"fill:rgb(100%,64.7%,0%);fill-opacity:1.0;opacity:1.0;stroke:rgb(100%,100%,100%);stroke-opacity:1.0;stroke-width:1.0\"></rect><rect class=\"toyplot-Datum\" x=\"167.7348707567087\" y=\"63.19779639527556\" width=\"13.081652306300924\" height=\"86.80220360472444\" style=\"fill:rgb(100%,64.7%,0%);fill-opacity:1.0;opacity:1.0;stroke:rgb(100%,100%,100%);stroke-opacity:1.0;stroke-width:1.0\"></rect><rect class=\"toyplot-Datum\" x=\"180.8165230630096\" y=\"56.74143414368461\" width=\"13.081652306300953\" height=\"93.25856585631539\" style=\"fill:rgb(100%,64.7%,0%);fill-opacity:1.0;opacity:1.0;stroke:rgb(100%,100%,100%);stroke-opacity:1.0;stroke-width:1.0\"></rect><rect class=\"toyplot-Datum\" x=\"193.89817536931056\" y=\"89.74061898515005\" width=\"13.081652306300953\" height=\"60.25938101484995\" style=\"fill:rgb(100%,64.7%,0%);fill-opacity:1.0;opacity:1.0;stroke:rgb(100%,100%,100%);stroke-opacity:1.0;stroke-width:1.0\"></rect><rect class=\"toyplot-Datum\" x=\"206.97982767561152\" y=\"114.13132082449405\" width=\"13.081652306300981\" height=\"35.868679175505946\" style=\"fill:rgb(100%,64.7%,0%);fill-opacity:1.0;opacity:1.0;stroke:rgb(100%,100%,100%);stroke-opacity:1.0;stroke-width:1.0\"></rect><rect class=\"toyplot-Datum\" x=\"220.0614799819125\" y=\"117.71818874204463\" width=\"13.081652306300953\" height=\"32.28181125795537\" style=\"fill:rgb(100%,64.7%,0%);fill-opacity:1.0;opacity:1.0;stroke:rgb(100%,100%,100%);stroke-opacity:1.0;stroke-width:1.0\"></rect><rect class=\"toyplot-Datum\" x=\"233.14313228821345\" y=\"135.65252832979766\" width=\"13.081652306300953\" height=\"14.347471670202339\" style=\"fill:rgb(100%,64.7%,0%);fill-opacity:1.0;opacity:1.0;stroke:rgb(100%,100%,100%);stroke-opacity:1.0;stroke-width:1.0\"></rect><rect class=\"toyplot-Datum\" x=\"246.2247845945144\" y=\"144.97838491542916\" width=\"13.08165230630101\" height=\"5.02161508457084\" style=\"fill:rgb(100%,64.7%,0%);fill-opacity:1.0;opacity:1.0;stroke:rgb(100%,100%,100%);stroke-opacity:1.0;stroke-width:1.0\"></rect><rect class=\"toyplot-Datum\" x=\"259.3064369008154\" y=\"147.84787924946963\" width=\"13.081652306300953\" height=\"2.152120750530372\" style=\"fill:rgb(100%,64.7%,0%);fill-opacity:1.0;opacity:1.0;stroke:rgb(100%,100%,100%);stroke-opacity:1.0;stroke-width:1.0\"></rect><rect class=\"toyplot-Datum\" x=\"272.38808920711637\" y=\"149.28262641648988\" width=\"13.081652306300953\" height=\"0.717373583510124\" style=\"fill:rgb(100%,64.7%,0%);fill-opacity:1.0;opacity:1.0;stroke:rgb(100%,100%,100%);stroke-opacity:1.0;stroke-width:1.0\"></rect><rect class=\"toyplot-Datum\" x=\"285.4697415134173\" y=\"150.0\" width=\"13.081652306300953\" height=\"0.0\" style=\"fill:rgb(100%,64.7%,0%);fill-opacity:1.0;opacity:1.0;stroke:rgb(100%,100%,100%);stroke-opacity:1.0;stroke-width:1.0\"></rect><rect class=\"toyplot-Datum\" x=\"298.55139381971827\" y=\"149.28262641648988\" width=\"13.081652306300953\" height=\"0.717373583510124\" style=\"fill:rgb(100%,64.7%,0%);fill-opacity:1.0;opacity:1.0;stroke:rgb(100%,100%,100%);stroke-opacity:1.0;stroke-width:1.0\"></rect></g></g></g><g class=\"toyplot-coordinates-Axis\" id=\"t32b389114d854672bc2f8da4b50d0381\" transform=\"translate(50.0,150.0)translate(0,10.0)\"><line x1=\"0\" y1=\"0\" x2=\"261.6330461260192\" y2=\"0\" style=\"\"></line><g><g transform=\"translate(18.467046203864076,6)\"><text x=\"-4.445\" y=\"8.555\" style=\"fill:rgb(16.1%,15.3%,14.1%);fill-opacity:1.0;font-family:helvetica;font-size:10.0px;font-weight:normal;stroke:none;vertical-align:baseline;white-space:pre\">-5</text></g><g transform=\"translate(112.31136413590939,6)\"><text x=\"-2.78\" y=\"8.555\" style=\"fill:rgb(16.1%,15.3%,14.1%);fill-opacity:1.0;font-family:helvetica;font-size:10.0px;font-weight:normal;stroke:none;vertical-align:baseline;white-space:pre\">0</text></g><g transform=\"translate(206.1556820679547,6)\"><text x=\"-2.78\" y=\"8.555\" style=\"fill:rgb(16.1%,15.3%,14.1%);fill-opacity:1.0;font-family:helvetica;font-size:10.0px;font-weight:normal;stroke:none;vertical-align:baseline;white-space:pre\">5</text></g><g transform=\"translate(300.0,6)\"><text x=\"-5.56\" y=\"8.555\" style=\"fill:rgb(16.1%,15.3%,14.1%);fill-opacity:1.0;font-family:helvetica;font-size:10.0px;font-weight:normal;stroke:none;vertical-align:baseline;white-space:pre\">10</text></g></g><g class=\"toyplot-coordinates-Axis-coordinates\" style=\"visibility:hidden\" transform=\"\"><line x1=\"0\" x2=\"0\" y1=\"-3.0\" y2=\"4.5\" style=\"stroke:rgb(43.9%,50.2%,56.5%);stroke-opacity:1.0;stroke-width:1.0\"></line><text x=\"0\" y=\"-6\" style=\"alignment-baseline:alphabetic;fill:rgb(43.9%,50.2%,56.5%);fill-opacity:1.0;font-size:10px;font-weight:normal;stroke:none;text-anchor:middle\"></text></g></g><g class=\"toyplot-coordinates-Axis\" id=\"tf732a6cb165641f3b4ee46eedf70dd10\" transform=\"translate(50.0,150.0)rotate(-90.0)translate(0,-10.0)\"><line x1=\"0\" y1=\"0\" x2=\"96.84543377386599\" y2=\"0\" style=\"\"></line><g><g transform=\"translate(0.0,-6)\"><text x=\"-9.729999999999999\" y=\"-4.440892098500626e-16\" style=\"fill:rgb(16.1%,15.3%,14.1%);fill-opacity:1.0;font-family:helvetica;font-size:10.0px;font-weight:normal;stroke:none;vertical-align:baseline;white-space:pre\">0.00</text></g><g transform=\"translate(25.0,-6)\"><text x=\"-9.729999999999999\" y=\"-4.440892098500626e-16\" style=\"fill:rgb(16.1%,15.3%,14.1%);fill-opacity:1.0;font-family:helvetica;font-size:10.0px;font-weight:normal;stroke:none;vertical-align:baseline;white-space:pre\">0.05</text></g><g transform=\"translate(50.0,-6)\"><text x=\"-9.729999999999999\" y=\"-4.440892098500626e-16\" style=\"fill:rgb(16.1%,15.3%,14.1%);fill-opacity:1.0;font-family:helvetica;font-size:10.0px;font-weight:normal;stroke:none;vertical-align:baseline;white-space:pre\">0.10</text></g><g transform=\"translate(75.00000000000001,-6)\"><text x=\"-9.729999999999999\" y=\"-4.440892098500626e-16\" style=\"fill:rgb(16.1%,15.3%,14.1%);fill-opacity:1.0;font-family:helvetica;font-size:10.0px;font-weight:normal;stroke:none;vertical-align:baseline;white-space:pre\">0.15</text></g><g transform=\"translate(100.0,-6)\"><text x=\"-9.729999999999999\" y=\"-4.440892098500626e-16\" style=\"fill:rgb(16.1%,15.3%,14.1%);fill-opacity:1.0;font-family:helvetica;font-size:10.0px;font-weight:normal;stroke:none;vertical-align:baseline;white-space:pre\">0.20</text></g></g><g class=\"toyplot-coordinates-Axis-coordinates\" style=\"visibility:hidden\" transform=\"\"><line x1=\"0\" x2=\"0\" y1=\"3.0\" y2=\"-4.5\" style=\"stroke:rgb(43.9%,50.2%,56.5%);stroke-opacity:1.0;stroke-width:1.0\"></line><text x=\"0\" y=\"6\" style=\"alignment-baseline:hanging;fill:rgb(43.9%,50.2%,56.5%);fill-opacity:1.0;font-size:10px;font-weight:normal;stroke:none;text-anchor:middle\"></text></g></g></g></svg><div class=\"toyplot-behavior\"><script>(function()\n",
       "{\n",
       "var modules={};\n",
       "modules[\"toyplot/tables\"] = (function()\n",
       "    {\n",
       "        var tables = [];\n",
       "\n",
       "        var module = {};\n",
       "\n",
       "        module.set = function(owner, key, names, columns)\n",
       "        {\n",
       "            tables.push({owner: owner, key: key, names: names, columns: columns});\n",
       "        }\n",
       "\n",
       "        module.get = function(owner, key)\n",
       "        {\n",
       "            for(var i = 0; i != tables.length; ++i)\n",
       "            {\n",
       "                var table = tables[i];\n",
       "                if(table.owner != owner)\n",
       "                    continue;\n",
       "                if(table.key != key)\n",
       "                    continue;\n",
       "                return {names: table.names, columns: table.columns};\n",
       "            }\n",
       "        }\n",
       "\n",
       "        module.get_csv = function(owner, key)\n",
       "        {\n",
       "            var table = module.get(owner, key);\n",
       "            if(table != undefined)\n",
       "            {\n",
       "                var csv = \"\";\n",
       "                csv += table.names.join(\",\") + \"\\n\";\n",
       "                for(var i = 0; i != table.columns[0].length; ++i)\n",
       "                {\n",
       "                  for(var j = 0; j != table.columns.length; ++j)\n",
       "                  {\n",
       "                    if(j)\n",
       "                      csv += \",\";\n",
       "                    csv += table.columns[j][i];\n",
       "                  }\n",
       "                  csv += \"\\n\";\n",
       "                }\n",
       "                return csv;\n",
       "            }\n",
       "        }\n",
       "\n",
       "        return module;\n",
       "    })();\n",
       "modules[\"toyplot/root/id\"] = \"t8d9764fc5ada4f3e82374d03520feec6\";\n",
       "modules[\"toyplot/root\"] = (function(root_id)\n",
       "    {\n",
       "        return document.querySelector(\"#\" + root_id);\n",
       "    })(modules[\"toyplot/root/id\"]);\n",
       "modules[\"toyplot/canvas/id\"] = \"t34e17f550d084e05891bbacd2be94cc3\";\n",
       "modules[\"toyplot/canvas\"] = (function(canvas_id)\n",
       "    {\n",
       "        return document.querySelector(\"#\" + canvas_id);\n",
       "    })(modules[\"toyplot/canvas/id\"]);\n",
       "modules[\"toyplot/menus/context\"] = (function(root, canvas)\n",
       "    {\n",
       "        var wrapper = document.createElement(\"div\");\n",
       "        wrapper.innerHTML = \"<ul class='toyplot-context-menu' style='background:#eee; border:1px solid #b8b8b8; border-radius:5px; box-shadow: 0px 0px 8px rgba(0%,0%,0%,0.25); margin:0; padding:3px 0; position:fixed; visibility:hidden;'></ul>\"\n",
       "        var menu = wrapper.firstChild;\n",
       "\n",
       "        root.appendChild(menu);\n",
       "\n",
       "        var items = [];\n",
       "\n",
       "        var ignore_mouseup = null;\n",
       "        function open_menu(e)\n",
       "        {\n",
       "            var show_menu = false;\n",
       "            for(var index=0; index != items.length; ++index)\n",
       "            {\n",
       "                var item = items[index];\n",
       "                if(item.show(e))\n",
       "                {\n",
       "                    item.item.style.display = \"block\";\n",
       "                    show_menu = true;\n",
       "                }\n",
       "                else\n",
       "                {\n",
       "                    item.item.style.display = \"none\";\n",
       "                }\n",
       "            }\n",
       "\n",
       "            if(show_menu)\n",
       "            {\n",
       "                ignore_mouseup = true;\n",
       "                menu.style.left = (e.clientX + 1) + \"px\";\n",
       "                menu.style.top = (e.clientY - 5) + \"px\";\n",
       "                menu.style.visibility = \"visible\";\n",
       "                e.stopPropagation();\n",
       "                e.preventDefault();\n",
       "            }\n",
       "        }\n",
       "\n",
       "        function close_menu()\n",
       "        {\n",
       "            menu.style.visibility = \"hidden\";\n",
       "        }\n",
       "\n",
       "        function contextmenu(e)\n",
       "        {\n",
       "            open_menu(e);\n",
       "        }\n",
       "\n",
       "        function mousemove(e)\n",
       "        {\n",
       "            ignore_mouseup = false;\n",
       "        }\n",
       "\n",
       "        function mouseup(e)\n",
       "        {\n",
       "            if(ignore_mouseup)\n",
       "            {\n",
       "                ignore_mouseup = false;\n",
       "                return;\n",
       "            }\n",
       "            close_menu();\n",
       "        }\n",
       "\n",
       "        function keydown(e)\n",
       "        {\n",
       "            if(e.key == \"Escape\" || e.key == \"Esc\" || e.keyCode == 27)\n",
       "            {\n",
       "                close_menu();\n",
       "            }\n",
       "        }\n",
       "\n",
       "        canvas.addEventListener(\"contextmenu\", contextmenu);\n",
       "        canvas.addEventListener(\"mousemove\", mousemove);\n",
       "        document.addEventListener(\"mouseup\", mouseup);\n",
       "        document.addEventListener(\"keydown\", keydown);\n",
       "\n",
       "        var module = {};\n",
       "        module.add_item = function(label, show, activate)\n",
       "        {\n",
       "            var wrapper = document.createElement(\"div\");\n",
       "            wrapper.innerHTML = \"<li class='toyplot-context-menu-item' style='background:#eee; color:#333; padding:2px 20px; list-style:none; margin:0; text-align:left;'>\" + label + \"</li>\"\n",
       "            var item = wrapper.firstChild;\n",
       "\n",
       "            items.push({item: item, show: show});\n",
       "\n",
       "            function mouseover()\n",
       "            {\n",
       "                this.style.background = \"steelblue\";\n",
       "                this.style.color = \"white\";\n",
       "            }\n",
       "\n",
       "            function mouseout()\n",
       "            {\n",
       "                this.style.background = \"#eee\";\n",
       "                this.style.color = \"#333\";\n",
       "            }\n",
       "\n",
       "            function choose_item(e)\n",
       "            {\n",
       "                close_menu();\n",
       "                activate();\n",
       "\n",
       "                e.stopPropagation();\n",
       "                e.preventDefault();\n",
       "            }\n",
       "\n",
       "            item.addEventListener(\"mouseover\", mouseover);\n",
       "            item.addEventListener(\"mouseout\", mouseout);\n",
       "            item.addEventListener(\"mouseup\", choose_item);\n",
       "            item.addEventListener(\"contextmenu\", choose_item);\n",
       "\n",
       "            menu.appendChild(item);\n",
       "        };\n",
       "        return module;\n",
       "    })(modules[\"toyplot/root\"],modules[\"toyplot/canvas\"]);\n",
       "modules[\"toyplot/io\"] = (function()\n",
       "    {\n",
       "        var module = {};\n",
       "        module.save_file = function(mime_type, charset, data, filename)\n",
       "        {\n",
       "            var uri = \"data:\" + mime_type + \";charset=\" + charset + \",\" + data;\n",
       "            uri = encodeURI(uri);\n",
       "\n",
       "            var link = document.createElement(\"a\");\n",
       "            if(typeof link.download != \"undefined\")\n",
       "            {\n",
       "              link.href = uri;\n",
       "              link.style = \"visibility:hidden\";\n",
       "              link.download = filename;\n",
       "\n",
       "              document.body.appendChild(link);\n",
       "              link.click();\n",
       "              document.body.removeChild(link);\n",
       "            }\n",
       "            else\n",
       "            {\n",
       "              window.open(uri);\n",
       "            }\n",
       "        };\n",
       "        return module;\n",
       "    })();\n",
       "modules[\"toyplot.coordinates.Axis\"] = (\n",
       "        function(canvas)\n",
       "        {\n",
       "            function sign(x)\n",
       "            {\n",
       "                return x < 0 ? -1 : x > 0 ? 1 : 0;\n",
       "            }\n",
       "\n",
       "            function mix(a, b, amount)\n",
       "            {\n",
       "                return ((1.0 - amount) * a) + (amount * b);\n",
       "            }\n",
       "\n",
       "            function log(x, base)\n",
       "            {\n",
       "                return Math.log(Math.abs(x)) / Math.log(base);\n",
       "            }\n",
       "\n",
       "            function in_range(a, x, b)\n",
       "            {\n",
       "                var left = Math.min(a, b);\n",
       "                var right = Math.max(a, b);\n",
       "                return left <= x && x <= right;\n",
       "            }\n",
       "\n",
       "            function inside(range, projection)\n",
       "            {\n",
       "                for(var i = 0; i != projection.length; ++i)\n",
       "                {\n",
       "                    var segment = projection[i];\n",
       "                    if(in_range(segment.range.min, range, segment.range.max))\n",
       "                        return true;\n",
       "                }\n",
       "                return false;\n",
       "            }\n",
       "\n",
       "            function to_domain(range, projection)\n",
       "            {\n",
       "                for(var i = 0; i != projection.length; ++i)\n",
       "                {\n",
       "                    var segment = projection[i];\n",
       "                    if(in_range(segment.range.bounds.min, range, segment.range.bounds.max))\n",
       "                    {\n",
       "                        if(segment.scale == \"linear\")\n",
       "                        {\n",
       "                            var amount = (range - segment.range.min) / (segment.range.max - segment.range.min);\n",
       "                            return mix(segment.domain.min, segment.domain.max, amount)\n",
       "                        }\n",
       "                        else if(segment.scale[0] == \"log\")\n",
       "                        {\n",
       "                            var amount = (range - segment.range.min) / (segment.range.max - segment.range.min);\n",
       "                            var base = segment.scale[1];\n",
       "                            return sign(segment.domain.min) * Math.pow(base, mix(log(segment.domain.min, base), log(segment.domain.max, base), amount));\n",
       "                        }\n",
       "                    }\n",
       "                }\n",
       "            }\n",
       "\n",
       "            var axes = {};\n",
       "\n",
       "            function display_coordinates(e)\n",
       "            {\n",
       "                var current = canvas.createSVGPoint();\n",
       "                current.x = e.clientX;\n",
       "                current.y = e.clientY;\n",
       "\n",
       "                for(var axis_id in axes)\n",
       "                {\n",
       "                    var axis = document.querySelector(\"#\" + axis_id);\n",
       "                    var coordinates = axis.querySelector(\".toyplot-coordinates-Axis-coordinates\");\n",
       "                    if(coordinates)\n",
       "                    {\n",
       "                        var projection = axes[axis_id];\n",
       "                        var local = current.matrixTransform(axis.getScreenCTM().inverse());\n",
       "                        if(inside(local.x, projection))\n",
       "                        {\n",
       "                            var domain = to_domain(local.x, projection);\n",
       "                            coordinates.style.visibility = \"visible\";\n",
       "                            coordinates.setAttribute(\"transform\", \"translate(\" + local.x + \")\");\n",
       "                            var text = coordinates.querySelector(\"text\");\n",
       "                            text.textContent = domain.toFixed(2);\n",
       "                        }\n",
       "                        else\n",
       "                        {\n",
       "                            coordinates.style.visibility= \"hidden\";\n",
       "                        }\n",
       "                    }\n",
       "                }\n",
       "            }\n",
       "\n",
       "            canvas.addEventListener(\"click\", display_coordinates);\n",
       "\n",
       "            var module = {};\n",
       "            module.show_coordinates = function(axis_id, projection)\n",
       "            {\n",
       "                axes[axis_id] = projection;\n",
       "            }\n",
       "\n",
       "            return module;\n",
       "        })(modules[\"toyplot/canvas\"]);\n",
       "(function(tables, context_menu, io, owner_id, key, label, names, columns, filename)\n",
       "        {\n",
       "            tables.set(owner_id, key, names, columns);\n",
       "\n",
       "            var owner = document.querySelector(\"#\" + owner_id);\n",
       "            function show_item(e)\n",
       "            {\n",
       "                return owner.contains(e.target);\n",
       "            }\n",
       "\n",
       "            function choose_item()\n",
       "            {\n",
       "                io.save_file(\"text/csv\", \"utf-8\", tables.get_csv(owner_id, key), filename + \".csv\");\n",
       "            }\n",
       "\n",
       "            context_menu.add_item(\"Save \" + label + \" as CSV\", show_item, choose_item);\n",
       "        })(modules[\"toyplot/tables\"],modules[\"toyplot/menus/context\"],modules[\"toyplot/io\"],\"tf6e31ea21f4f413592c61ddce8951112\",\"data\",\"bar data\",[\"left\", \"right\", \"baseline\", \"magnitude0\"],[[-5.983919251096079, -5.286932337313314, -4.58994542353055, -3.8929585097477855, -3.195971595965021, -2.4989846821822566, -1.8019977683994917, -1.1050108546167277, -0.40802394083396276, 0.28896297294880213, 0.9859498867315661, 1.682936800514331, 2.379923714297096, 3.07691062807986, 3.773897541862624, 4.47088445564539, 5.167871369428154, 5.864858283210918, 6.5618451969936835, 7.2588321107764475], [-5.286932337313314, -4.58994542353055, -3.8929585097477855, -3.195971595965021, -2.4989846821822566, -1.8019977683994917, -1.1050108546167277, -0.40802394083396276, 0.28896297294880213, 0.9859498867315661, 1.682936800514331, 2.379923714297096, 3.07691062807986, 3.773897541862624, 4.47088445564539, 5.167871369428154, 5.864858283210918, 6.5618451969936835, 7.2588321107764475, 7.9558190245592115], [0.0, 0.0, 0.0, 0.0, 0.0, 0.0, 0.0, 0.0, 0.0, 0.0, 0.0, 0.0, 0.0, 0.0, 0.0, 0.0, 0.0, 0.0, 0.0, 0.0], [0.010043230169141657, 0.005738988668080955, 0.021521207505303553, 0.041607667843586896, 0.07173735835101189, 0.11621452052863919, 0.13917047520096315, 0.17216966004242842, 0.193690867547732, 0.1736044072094489, 0.1865171317126308, 0.1205187620296999, 0.07173735835101193, 0.06456362251591073, 0.028694943340404698, 0.010043230169141671, 0.004304241501060716, 0.001434747167020235, 0.0, 0.0014347471670202387]],\"toyplot\");\n",
       "(function(axis, axis_id, projection)\n",
       "        {\n",
       "            axis.show_coordinates(axis_id, projection);\n",
       "        })(modules[\"toyplot.coordinates.Axis\"],\"t32b389114d854672bc2f8da4b50d0381\",[{\"domain\": {\"bounds\": {\"max\": Infinity, \"min\": -Infinity}, \"max\": 10.0, \"min\": -5.983919251096079}, \"range\": {\"bounds\": {\"max\": Infinity, \"min\": -Infinity}, \"max\": 300.0, \"min\": 0.0}, \"scale\": \"linear\"}]);\n",
       "(function(axis, axis_id, projection)\n",
       "        {\n",
       "            axis.show_coordinates(axis_id, projection);\n",
       "        })(modules[\"toyplot.coordinates.Axis\"],\"tf732a6cb165641f3b4ee46eedf70dd10\",[{\"domain\": {\"bounds\": {\"max\": Infinity, \"min\": -Infinity}, \"max\": 0.2, \"min\": 0.0}, \"range\": {\"bounds\": {\"max\": Infinity, \"min\": -Infinity}, \"max\": 100.0, \"min\": 0.0}, \"scale\": \"linear\"}]);\n",
       "})();</script></div></div>"
      ]
     },
     "metadata": {},
     "output_type": "display_data"
    }
   ],
   "source": [
    "arr = np.random.normal(loc = 0, scale = 2.0, size = 1000)\n",
    "hist, edges = np.histogram(arr, bins=20, density=True)\n",
    "toyplot.bars(\n",
    "    (hist, edges), \n",
    "    height=200, \n",
    "    width=400,\n",
    "    color=\"orange\"\n",
    ");"
   ]
  },
  {
   "cell_type": "markdown",
   "id": "geographic-violin",
   "metadata": {},
   "source": [
    "### Challenge 7: \n",
    "Write a `while` statement to continue running code in a loop until a condition is met, and then call `break` to end the loop. Inside of the loop, randomly draw a single value from a uniform distribution between 0 and 100. If the value is less than 25 and greater than 22 then break the loop, otherwise, continue the loop until a value meeting this condition is sampled. Use a variable to keep track of how many iterations of the loop are run, and print this value after calling `break`. \n"
   ]
  },
  {
   "cell_type": "code",
   "execution_count": 102,
   "id": "pacific-gauge",
   "metadata": {},
   "outputs": [
    {
     "name": "stdout",
     "output_type": "stream",
     "text": [
      "The number of loops run was 37\n"
     ]
    }
   ],
   "source": [
    "loops = 0\n",
    "while np.random.uniform(0,100,1):\n",
    "    loops += 1\n",
    "    if 22 < np.random.uniform(0,100,1) < 25:\n",
    "        break\n",
    "print(\"The number of loops run was \" + str(loops))"
   ]
  },
  {
   "cell_type": "markdown",
   "id": "conditional-petite",
   "metadata": {},
   "source": [
    "### Challenge 8: \n",
    "Use pandas to load a CSV file from https://eaton-lab.org/data/iris-data-dirty.csv and save as a dataframe. Add custom names to the columns in the dataframe, based on the type of values in them (e.g., numeric versus strings). You can come up with any column names you want for these."
   ]
  },
  {
   "cell_type": "code",
   "execution_count": null,
   "id": "expanded-exercise",
   "metadata": {},
   "outputs": [],
   "source": []
  },
  {
   "cell_type": "markdown",
   "id": "stone-there",
   "metadata": {},
   "source": [
    "### Challenge 9: \n",
    "Calculate the mean value of the data in the left-most column for all data where the right-most column matches the value \"Iris-setosa\". "
   ]
  },
  {
   "cell_type": "code",
   "execution_count": null,
   "id": "dominican-independence",
   "metadata": {},
   "outputs": [],
   "source": []
  },
  {
   "cell_type": "markdown",
   "id": "negative-browse",
   "metadata": {},
   "source": [
    "### Challenge 10:\n",
    "Create a copy of your iris data dataframe and name it `df2`. Sort the rows of this dataframe based on the values in the first (leftmost) column so that the lowest values are first, and the highest values at the bottom. After sorting, reset the index of the dataframe so that the index is once again ordered. Once you get this to work, try to rewrite it in a simpler form by chaining multiple function calls together to accomplish the goal in one line, by calling code that looks a bit like this, but with the correct function calls: `df.function().function().function()`"
   ]
  },
  {
   "cell_type": "code",
   "execution_count": null,
   "id": "heard-belief",
   "metadata": {},
   "outputs": [],
   "source": []
  },
  {
   "cell_type": "markdown",
   "id": "standard-sigma",
   "metadata": {},
   "source": [
    "### Challenge 11:\n",
    "Write a function that uses string formatting (curly braces) to create a [mad lib](https://en.wikipedia.org/wiki/Mad_Libs) containing at least 4 words that will be filled in. The returned object of your function should be a string where the missing words are filled by randomly sampled words from the `random_words_api()` function. The sentence or paragraph of your mad lib can be anything you wish, be creative. "
   ]
  },
  {
   "cell_type": "code",
   "execution_count": null,
   "id": "confirmed-spectrum",
   "metadata": {},
   "outputs": [],
   "source": []
  },
  {
   "cell_type": "markdown",
   "id": "applicable-architect",
   "metadata": {},
   "source": [
    "<div class=\"alert alert-success\">\n",
    "After completing all challenges in this notebook, save and download the .ipynb file to your computer. Move the file to your hack-program repo and put it in a folder called notebooks. Add/stage this file and folder and commit the change, and push to GitHub. The assignment is due by end of day on 3/7/2021.  \n",
    "</div>"
   ]
  }
 ],
 "metadata": {
  "kernelspec": {
   "display_name": "Python 3",
   "language": "python",
   "name": "python3"
  },
  "language_info": {
   "codemirror_mode": {
    "name": "ipython",
    "version": 3
   },
   "file_extension": ".py",
   "mimetype": "text/x-python",
   "name": "python",
   "nbconvert_exporter": "python",
   "pygments_lexer": "ipython3",
   "version": "3.8.5"
  }
 },
 "nbformat": 4,
 "nbformat_minor": 5
}
