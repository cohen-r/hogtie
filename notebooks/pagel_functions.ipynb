{
 "cells": [
  {
   "cell_type": "code",
   "execution_count": 1,
   "id": "sixth-concrete",
   "metadata": {},
   "outputs": [],
   "source": [
    "import numpy as np\n",
    "import pandas as pd\n",
    "import toytree\n",
    "from scipy.optimize import minimize\n",
    "from scipy.linalg import expm"
   ]
  },
  {
   "cell_type": "code",
   "execution_count": 2,
   "id": "urban-oxide",
   "metadata": {},
   "outputs": [
    {
     "data": {
      "text/plain": [
       "(<toyplot.canvas.Canvas at 0x7fcb0724ad00>,\n",
       " <toyplot.coordinates.Cartesian at 0x7fcb0724ad60>,\n",
       " <toytree.Render.ToytreeMark at 0x7fcb0724a2e0>)"
      ]
     },
     "execution_count": 2,
     "metadata": {},
     "output_type": "execute_result"
    },
    {
     "data": {
      "text/html": [
       "<div class=\"toyplot\" id=\"t2c3013efc44b4fa6be38de7357e7ee70\" style=\"text-align:center\"><svg class=\"toyplot-canvas-Canvas\" xmlns:toyplot=\"http://www.sandia.gov/toyplot\" xmlns:xlink=\"http://www.w3.org/1999/xlink\" xmlns=\"http://www.w3.org/2000/svg\" width=\"350.0px\" height=\"265.0px\" viewBox=\"0 0 350.0 265.0\" preserveAspectRatio=\"xMidYMid meet\" style=\"background-color:transparent;border-color:#292724;border-style:none;border-width:1.0;fill:rgb(16.1%,15.3%,14.1%);fill-opacity:1.0;font-family:Helvetica;font-size:12px;opacity:1.0;stroke:rgb(16.1%,15.3%,14.1%);stroke-opacity:1.0;stroke-width:1.0\" id=\"t56efbd934edb4a0193c86bdcbad49bab\"><g class=\"toyplot-coordinates-Cartesian\" id=\"t2d0469e7e15e4d079817d163cbf2a620\"><clipPath id=\"taace023baecc4277aa1ebf98a1744f2c\"><rect x=\"30.0\" y=\"30.0\" width=\"290.0\" height=\"205.0\"></rect></clipPath><g clip-path=\"url(#taace023baecc4277aa1ebf98a1744f2c)\"><g class=\"toytree-mark-Toytree\" id=\"ta23a3a8b801448368bb43c1dc39e989e\"><g class=\"toytree-Edges\" style=\"fill:none;stroke:rgb(14.9%,14.9%,14.9%);stroke-linecap:round;stroke-opacity:1;stroke-width:2\"><path d=\"M 207.0 61.0 L 256.2 81.1\" id=\"22,21\"></path><path d=\"M 207.0 61.0 L 157.9 81.1\" id=\"22,20\"></path><path d=\"M 256.2 81.1 L 276.5 101.3\" id=\"21,19\"></path><path d=\"M 256.2 81.1 L 235.9 101.3\" id=\"21,18\"></path><path d=\"M 157.9 81.1 L 190.2 101.3\" id=\"20,17\"></path><path d=\"M 157.9 81.1 L 125.5 101.3\" id=\"20,16\"></path><path d=\"M 190.2 101.3 L 175.0 121.4\" id=\"17,15\"></path><path d=\"M 125.5 101.3 L 106.5 121.4\" id=\"16,14\"></path><path d=\"M 106.5 121.4 L 88.8 141.5\" id=\"14,13\"></path><path d=\"M 88.8 141.5 L 73.5 161.7\" id=\"13,12\"></path><path d=\"M 276.5 101.3 L 286.6 181.8\" id=\"19,11\"></path><path d=\"M 276.5 101.3 L 266.3 181.8\" id=\"19,10\"></path><path d=\"M 235.9 101.3 L 246.0 181.8\" id=\"18,9\"></path><path d=\"M 235.9 101.3 L 225.7 181.8\" id=\"18,8\"></path><path d=\"M 190.2 101.3 L 205.4 181.8\" id=\"17,7\"></path><path d=\"M 175.0 121.4 L 185.1 181.8\" id=\"15,6\"></path><path d=\"M 175.0 121.4 L 164.9 181.8\" id=\"15,5\"></path><path d=\"M 125.5 101.3 L 144.6 181.8\" id=\"16,4\"></path><path d=\"M 106.5 121.4 L 124.3 181.8\" id=\"14,3\"></path><path d=\"M 88.8 141.5 L 104.0 181.8\" id=\"13,2\"></path><path d=\"M 73.5 161.7 L 83.7 181.8\" id=\"12,1\"></path><path d=\"M 73.5 161.7 L 63.4 181.8\" id=\"12,0\"></path></g><g class=\"toytree-Nodes\" style=\"fill:rgb(40%,76.1%,64.7%);fill-opacity:1.0;stroke:rgb(14.9%,14.9%,14.9%);stroke-opacity:1.0;stroke-width:1\"><g id=\"node-0\" transform=\"translate(63.393,181.798)\"><circle r=\"7.5\"></circle></g><g id=\"node-1\" transform=\"translate(83.685,181.798)\"><circle r=\"7.5\"></circle></g><g id=\"node-2\" transform=\"translate(103.977,181.798)\"><circle r=\"7.5\"></circle></g><g id=\"node-3\" transform=\"translate(124.269,181.798)\"><circle r=\"7.5\"></circle></g><g id=\"node-4\" transform=\"translate(144.562,181.798)\"><circle r=\"7.5\"></circle></g><g id=\"node-5\" transform=\"translate(164.854,181.798)\"><circle r=\"7.5\"></circle></g><g id=\"node-6\" transform=\"translate(185.146,181.798)\"><circle r=\"7.5\"></circle></g><g id=\"node-7\" transform=\"translate(205.438,181.798)\"><circle r=\"7.5\"></circle></g><g id=\"node-8\" transform=\"translate(225.731,181.798)\"><circle r=\"7.5\"></circle></g><g id=\"node-9\" transform=\"translate(246.023,181.798)\"><circle r=\"7.5\"></circle></g><g id=\"node-10\" transform=\"translate(266.315,181.798)\"><circle r=\"7.5\"></circle></g><g id=\"node-11\" transform=\"translate(286.607,181.798)\"><circle r=\"7.5\"></circle></g><g id=\"node-12\" transform=\"translate(73.539,161.662)\"><circle r=\"7.5\"></circle></g><g id=\"node-13\" transform=\"translate(88.758,141.526)\"><circle r=\"7.5\"></circle></g><g id=\"node-14\" transform=\"translate(106.514,121.391)\"><circle r=\"7.5\"></circle></g><g id=\"node-15\" transform=\"translate(175.000,121.391)\"><circle r=\"7.5\"></circle></g><g id=\"node-16\" transform=\"translate(125.538,101.255)\"><circle r=\"7.5\"></circle></g><g id=\"node-17\" transform=\"translate(190.219,101.255)\"><circle r=\"7.5\"></circle></g><g id=\"node-18\" transform=\"translate(235.877,101.255)\"><circle r=\"7.5\"></circle></g><g id=\"node-19\" transform=\"translate(276.461,101.255)\"><circle r=\"7.5\"></circle></g><g id=\"node-20\" transform=\"translate(157.878,81.119)\"><circle r=\"7.5\"></circle></g><g id=\"node-21\" transform=\"translate(256.169,81.119)\"><circle r=\"7.5\"></circle></g><g id=\"node-22\" transform=\"translate(207.024,60.983)\"><circle r=\"7.5\"></circle></g></g><g class=\"toytree-NodeLabels\" style=\"fill:rgb(14.9%,14.9%,14.9%);fill-opacity:1.0;font-size:9px;stroke:none\"><g transform=\"translate(60.89,184.10)\"><text>0</text></g><g transform=\"translate(81.18,184.10)\"><text>1</text></g><g transform=\"translate(101.48,184.10)\"><text>2</text></g><g transform=\"translate(121.77,184.10)\"><text>3</text></g><g transform=\"translate(142.06,184.10)\"><text>4</text></g><g transform=\"translate(162.35,184.10)\"><text>5</text></g><g transform=\"translate(182.64,184.10)\"><text>6</text></g><g transform=\"translate(202.94,184.10)\"><text>7</text></g><g transform=\"translate(223.23,184.10)\"><text>8</text></g><g transform=\"translate(243.52,184.10)\"><text>9</text></g><g transform=\"translate(261.31,184.10)\"><text>10</text></g><g transform=\"translate(281.60,184.10)\"><text>11</text></g><g transform=\"translate(68.53,163.96)\"><text>12</text></g><g transform=\"translate(83.75,143.83)\"><text>13</text></g><g transform=\"translate(101.51,123.69)\"><text>14</text></g><g transform=\"translate(170.00,123.69)\"><text>15</text></g><g transform=\"translate(120.53,103.55)\"><text>16</text></g><g transform=\"translate(185.22,103.55)\"><text>17</text></g><g transform=\"translate(230.87,103.55)\"><text>18</text></g><g transform=\"translate(271.46,103.55)\"><text>19</text></g><g transform=\"translate(152.87,83.42)\"><text>20</text></g><g transform=\"translate(251.16,83.42)\"><text>21</text></g><g transform=\"translate(202.02,63.28)\"><text>22</text></g></g><g class=\"toytree-TipLabels\" style=\"fill:rgb(14.9%,14.9%,14.9%);fill-opacity:1.0;font-family:helvetica;font-size:11px;font-weight:normal;stroke:none;white-space:pre\"><g transform=\"translate(63.39,181.80)rotate(-90)\"><text x=\"-24.78\" y=\"2.81\" style=\"\">r0</text></g><g transform=\"translate(83.69,181.80)rotate(-90)\"><text x=\"-24.78\" y=\"2.81\" style=\"\">r1</text></g><g transform=\"translate(103.98,181.80)rotate(-90)\"><text x=\"-24.78\" y=\"2.81\" style=\"\">r2</text></g><g transform=\"translate(124.27,181.80)rotate(-90)\"><text x=\"-24.78\" y=\"2.81\" style=\"\">r3</text></g><g transform=\"translate(144.56,181.80)rotate(-90)\"><text x=\"-24.78\" y=\"2.81\" style=\"\">r4</text></g><g transform=\"translate(164.85,181.80)rotate(-90)\"><text x=\"-24.78\" y=\"2.81\" style=\"\">r5</text></g><g transform=\"translate(185.15,181.80)rotate(-90)\"><text x=\"-24.78\" y=\"2.81\" style=\"\">r6</text></g><g transform=\"translate(205.44,181.80)rotate(-90)\"><text x=\"-24.78\" y=\"2.81\" style=\"\">r7</text></g><g transform=\"translate(225.73,181.80)rotate(-90)\"><text x=\"-24.78\" y=\"2.81\" style=\"\">r8</text></g><g transform=\"translate(246.02,181.80)rotate(-90)\"><text x=\"-24.78\" y=\"2.81\" style=\"\">r9</text></g><g transform=\"translate(266.31,181.80)rotate(-90)\"><text x=\"-30.90\" y=\"2.81\" style=\"\">r10</text></g><g transform=\"translate(286.61,181.80)rotate(-90)\"><text x=\"-30.90\" y=\"2.81\" style=\"\">r11</text></g></g></g></g><g class=\"toyplot-coordinates-Axis\" id=\"t3462bb55721a4ba4904c4353f1e80e68\" transform=\"translate(50.0,215.0)rotate(-90.0)translate(0,-20.0)\"><line x1=\"33.2020901284697\" y1=\"0\" x2=\"154.01684084403917\" y2=\"0\" style=\"\"></line><g><line x1=\"33.2020901284697\" y1=\"0\" x2=\"33.2020901284697\" y2=\"5\" style=\"\"></line><line x1=\"93.60946548625444\" y1=\"0\" x2=\"93.60946548625444\" y2=\"5\" style=\"\"></line><line x1=\"154.01684084403917\" y1=\"0\" x2=\"154.01684084403917\" y2=\"5\" style=\"\"></line></g><g><g transform=\"translate(33.2020901284697,-6)\"><text x=\"-6.95\" y=\"-4.440892098500626e-16\" style=\"fill:rgb(16.1%,15.3%,14.1%);fill-opacity:1.0;font-family:helvetica;font-size:10.0px;font-weight:normal;stroke:none;vertical-align:baseline;white-space:pre\">0.0</text></g><g transform=\"translate(93.60946548625444,-6)\"><text x=\"-6.95\" y=\"-4.440892098500626e-16\" style=\"fill:rgb(16.1%,15.3%,14.1%);fill-opacity:1.0;font-family:helvetica;font-size:10.0px;font-weight:normal;stroke:none;vertical-align:baseline;white-space:pre\">0.5</text></g><g transform=\"translate(154.01684084403917,-6)\"><text x=\"-6.95\" y=\"-4.440892098500626e-16\" style=\"fill:rgb(16.1%,15.3%,14.1%);fill-opacity:1.0;font-family:helvetica;font-size:10.0px;font-weight:normal;stroke:none;vertical-align:baseline;white-space:pre\">1.0</text></g></g><g class=\"toyplot-coordinates-Axis-coordinates\" style=\"visibility:hidden\" transform=\"\"><line x1=\"0\" x2=\"0\" y1=\"3.0\" y2=\"-4.5\" style=\"stroke:rgb(43.9%,50.2%,56.5%);stroke-opacity:1.0;stroke-width:1.0\"></line><text x=\"0\" y=\"6\" style=\"alignment-baseline:hanging;fill:rgb(43.9%,50.2%,56.5%);fill-opacity:1.0;font-size:10px;font-weight:normal;stroke:none;text-anchor:middle\"></text></g></g></g></svg><div class=\"toyplot-behavior\"><script>(function()\n",
       "{\n",
       "var modules={};\n",
       "modules[\"toyplot/canvas/id\"] = \"t56efbd934edb4a0193c86bdcbad49bab\";\n",
       "modules[\"toyplot/canvas\"] = (function(canvas_id)\n",
       "    {\n",
       "        return document.querySelector(\"#\" + canvas_id);\n",
       "    })(modules[\"toyplot/canvas/id\"]);\n",
       "modules[\"toyplot.coordinates.Axis\"] = (\n",
       "        function(canvas)\n",
       "        {\n",
       "            function sign(x)\n",
       "            {\n",
       "                return x < 0 ? -1 : x > 0 ? 1 : 0;\n",
       "            }\n",
       "\n",
       "            function mix(a, b, amount)\n",
       "            {\n",
       "                return ((1.0 - amount) * a) + (amount * b);\n",
       "            }\n",
       "\n",
       "            function log(x, base)\n",
       "            {\n",
       "                return Math.log(Math.abs(x)) / Math.log(base);\n",
       "            }\n",
       "\n",
       "            function in_range(a, x, b)\n",
       "            {\n",
       "                var left = Math.min(a, b);\n",
       "                var right = Math.max(a, b);\n",
       "                return left <= x && x <= right;\n",
       "            }\n",
       "\n",
       "            function inside(range, projection)\n",
       "            {\n",
       "                for(var i = 0; i != projection.length; ++i)\n",
       "                {\n",
       "                    var segment = projection[i];\n",
       "                    if(in_range(segment.range.min, range, segment.range.max))\n",
       "                        return true;\n",
       "                }\n",
       "                return false;\n",
       "            }\n",
       "\n",
       "            function to_domain(range, projection)\n",
       "            {\n",
       "                for(var i = 0; i != projection.length; ++i)\n",
       "                {\n",
       "                    var segment = projection[i];\n",
       "                    if(in_range(segment.range.bounds.min, range, segment.range.bounds.max))\n",
       "                    {\n",
       "                        if(segment.scale == \"linear\")\n",
       "                        {\n",
       "                            var amount = (range - segment.range.min) / (segment.range.max - segment.range.min);\n",
       "                            return mix(segment.domain.min, segment.domain.max, amount)\n",
       "                        }\n",
       "                        else if(segment.scale[0] == \"log\")\n",
       "                        {\n",
       "                            var amount = (range - segment.range.min) / (segment.range.max - segment.range.min);\n",
       "                            var base = segment.scale[1];\n",
       "                            return sign(segment.domain.min) * Math.pow(base, mix(log(segment.domain.min, base), log(segment.domain.max, base), amount));\n",
       "                        }\n",
       "                    }\n",
       "                }\n",
       "            }\n",
       "\n",
       "            var axes = {};\n",
       "\n",
       "            function display_coordinates(e)\n",
       "            {\n",
       "                var current = canvas.createSVGPoint();\n",
       "                current.x = e.clientX;\n",
       "                current.y = e.clientY;\n",
       "\n",
       "                for(var axis_id in axes)\n",
       "                {\n",
       "                    var axis = document.querySelector(\"#\" + axis_id);\n",
       "                    var coordinates = axis.querySelector(\".toyplot-coordinates-Axis-coordinates\");\n",
       "                    if(coordinates)\n",
       "                    {\n",
       "                        var projection = axes[axis_id];\n",
       "                        var local = current.matrixTransform(axis.getScreenCTM().inverse());\n",
       "                        if(inside(local.x, projection))\n",
       "                        {\n",
       "                            var domain = to_domain(local.x, projection);\n",
       "                            coordinates.style.visibility = \"visible\";\n",
       "                            coordinates.setAttribute(\"transform\", \"translate(\" + local.x + \")\");\n",
       "                            var text = coordinates.querySelector(\"text\");\n",
       "                            text.textContent = domain.toFixed(2);\n",
       "                        }\n",
       "                        else\n",
       "                        {\n",
       "                            coordinates.style.visibility= \"hidden\";\n",
       "                        }\n",
       "                    }\n",
       "                }\n",
       "            }\n",
       "\n",
       "            canvas.addEventListener(\"click\", display_coordinates);\n",
       "\n",
       "            var module = {};\n",
       "            module.show_coordinates = function(axis_id, projection)\n",
       "            {\n",
       "                axes[axis_id] = projection;\n",
       "            }\n",
       "\n",
       "            return module;\n",
       "        })(modules[\"toyplot/canvas\"]);\n",
       "(function(axis, axis_id, projection)\n",
       "        {\n",
       "            axis.show_coordinates(axis_id, projection);\n",
       "        })(modules[\"toyplot.coordinates.Axis\"],\"t3462bb55721a4ba4904c4353f1e80e68\",[{\"domain\": {\"bounds\": {\"max\": Infinity, \"min\": -Infinity}, \"max\": 1.0909090909090906, \"min\": -0.2748181818181819}, \"range\": {\"bounds\": {\"max\": Infinity, \"min\": -Infinity}, \"max\": 165.0, \"min\": 0.0}, \"scale\": \"linear\"}]);\n",
       "})();</script></div></div>"
      ]
     },
     "metadata": {},
     "output_type": "display_data"
    }
   ],
   "source": [
    "testdata = [0,0,1,1,0,1,0,1,0,1,1,0]\n",
    "testtree = toytree.rtree.unittree(ntips = 12)\n",
    "testtree.draw(tree_style = 'p')"
   ]
  },
  {
   "cell_type": "code",
   "execution_count": 3,
   "id": "organized-switzerland",
   "metadata": {},
   "outputs": [],
   "source": [
    "def data_to_dict(data):\n",
    "    \"\"\"\n",
    "    Parses data into format that can be used by the cond_like and\n",
    "    pruningalg functions\n",
    "    \"\"\"\n",
    "    values = [{0:-(i-1),1:i} for i in data]\n",
    "    keys = list(range(0, len(data), 1))\n",
    "    valuesdict = dict(zip(keys,values))\n",
    "    return valuesdict"
   ]
  },
  {
   "cell_type": "code",
   "execution_count": 4,
   "id": "composed-vancouver",
   "metadata": {},
   "outputs": [
    {
     "data": {
      "text/plain": [
       "array(['', '', '', '', '', '', '', '', '', '', '', {0: 1, 1: 0},\n",
       "       {0: 0, 1: 1}, {0: 0, 1: 1}, {0: 1, 1: 0}, {0: 0, 1: 1},\n",
       "       {0: 1, 1: 0}, {0: 0, 1: 1}, {0: 1, 1: 0}, {0: 0, 1: 1},\n",
       "       {0: 0, 1: 1}, {0: 1, 1: 0}, {0: 1, 1: 0}], dtype=object)"
      ]
     },
     "execution_count": 4,
     "metadata": {},
     "output_type": "execute_result"
    }
   ],
   "source": [
    "check = data_to_dict(data = testdata)\n",
    "check\n",
    "\n",
    "testtree = testtree.set_node_values('test', values = check)\n",
    "testtree.get_node_values('test',True,True)"
   ]
  },
  {
   "cell_type": "code",
   "execution_count": 58,
   "id": "danish-cream",
   "metadata": {},
   "outputs": [],
   "source": [
    "def assign_tip_like_values(tree, data):\n",
    "    \"\"\"\n",
    "    Assigns likelihood values to tree tips\n",
    "    \"\"\"\n",
    "    values = [{0:-(i-1),1:i} for i in data]\n",
    "    keys = list(range(0, len(data), 1))\n",
    "    valuesdict = dict(zip(keys,values))\n",
    "    tree = tree.set_node_values(feature = \"likelihood\", values = valuesdict)\n",
    "    return tree"
   ]
  },
  {
   "cell_type": "code",
   "execution_count": 6,
   "id": "renewable-spirituality",
   "metadata": {},
   "outputs": [
    {
     "data": {
      "text/plain": [
       "array(['', '', '', '', '', '', '', '', '', '', '', {0: 1, 1: 0},\n",
       "       {0: 0, 1: 1}, {0: 0, 1: 1}, {0: 1, 1: 0}, {0: 0, 1: 1},\n",
       "       {0: 1, 1: 0}, {0: 0, 1: 1}, {0: 1, 1: 0}, {0: 0, 1: 1},\n",
       "       {0: 0, 1: 1}, {0: 1, 1: 0}, {0: 1, 1: 0}], dtype=object)"
      ]
     },
     "execution_count": 6,
     "metadata": {},
     "output_type": "execute_result"
    }
   ],
   "source": [
    "mytree = assign_tip_like_values(tree = testtree, data=testdata)\n",
    "mytree.get_node_values('likelihood',True,True)"
   ]
  },
  {
   "cell_type": "code",
   "execution_count": 67,
   "id": "aquatic-queens",
   "metadata": {},
   "outputs": [],
   "source": [
    "def cond_like(likeleft0, likeleft1, likeright0, likeright1, tL, tR, alpha, beta):\n",
    "    \"\"\"\n",
    "    Calculates conditional likelihood of character states at each node\n",
    "    \"\"\"\n",
    "\n",
    "    Q = np.array([[-alpha, alpha], [beta, -beta]])\n",
    "    probleft = expm(Q*tL)\n",
    "    probright = expm(Q*tR)\n",
    " \n",
    "    #ancestor is 0\n",
    "    left0 = probleft[0, 0] * likeleft0 + probleft[0, 1] * likeleft1\n",
    "    right0 = probright[0, 0] * likeright0 + probright[0, 1] * likeright1\n",
    "    like_zero = left0*right0\n",
    " \n",
    "    #ancestor is 1\n",
    "    left1 = probleft[1, 0] * likeleft0 + probleft[1, 1] * likeleft1\n",
    "    right1 = probright[1, 0] * likeright0 + probright[1, 1] * likeright1\n",
    "    like_one = left1*right1\n",
    " \n",
    "    return {0: like_zero, 1: like_one}"
   ]
  },
  {
   "cell_type": "code",
   "execution_count": 103,
   "id": "advisory-subscriber",
   "metadata": {},
   "outputs": [],
   "source": [
    "def pruning_alg_before(tree, alpha, beta):\n",
    "    for node in tree.treenode.traverse(\"postorder\"):\n",
    "        if len(node.children) == 2:\n",
    "            child1 = node.children[0]\n",
    "            child2 = node.children[1]\n",
    "            likedict = cond_like(likeright0 = child1.likelihood[0],\n",
    "                                 likeright1 = child1.likelihood[1],\n",
    "                                 likeleft0 = child2.likelihood[0],\n",
    "                                 likeleft1 = child2.likelihood[1],\n",
    "                                 tR = child1.dist,\n",
    "                                 tL = child2.dist,\n",
    "                                 alpha = alpha,\n",
    "                                 beta = beta)\n",
    "            print(likedict)\n",
    "            node.likelihood = likedict"
   ]
  },
  {
   "cell_type": "code",
   "execution_count": 99,
   "id": "cardiovascular-retro",
   "metadata": {},
   "outputs": [
    {
     "data": {
      "text/plain": [
       "array(['', '', '', '', {0: 1, 1: 0}, {0: 1, 1: 0}, {0: 0, 1: 1},\n",
       "       {0: 0, 1: 1}, {0: 1, 1: 0}], dtype=object)"
      ]
     },
     "execution_count": 99,
     "metadata": {},
     "output_type": "execute_result"
    }
   ],
   "source": [
    "tre1 = toytree.rtree.unittree(ntips=5)\n",
    "data1 = [0,1,1,0,0]\n",
    "tre2 = assign_tip_like_values(tree=tre1, data=data1)\n",
    "tre2.get_node_values('likelihood',True,True)"
   ]
  },
  {
   "cell_type": "code",
   "execution_count": 105,
   "id": "indonesian-dispatch",
   "metadata": {},
   "outputs": [
    {
     "name": "stdout",
     "output_type": "stream",
     "text": [
      "{0: 0.24991613434302426, 1: 0.24991613434302432}\n",
      "{0: 0.12491614840992109, 1: 0.12499998593310307}\n",
      "{0: 0.06247903358339737, 1: 0.06247903358339738}\n",
      "{0: 0.03123952030724314, 1: 0.03123951327615419}\n"
     ]
    },
    {
     "data": {
      "text/plain": [
       "array([{0: 0.03123952030724314, 1: 0.03123951327615419},\n",
       "       {0: 0.06247903358339737, 1: 0.06247903358339738},\n",
       "       {0: 0.12491614840992109, 1: 0.12499998593310307},\n",
       "       {0: 0.24991613434302426, 1: 0.24991613434302432}, {0: 1, 1: 0},\n",
       "       {0: 1, 1: 0}, {0: 0, 1: 1}, {0: 0, 1: 1}, {0: 1, 1: 0}],\n",
       "      dtype=object)"
      ]
     },
     "execution_count": 105,
     "metadata": {},
     "output_type": "execute_result"
    }
   ],
   "source": [
    "pruning_alg_before(tree=tre2,alpha=8.0,beta=8.0)\n",
    "tre2.get_node_values('likelihood',True,True)"
   ]
  },
  {
   "cell_type": "code",
   "execution_count": 10,
   "id": "prescription-prompt",
   "metadata": {},
   "outputs": [],
   "source": [
    "def node_like(x0, likeleft0, likeleft1, likeright0, likeright1, tL, tR, anca):\n",
    "    \n",
    "    condlik = cond_like(likeleft0, likeleft1, likeright0, likeright1, tL, tR, x0[0], x0[1])\n",
    "    \n",
    "    # get full likelihood\n",
    "    lik = (1 - anca) * condlik[0] + (anca) * condlik[1]\n",
    "    \n",
    "    # I don't understand this part\n",
    "    if anca in [0., 1.]:\n",
    "        lik /= 2\n",
    "    \n",
    "    return -lik #np.log(lik)"
   ]
  },
  {
   "cell_type": "code",
   "execution_count": 13,
   "id": "prostate-feeding",
   "metadata": {},
   "outputs": [],
   "source": [
    "def model_fit(likeleft0, likeleft1, likeright0, likeright1, tL, tR, anca):\n",
    "    \"\"\"\n",
    "    Find the maximum likelihood estimate of the two\n",
    "    rate model parameters at each node given the data.\n",
    "    \"\"\"\n",
    "    args = (likeleft0, likeleft1, likeright0, likeright1, tL, tR, anca)\n",
    "    \n",
    "    # ML estimate\n",
    "    estimate = minimize(\n",
    "        fun=node_like, \n",
    "        x0=np.array([1., 1.]),\n",
    "        args=args,\n",
    "        method='L-BFGS-B',\n",
    "        bounds=((0, 10), (0, 10))\n",
    "    )\n",
    "    \n",
    "    score = -1 * node_like(estimate.x, *args)\n",
    "    result = {\n",
    "        \"alpha\": round(estimate.x[0], 3),\n",
    "        \"beta\": round(estimate.x[1], 3), \n",
    "        \"lik\": round(score, 3),\n",
    "        \"convergence\": estimate.success,\n",
    "    }\n",
    "    return result"
   ]
  },
  {
   "cell_type": "code",
   "execution_count": 14,
   "id": "renewable-republic",
   "metadata": {},
   "outputs": [
    {
     "data": {
      "text/plain": [
       "{'alpha': 1.0, 'beta': 1.0, 'lik': 0.25, 'convergence': True}"
      ]
     },
     "execution_count": 14,
     "metadata": {},
     "output_type": "execute_result"
    }
   ],
   "source": [
    "model_fit(0,1,1,0,5,5,0.5)"
   ]
  },
  {
   "cell_type": "code",
   "execution_count": 118,
   "id": "continued-grade",
   "metadata": {},
   "outputs": [],
   "source": [
    "def fit_model_at_nodes(tree, anca=0.5):\n",
    "    tree = tree.set_node_values('alpha')\n",
    "    tree = tree.set_node_values('beta')\n",
    "    for node in tree.treenode.traverse(\"postorder\"):\n",
    "        if len(node.children) == 2:\n",
    "            child1 = node.children[0]\n",
    "            child2 = node.children[1]\n",
    "            model = model_fit(likeright0 = child1.likelihood[0],\n",
    "                              likeright1 = child1.likelihood[1],\n",
    "                              likeleft0 = child2.likelihood[0],\n",
    "                              likeleft1 = child2.likelihood[1],\n",
    "                              tR = child1.dist,\n",
    "                              tL = child2.dist,\n",
    "                              anca = anca)\n",
    "            print(model)\n",
    "            node.alpha = model['alpha']\n",
    "            node.beta = model['beta']  \n",
    "    return tree"
   ]
  },
  {
   "cell_type": "code",
   "execution_count": 119,
   "id": "grateful-incentive",
   "metadata": {},
   "outputs": [
    {
     "name": "stdout",
     "output_type": "stream",
     "text": [
      "{'alpha': 9.977, 'beta': 10.0, 'lik': 0.25, 'convergence': True}\n",
      "{'alpha': 10.0, 'beta': 0.0, 'lik': 0.249, 'convergence': True}\n",
      "{'alpha': 0.0, 'beta': 10.0, 'lik': 0.125, 'convergence': True}\n",
      "{'alpha': 0.0, 'beta': 8.267, 'lik': 0.062, 'convergence': True}\n"
     ]
    },
    {
     "data": {
      "text/plain": [
       "array(['0.0', '0.0', '10.0', '9.977', '', '', '', '', ''], dtype='<U32')"
      ]
     },
     "execution_count": 119,
     "metadata": {},
     "output_type": "execute_result"
    }
   ],
   "source": [
    "tre3 = fit_model_at_nodes(tree=tre2, anca=0.6)\n",
    "tre3.get_node_values('alpha',True,True)"
   ]
  },
  {
   "cell_type": "code",
   "execution_count": 121,
   "id": "formed-cream",
   "metadata": {},
   "outputs": [],
   "source": [
    "def pruning_alg_after(tree):\n",
    "    \"\"\"\n",
    "    Runs Felsenstein's pruning algorithm on an input tree, given instantaneous transition\n",
    "    rates alpha and beta. Assigns likelihood scores for characters states at each node.\n",
    "    Specifically for binary state model. \n",
    "    \"\"\"\n",
    "    tree = fit_model_at_nodes(tree)\n",
    "    for node in tree.treenode.traverse(\"postorder\"):\n",
    "        if len(node.children) == 2:\n",
    "            child1 = node.children[0]\n",
    "            child2 = node.children[1]\n",
    "            likedict = cond_like(likeright0 = child1.likelihood[0],\n",
    "                                 likeright1 = child1.likelihood[1],\n",
    "                                 likeleft0 = child2.likelihood[0],\n",
    "                                 likeleft1 = child2.likelihood[1],\n",
    "                                 tR = child1.dist,\n",
    "                                 tL = child2.dist,\n",
    "                                 alpha = float(node.alpha),\n",
    "                                 beta = float(node.beta))\n",
    "            node.likelihood = likedict\n",
    "    return tree"
   ]
  },
  {
   "cell_type": "code",
   "execution_count": 122,
   "id": "average-bibliography",
   "metadata": {},
   "outputs": [
    {
     "name": "stdout",
     "output_type": "stream",
     "text": [
      "{'alpha': 10.0, 'beta': 10.0, 'lik': 0.25, 'convergence': True}\n",
      "{'alpha': 10.0, 'beta': 0.0, 'lik': 0.249, 'convergence': True}\n",
      "{'alpha': 0.0, 'beta': 10.0, 'lik': 0.125, 'convergence': True}\n",
      "{'alpha': 0.0, 'beta': 8.684, 'lik': 0.062, 'convergence': True}\n"
     ]
    },
    {
     "data": {
      "text/plain": [
       "array([{0: 0.2483042397433679, 1: 0.24826230615863087},\n",
       "       {0: 0.2483042397433679, 1: 0.24830509489225527},\n",
       "       {0: 0.2483042397433679, 1: 0.2499886500175592},\n",
       "       {0: 0.24998865001755924, 1: 0.2499886500175592}, {0: 1, 1: 0},\n",
       "       {0: 1, 1: 0}, {0: 0, 1: 1}, {0: 0, 1: 1}, {0: 1, 1: 0}],\n",
       "      dtype=object)"
      ]
     },
     "execution_count": 122,
     "metadata": {},
     "output_type": "execute_result"
    }
   ],
   "source": [
    "tre4 = pruning_alg_after(tree=tre3)\n",
    "tre4.get_node_values('likelihood',True,True)"
   ]
  },
  {
   "cell_type": "code",
   "execution_count": 123,
   "id": "loose-marking",
   "metadata": {},
   "outputs": [],
   "source": [
    "newtree = toytree.rtree.unittree(ntips = 5)\n",
    "newdata = [0,1,1,0,1]"
   ]
  },
  {
   "cell_type": "code",
   "execution_count": 129,
   "id": "stupid-proportion",
   "metadata": {},
   "outputs": [
    {
     "name": "stdout",
     "output_type": "stream",
     "text": [
      "{0: 0.20691515843991698, 1: 0.2029229574844161}\n",
      "{0: 0.22896919294242238, 1: 0.1914398763797467}\n",
      "{0: 0.14488324266621644, 1: 0.1441994633863237}\n",
      "{0: 0.02951533310630989, 1: 0.029445891375951643}\n",
      "{'alpha': 4.259, 'beta': 4.259, 'lik': 0.25, 'convergence': True}\n",
      "{'alpha': 8.166, 'beta': 8.163, 'lik': 0.25, 'convergence': True}\n",
      "{'alpha': 7.041, 'beta': 0.0, 'lik': 0.192, 'convergence': True}\n",
      "{'alpha': 0.0, 'beta': 8.499, 'lik': 0.03, 'convergence': True}\n"
     ]
    }
   ],
   "source": [
    "newtree = assign_tip_like_values(tree=newtree,data=newdata)\n",
    "pruning_alg_before(tree=newtree,alpha=5.0,beta=2.0)\n",
    "newtree = pruning_alg_after(tree=newtree)"
   ]
  },
  {
   "cell_type": "code",
   "execution_count": 130,
   "id": "international-apparel",
   "metadata": {},
   "outputs": [
    {
     "data": {
      "text/plain": [
       "array([{0: 0.06192616013452055, 1: 0.06195980488444142},\n",
       "       {0: 0.2499970791260673, 1: 0.2499970791260674},\n",
       "       {0: 0.24770753462800554, 1: 0.2499949163015982},\n",
       "       {0: 0.24999570773387142, 1: 0.2499949163015982}, {0: 0, 1: 1},\n",
       "       {0: 1, 1: 0}, {0: 0, 1: 1}, {0: 0, 1: 1}, {0: 1, 1: 0}],\n",
       "      dtype=object)"
      ]
     },
     "execution_count": 130,
     "metadata": {},
     "output_type": "execute_result"
    }
   ],
   "source": [
    "newtree.get_node_values('likelihood',True,True)"
   ]
  }
 ],
 "metadata": {
  "kernelspec": {
   "display_name": "Python 3",
   "language": "python",
   "name": "python3"
  },
  "language_info": {
   "codemirror_mode": {
    "name": "ipython",
    "version": 3
   },
   "file_extension": ".py",
   "mimetype": "text/x-python",
   "name": "python",
   "nbconvert_exporter": "python",
   "pygments_lexer": "ipython3",
   "version": "3.8.5"
  }
 },
 "nbformat": 4,
 "nbformat_minor": 5
}
