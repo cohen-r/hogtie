{
 "cells": [
  {
   "cell_type": "code",
   "execution_count": 1,
   "id": "sixth-concrete",
   "metadata": {},
   "outputs": [],
   "source": [
    "import numpy as np\n",
    "import pandas as pd\n",
    "import toytree\n",
    "from scipy.optimize import minimize\n",
    "from scipy.linalg import expm"
   ]
  },
  {
   "cell_type": "code",
   "execution_count": 4,
   "id": "organized-switzerland",
   "metadata": {},
   "outputs": [],
   "source": [
    "def datatodict(data):\n",
    "    \"\"\"\n",
    "    Parses data into format that can be used by the cond_like and\n",
    "    pruningalg functions\n",
    "    \"\"\"\n",
    "    values = [{0:-(i-1),1:i} for i in data]\n",
    "    keys = list(range(0, len(mydata), 1))\n",
    "    valuesdict = dict(zip(keys,values))\n",
    "    return valuesdict"
   ]
  },
  {
   "cell_type": "code",
   "execution_count": 5,
   "id": "aquatic-queens",
   "metadata": {},
   "outputs": [],
   "source": [
    "def cond_like(likeleft0, likeleft1, likeright0, likeright1, tL, tR, alpha, beta):\n",
    "    \"\"\"\n",
    "    Calculates conditional likelihood of character states at each node\n",
    "    \"\"\"\n",
    "\n",
    "    Q = np.array([[-alpha, alpha], [beta, -beta]])\n",
    "    probleft = expm(Q*tL)\n",
    "    probright = expm(Q*tR)\n",
    " \n",
    "    #ancestor is 0\n",
    "    left0 = probleft[0, 0] * likeleft0 + probleft[0, 1] * likeleft1\n",
    "    right0 = probright[0, 0] * likeright0 + probright[0, 1] * likeright1\n",
    "    like_zero = left0*right0\n",
    " \n",
    "    #ancestor is 1\n",
    "    left1 = probleft[1, 0] * likeleft0 + probleft[1, 1] * likeleft1\n",
    "    right1 = probright[1, 0] * likeright0 + probright[1, 1] * likeright1\n",
    "    like_one = left1*right1\n",
    " \n",
    "    return {0: like_zero, 1: like_one}"
   ]
  },
  {
   "cell_type": "code",
   "execution_count": 6,
   "id": "advisory-subscriber",
   "metadata": {},
   "outputs": [],
   "source": [
    "def pruningalg(tree, alpha, beta):\n",
    "    \"\"\"\n",
    "    Runs Felsenstein's pruning algorithm on an input tree, given instantaneous transition\n",
    "    rates alpha and beta. Assigns likelihood scores for characters states at each node.\n",
    "    Specifically for binary state model. \n",
    "    \"\"\"\n",
    "    for node in tree.treenode.traverse(\"postorder\"):\n",
    "        if len(node.children) == 2:\n",
    "            child1 = node.children[0]\n",
    "            child2 = node.children[1]\n",
    "            likedict = cond_like(likeright0 = child1.likelihood[0],\n",
    "                                 likeright1 = child1.likelihood[1],\n",
    "                                 likeleft0 = child2.likelihood[0],\n",
    "                                 likeleft1 = child2.likelihood[1],\n",
    "                                 tR = child1.dist,\n",
    "                                 tL = child2.dist,\n",
    "                                 alpha = alpha,\n",
    "                                 beta = beta)\n",
    "            node.likelihood = likedict"
   ]
  },
  {
   "cell_type": "code",
   "execution_count": 14,
   "id": "basic-photography",
   "metadata": {},
   "outputs": [
    {
     "data": {
      "text/plain": [
       "(<toyplot.canvas.Canvas at 0x7f99fb1cbdc0>,\n",
       " <toyplot.coordinates.Cartesian at 0x7f99fa024790>,\n",
       " <toytree.Render.ToytreeMark at 0x7f99fa1402b0>)"
      ]
     },
     "execution_count": 14,
     "metadata": {},
     "output_type": "execute_result"
    },
    {
     "data": {
      "text/html": [
       "<div class=\"toyplot\" id=\"tab8d2677fcbc45a4a63da21e0191df3d\" style=\"text-align:center\"><svg class=\"toyplot-canvas-Canvas\" xmlns:toyplot=\"http://www.sandia.gov/toyplot\" xmlns:xlink=\"http://www.w3.org/1999/xlink\" xmlns=\"http://www.w3.org/2000/svg\" width=\"350.0px\" height=\"265.0px\" viewBox=\"0 0 350.0 265.0\" preserveAspectRatio=\"xMidYMid meet\" style=\"background-color:transparent;border-color:#292724;border-style:none;border-width:1.0;fill:rgb(16.1%,15.3%,14.1%);fill-opacity:1.0;font-family:Helvetica;font-size:12px;opacity:1.0;stroke:rgb(16.1%,15.3%,14.1%);stroke-opacity:1.0;stroke-width:1.0\" id=\"tedb4370e0b37471f85e3fce4527cb245\"><g class=\"toyplot-coordinates-Cartesian\" id=\"tc6216fdaa428466f87c7370039df718c\"><clipPath id=\"tde99e7c3dcc84ca4b378a50c1bbc70fb\"><rect x=\"30.0\" y=\"30.0\" width=\"290.0\" height=\"205.0\"></rect></clipPath><g clip-path=\"url(#tde99e7c3dcc84ca4b378a50c1bbc70fb)\"><g class=\"toytree-mark-Toytree\" id=\"t332d88ea22ea47a985d5ae65e35f09ae\"><g class=\"toytree-Edges\" style=\"fill:none;stroke:rgb(14.9%,14.9%,14.9%);stroke-linecap:round;stroke-opacity:1;stroke-width:2\"><path d=\"M 188.3 61.0 L 252.4 85.1\" id=\"22,21\"></path><path d=\"M 188.3 61.0 L 124.3 85.1\" id=\"22,20\"></path><path d=\"M 252.4 85.1 L 276.5 109.3\" id=\"21,19\"></path><path d=\"M 252.4 85.1 L 228.3 109.3\" id=\"21,18\"></path><path d=\"M 124.3 85.1 L 154.7 109.3\" id=\"20,17\"></path><path d=\"M 124.3 85.1 L 93.8 109.3\" id=\"20,16\"></path><path d=\"M 228.3 109.3 L 210.5 133.5\" id=\"18,15\"></path><path d=\"M 93.8 109.3 L 114.1 133.5\" id=\"16,14\"></path><path d=\"M 93.8 109.3 L 73.5 133.5\" id=\"16,13\"></path><path d=\"M 210.5 133.5 L 195.3 157.6\" id=\"15,12\"></path><path d=\"M 276.5 109.3 L 286.6 181.8\" id=\"19,11\"></path><path d=\"M 276.5 109.3 L 266.3 181.8\" id=\"19,10\"></path><path d=\"M 228.3 109.3 L 246.0 181.8\" id=\"18,9\"></path><path d=\"M 210.5 133.5 L 225.7 181.8\" id=\"15,8\"></path><path d=\"M 195.3 157.6 L 205.4 181.8\" id=\"12,7\"></path><path d=\"M 195.3 157.6 L 185.1 181.8\" id=\"12,6\"></path><path d=\"M 154.7 109.3 L 164.9 181.8\" id=\"17,5\"></path><path d=\"M 154.7 109.3 L 144.6 181.8\" id=\"17,4\"></path><path d=\"M 114.1 133.5 L 124.3 181.8\" id=\"14,3\"></path><path d=\"M 114.1 133.5 L 104.0 181.8\" id=\"14,2\"></path><path d=\"M 73.5 133.5 L 83.7 181.8\" id=\"13,1\"></path><path d=\"M 73.5 133.5 L 63.4 181.8\" id=\"13,0\"></path></g><g class=\"toytree-Nodes\" style=\"fill:rgb(40%,76.1%,64.7%);fill-opacity:1.0;stroke:rgb(14.9%,14.9%,14.9%);stroke-opacity:1.0;stroke-width:1\"><g id=\"node-0\" transform=\"translate(63.393,181.798)\"><circle r=\"7.5\"></circle></g><g id=\"node-1\" transform=\"translate(83.685,181.798)\"><circle r=\"7.5\"></circle></g><g id=\"node-2\" transform=\"translate(103.977,181.798)\"><circle r=\"7.5\"></circle></g><g id=\"node-3\" transform=\"translate(124.269,181.798)\"><circle r=\"7.5\"></circle></g><g id=\"node-4\" transform=\"translate(144.562,181.798)\"><circle r=\"7.5\"></circle></g><g id=\"node-5\" transform=\"translate(164.854,181.798)\"><circle r=\"7.5\"></circle></g><g id=\"node-6\" transform=\"translate(185.146,181.798)\"><circle r=\"7.5\"></circle></g><g id=\"node-7\" transform=\"translate(205.438,181.798)\"><circle r=\"7.5\"></circle></g><g id=\"node-8\" transform=\"translate(225.731,181.798)\"><circle r=\"7.5\"></circle></g><g id=\"node-9\" transform=\"translate(246.023,181.798)\"><circle r=\"7.5\"></circle></g><g id=\"node-10\" transform=\"translate(266.315,181.798)\"><circle r=\"7.5\"></circle></g><g id=\"node-11\" transform=\"translate(286.607,181.798)\"><circle r=\"7.5\"></circle></g><g id=\"node-12\" transform=\"translate(195.292,157.635)\"><circle r=\"7.5\"></circle></g><g id=\"node-13\" transform=\"translate(73.539,133.472)\"><circle r=\"7.5\"></circle></g><g id=\"node-14\" transform=\"translate(114.123,133.472)\"><circle r=\"7.5\"></circle></g><g id=\"node-15\" transform=\"translate(210.511,133.472)\"><circle r=\"7.5\"></circle></g><g id=\"node-16\" transform=\"translate(93.831,109.309)\"><circle r=\"7.5\"></circle></g><g id=\"node-17\" transform=\"translate(154.708,109.309)\"><circle r=\"7.5\"></circle></g><g id=\"node-18\" transform=\"translate(228.267,109.309)\"><circle r=\"7.5\"></circle></g><g id=\"node-19\" transform=\"translate(276.461,109.309)\"><circle r=\"7.5\"></circle></g><g id=\"node-20\" transform=\"translate(124.269,85.146)\"><circle r=\"7.5\"></circle></g><g id=\"node-21\" transform=\"translate(252.364,85.146)\"><circle r=\"7.5\"></circle></g><g id=\"node-22\" transform=\"translate(188.317,60.983)\"><circle r=\"7.5\"></circle></g></g><g class=\"toytree-NodeLabels\" style=\"fill:rgb(14.9%,14.9%,14.9%);fill-opacity:1.0;font-size:9px;stroke:none\"><g transform=\"translate(60.89,184.10)\"><text>0</text></g><g transform=\"translate(81.18,184.10)\"><text>1</text></g><g transform=\"translate(101.48,184.10)\"><text>2</text></g><g transform=\"translate(121.77,184.10)\"><text>3</text></g><g transform=\"translate(142.06,184.10)\"><text>4</text></g><g transform=\"translate(162.35,184.10)\"><text>5</text></g><g transform=\"translate(182.64,184.10)\"><text>6</text></g><g transform=\"translate(202.94,184.10)\"><text>7</text></g><g transform=\"translate(223.23,184.10)\"><text>8</text></g><g transform=\"translate(243.52,184.10)\"><text>9</text></g><g transform=\"translate(261.31,184.10)\"><text>10</text></g><g transform=\"translate(281.60,184.10)\"><text>11</text></g><g transform=\"translate(190.29,159.93)\"><text>12</text></g><g transform=\"translate(68.53,135.77)\"><text>13</text></g><g transform=\"translate(109.12,135.77)\"><text>14</text></g><g transform=\"translate(205.51,135.77)\"><text>15</text></g><g transform=\"translate(88.83,111.61)\"><text>16</text></g><g transform=\"translate(149.70,111.61)\"><text>17</text></g><g transform=\"translate(223.26,111.61)\"><text>18</text></g><g transform=\"translate(271.46,111.61)\"><text>19</text></g><g transform=\"translate(119.27,87.45)\"><text>20</text></g><g transform=\"translate(247.36,87.45)\"><text>21</text></g><g transform=\"translate(183.31,63.28)\"><text>22</text></g></g><g class=\"toytree-TipLabels\" style=\"fill:rgb(14.9%,14.9%,14.9%);fill-opacity:1.0;font-family:helvetica;font-size:11px;font-weight:normal;stroke:none;white-space:pre\"><g transform=\"translate(63.39,181.80)rotate(-90)\"><text x=\"-24.78\" y=\"2.81\" style=\"\">r0</text></g><g transform=\"translate(83.69,181.80)rotate(-90)\"><text x=\"-24.78\" y=\"2.81\" style=\"\">r1</text></g><g transform=\"translate(103.98,181.80)rotate(-90)\"><text x=\"-24.78\" y=\"2.81\" style=\"\">r2</text></g><g transform=\"translate(124.27,181.80)rotate(-90)\"><text x=\"-24.78\" y=\"2.81\" style=\"\">r3</text></g><g transform=\"translate(144.56,181.80)rotate(-90)\"><text x=\"-24.78\" y=\"2.81\" style=\"\">r4</text></g><g transform=\"translate(164.85,181.80)rotate(-90)\"><text x=\"-24.78\" y=\"2.81\" style=\"\">r5</text></g><g transform=\"translate(185.15,181.80)rotate(-90)\"><text x=\"-24.78\" y=\"2.81\" style=\"\">r6</text></g><g transform=\"translate(205.44,181.80)rotate(-90)\"><text x=\"-24.78\" y=\"2.81\" style=\"\">r7</text></g><g transform=\"translate(225.73,181.80)rotate(-90)\"><text x=\"-24.78\" y=\"2.81\" style=\"\">r8</text></g><g transform=\"translate(246.02,181.80)rotate(-90)\"><text x=\"-24.78\" y=\"2.81\" style=\"\">r9</text></g><g transform=\"translate(266.31,181.80)rotate(-90)\"><text x=\"-30.90\" y=\"2.81\" style=\"\">r10</text></g><g transform=\"translate(286.61,181.80)rotate(-90)\"><text x=\"-30.90\" y=\"2.81\" style=\"\">r11</text></g></g></g></g><g class=\"toyplot-coordinates-Axis\" id=\"td3d1fd259f42471e86381b24f17fda58\" transform=\"translate(50.0,215.0)rotate(-90.0)translate(0,-20.0)\"><line x1=\"33.20209012846969\" y1=\"0\" x2=\"154.01684084403917\" y2=\"0\" style=\"\"></line><g><line x1=\"33.20209012846969\" y1=\"0\" x2=\"33.20209012846969\" y2=\"5\" style=\"\"></line><line x1=\"93.60946548625441\" y1=\"0\" x2=\"93.60946548625441\" y2=\"5\" style=\"\"></line><line x1=\"154.01684084403917\" y1=\"0\" x2=\"154.01684084403917\" y2=\"5\" style=\"\"></line></g><g><g transform=\"translate(33.20209012846969,-6)\"><text x=\"-6.95\" y=\"-4.440892098500626e-16\" style=\"fill:rgb(16.1%,15.3%,14.1%);fill-opacity:1.0;font-family:helvetica;font-size:10.0px;font-weight:normal;stroke:none;vertical-align:baseline;white-space:pre\">0.0</text></g><g transform=\"translate(93.60946548625441,-6)\"><text x=\"-6.95\" y=\"-4.440892098500626e-16\" style=\"fill:rgb(16.1%,15.3%,14.1%);fill-opacity:1.0;font-family:helvetica;font-size:10.0px;font-weight:normal;stroke:none;vertical-align:baseline;white-space:pre\">0.5</text></g><g transform=\"translate(154.01684084403917,-6)\"><text x=\"-6.95\" y=\"-4.440892098500626e-16\" style=\"fill:rgb(16.1%,15.3%,14.1%);fill-opacity:1.0;font-family:helvetica;font-size:10.0px;font-weight:normal;stroke:none;vertical-align:baseline;white-space:pre\">1.0</text></g></g><g class=\"toyplot-coordinates-Axis-coordinates\" style=\"visibility:hidden\" transform=\"\"><line x1=\"0\" x2=\"0\" y1=\"3.0\" y2=\"-4.5\" style=\"stroke:rgb(43.9%,50.2%,56.5%);stroke-opacity:1.0;stroke-width:1.0\"></line><text x=\"0\" y=\"6\" style=\"alignment-baseline:hanging;fill:rgb(43.9%,50.2%,56.5%);fill-opacity:1.0;font-size:10px;font-weight:normal;stroke:none;text-anchor:middle\"></text></g></g></g></svg><div class=\"toyplot-behavior\"><script>(function()\n",
       "{\n",
       "var modules={};\n",
       "modules[\"toyplot/canvas/id\"] = \"tedb4370e0b37471f85e3fce4527cb245\";\n",
       "modules[\"toyplot/canvas\"] = (function(canvas_id)\n",
       "    {\n",
       "        return document.querySelector(\"#\" + canvas_id);\n",
       "    })(modules[\"toyplot/canvas/id\"]);\n",
       "modules[\"toyplot.coordinates.Axis\"] = (\n",
       "        function(canvas)\n",
       "        {\n",
       "            function sign(x)\n",
       "            {\n",
       "                return x < 0 ? -1 : x > 0 ? 1 : 0;\n",
       "            }\n",
       "\n",
       "            function mix(a, b, amount)\n",
       "            {\n",
       "                return ((1.0 - amount) * a) + (amount * b);\n",
       "            }\n",
       "\n",
       "            function log(x, base)\n",
       "            {\n",
       "                return Math.log(Math.abs(x)) / Math.log(base);\n",
       "            }\n",
       "\n",
       "            function in_range(a, x, b)\n",
       "            {\n",
       "                var left = Math.min(a, b);\n",
       "                var right = Math.max(a, b);\n",
       "                return left <= x && x <= right;\n",
       "            }\n",
       "\n",
       "            function inside(range, projection)\n",
       "            {\n",
       "                for(var i = 0; i != projection.length; ++i)\n",
       "                {\n",
       "                    var segment = projection[i];\n",
       "                    if(in_range(segment.range.min, range, segment.range.max))\n",
       "                        return true;\n",
       "                }\n",
       "                return false;\n",
       "            }\n",
       "\n",
       "            function to_domain(range, projection)\n",
       "            {\n",
       "                for(var i = 0; i != projection.length; ++i)\n",
       "                {\n",
       "                    var segment = projection[i];\n",
       "                    if(in_range(segment.range.bounds.min, range, segment.range.bounds.max))\n",
       "                    {\n",
       "                        if(segment.scale == \"linear\")\n",
       "                        {\n",
       "                            var amount = (range - segment.range.min) / (segment.range.max - segment.range.min);\n",
       "                            return mix(segment.domain.min, segment.domain.max, amount)\n",
       "                        }\n",
       "                        else if(segment.scale[0] == \"log\")\n",
       "                        {\n",
       "                            var amount = (range - segment.range.min) / (segment.range.max - segment.range.min);\n",
       "                            var base = segment.scale[1];\n",
       "                            return sign(segment.domain.min) * Math.pow(base, mix(log(segment.domain.min, base), log(segment.domain.max, base), amount));\n",
       "                        }\n",
       "                    }\n",
       "                }\n",
       "            }\n",
       "\n",
       "            var axes = {};\n",
       "\n",
       "            function display_coordinates(e)\n",
       "            {\n",
       "                var current = canvas.createSVGPoint();\n",
       "                current.x = e.clientX;\n",
       "                current.y = e.clientY;\n",
       "\n",
       "                for(var axis_id in axes)\n",
       "                {\n",
       "                    var axis = document.querySelector(\"#\" + axis_id);\n",
       "                    var coordinates = axis.querySelector(\".toyplot-coordinates-Axis-coordinates\");\n",
       "                    if(coordinates)\n",
       "                    {\n",
       "                        var projection = axes[axis_id];\n",
       "                        var local = current.matrixTransform(axis.getScreenCTM().inverse());\n",
       "                        if(inside(local.x, projection))\n",
       "                        {\n",
       "                            var domain = to_domain(local.x, projection);\n",
       "                            coordinates.style.visibility = \"visible\";\n",
       "                            coordinates.setAttribute(\"transform\", \"translate(\" + local.x + \")\");\n",
       "                            var text = coordinates.querySelector(\"text\");\n",
       "                            text.textContent = domain.toFixed(2);\n",
       "                        }\n",
       "                        else\n",
       "                        {\n",
       "                            coordinates.style.visibility= \"hidden\";\n",
       "                        }\n",
       "                    }\n",
       "                }\n",
       "            }\n",
       "\n",
       "            canvas.addEventListener(\"click\", display_coordinates);\n",
       "\n",
       "            var module = {};\n",
       "            module.show_coordinates = function(axis_id, projection)\n",
       "            {\n",
       "                axes[axis_id] = projection;\n",
       "            }\n",
       "\n",
       "            return module;\n",
       "        })(modules[\"toyplot/canvas\"]);\n",
       "(function(axis, axis_id, projection)\n",
       "        {\n",
       "            axis.show_coordinates(axis_id, projection);\n",
       "        })(modules[\"toyplot.coordinates.Axis\"],\"td3d1fd259f42471e86381b24f17fda58\",[{\"domain\": {\"bounds\": {\"max\": Infinity, \"min\": -Infinity}, \"max\": 1.0909090909090908, \"min\": -0.27481818181818196}, \"range\": {\"bounds\": {\"max\": Infinity, \"min\": -Infinity}, \"max\": 165.0, \"min\": 0.0}, \"scale\": \"linear\"}]);\n",
       "})();</script></div></div>"
      ]
     },
     "metadata": {},
     "output_type": "display_data"
    }
   ],
   "source": [
    "mytree = toytree.rtree.unittree(ntips = 12)\n",
    "mytree.draw(tree_style=\"p\")"
   ]
  },
  {
   "cell_type": "code",
   "execution_count": 20,
   "id": "civil-clock",
   "metadata": {},
   "outputs": [
    {
     "data": {
      "text/plain": [
       "{0: {0: 1, 1: 0},\n",
       " 1: {0: 0, 1: 1},\n",
       " 2: {0: 0, 1: 1},\n",
       " 3: {0: 0, 1: 1},\n",
       " 4: {0: 1, 1: 0},\n",
       " 5: {0: 1, 1: 0},\n",
       " 6: {0: 0, 1: 1},\n",
       " 7: {0: 0, 1: 1},\n",
       " 8: {0: 0, 1: 1},\n",
       " 9: {0: 1, 1: 0},\n",
       " 10: {0: 0, 1: 1},\n",
       " 11: {0: 1, 1: 0}}"
      ]
     },
     "execution_count": 20,
     "metadata": {},
     "output_type": "execute_result"
    }
   ],
   "source": [
    "mydata = [0,1,1,1,0,0,1,1,1,0,1,0]\n",
    "mydict = datatodict(mydata)\n",
    "mydict"
   ]
  },
  {
   "cell_type": "code",
   "execution_count": 48,
   "id": "trying-million",
   "metadata": {},
   "outputs": [
    {
     "data": {
      "text/plain": [
       "array(['', '', '', '', '', '', '', '', '', '', '', '', '', '', '', '', '',\n",
       "       '', '', '', '', '', ''], dtype='<U1')"
      ]
     },
     "execution_count": 48,
     "metadata": {},
     "output_type": "execute_result"
    }
   ],
   "source": [
    "mytree.set_node_values(feature = \"likelihood\", values = {0:{0:1,1:0}, 1:{0:0,1:1}})\n",
    "mytree.get_node_values(feature = \"likelihood\", show_tips=True)"
   ]
  },
  {
   "cell_type": "code",
   "execution_count": 38,
   "id": "direct-holiday",
   "metadata": {},
   "outputs": [
    {
     "data": {
      "text/plain": [
       "(<toyplot.canvas.Canvas at 0x7f99fb1cbac0>,\n",
       " <toyplot.coordinates.Cartesian at 0x7f99faa98e20>,\n",
       " <toytree.Render.ToytreeMark at 0x7f99faa9ed90>)"
      ]
     },
     "execution_count": 38,
     "metadata": {},
     "output_type": "execute_result"
    },
    {
     "data": {
      "text/html": [
       "<div class=\"toyplot\" id=\"t1bcef0de0fdd4c4985f5a3b6afc42968\" style=\"text-align:center\"><svg class=\"toyplot-canvas-Canvas\" xmlns:toyplot=\"http://www.sandia.gov/toyplot\" xmlns:xlink=\"http://www.w3.org/1999/xlink\" xmlns=\"http://www.w3.org/2000/svg\" width=\"350.0px\" height=\"260.0px\" viewBox=\"0 0 350.0 260.0\" preserveAspectRatio=\"xMidYMid meet\" style=\"background-color:transparent;border-color:#292724;border-style:none;border-width:1.0;fill:rgb(16.1%,15.3%,14.1%);fill-opacity:1.0;font-family:Helvetica;font-size:12px;opacity:1.0;stroke:rgb(16.1%,15.3%,14.1%);stroke-opacity:1.0;stroke-width:1.0\" id=\"tc5b2221982ff48b0b1d7a728da094320\"><g class=\"toyplot-coordinates-Cartesian\" id=\"t32be977c45814a55a2aff30d8a7be018\"><clipPath id=\"t25d95375ba774a55bf3eaefea13f8208\"><rect x=\"30.0\" y=\"30.0\" width=\"290.0\" height=\"200.0\"></rect></clipPath><g clip-path=\"url(#t25d95375ba774a55bf3eaefea13f8208)\"><g class=\"toytree-mark-Toytree\" id=\"t0a1c4bd6a3244f409a2dc826b7133bb8\"><g class=\"toytree-Edges\" style=\"fill:none;stroke:rgb(14.9%,14.9%,14.9%);stroke-linecap:round;stroke-opacity:1;stroke-width:2\"><path d=\"M 202.9 61.5 L 119.2 122.8\" id=\"4,3\"></path><path d=\"M 202.9 61.5 L 286.6 184.2\" id=\"4,2\"></path><path d=\"M 119.2 122.8 L 175.0 184.2\" id=\"3,1\"></path><path d=\"M 119.2 122.8 L 63.4 184.2\" id=\"3,0\"></path></g><g class=\"toytree-Nodes\" style=\"fill:rgb(40%,76.1%,64.7%);fill-opacity:1.0;stroke:rgb(14.9%,14.9%,14.9%);stroke-opacity:1.0;stroke-width:1\"><g id=\"node-0\" transform=\"translate(63.393,184.184)\"><circle r=\"7.5\"></circle></g><g id=\"node-1\" transform=\"translate(175.000,184.184)\"><circle r=\"7.5\"></circle></g><g id=\"node-2\" transform=\"translate(286.607,184.184)\"><circle r=\"7.5\"></circle></g><g id=\"node-3\" transform=\"translate(119.196,122.843)\"><circle r=\"7.5\"></circle></g><g id=\"node-4\" transform=\"translate(202.902,61.501)\"><circle r=\"7.5\"></circle></g></g><g class=\"toytree-NodeLabels\" style=\"fill:rgb(14.9%,14.9%,14.9%);fill-opacity:1.0;font-size:9px;stroke:none\"><g transform=\"translate(60.89,186.48)\"><text>0</text></g><g transform=\"translate(172.50,186.48)\"><text>1</text></g><g transform=\"translate(284.11,186.48)\"><text>2</text></g><g transform=\"translate(116.69,125.14)\"><text>3</text></g><g transform=\"translate(200.40,63.80)\"><text>4</text></g></g><g class=\"toytree-TipLabels\" style=\"fill:rgb(14.9%,14.9%,14.9%);fill-opacity:1.0;font-family:helvetica;font-size:11px;font-weight:normal;stroke:none;white-space:pre\"><g transform=\"translate(63.39,184.18)rotate(-90)\"><text x=\"-24.78\" y=\"2.81\" style=\"\">r0</text></g><g transform=\"translate(175.00,184.18)rotate(-90)\"><text x=\"-24.78\" y=\"2.81\" style=\"\">r1</text></g><g transform=\"translate(286.61,184.18)rotate(-90)\"><text x=\"-24.78\" y=\"2.81\" style=\"\">r2</text></g></g></g></g><g class=\"toyplot-coordinates-Axis\" id=\"t4c61265d1f544d1a8af0ca6fabe9023c\" transform=\"translate(50.0,210.0)rotate(-90.0)translate(0,-20.0)\"><line x1=\"25.81619694348465\" y1=\"0\" x2=\"148.4985311665844\" y2=\"0\" style=\"\"></line><g><line x1=\"25.81619694348465\" y1=\"0\" x2=\"25.81619694348465\" y2=\"5\" style=\"\"></line><line x1=\"87.15736405503452\" y1=\"0\" x2=\"87.15736405503452\" y2=\"5\" style=\"\"></line><line x1=\"148.4985311665844\" y1=\"0\" x2=\"148.4985311665844\" y2=\"5\" style=\"\"></line></g><g><g transform=\"translate(25.81619694348465,-6)\"><text x=\"-6.95\" y=\"-4.440892098500626e-16\" style=\"fill:rgb(16.1%,15.3%,14.1%);fill-opacity:1.0;font-family:helvetica;font-size:10.0px;font-weight:normal;stroke:none;vertical-align:baseline;white-space:pre\">0.0</text></g><g transform=\"translate(87.15736405503452,-6)\"><text x=\"-6.95\" y=\"-4.440892098500626e-16\" style=\"fill:rgb(16.1%,15.3%,14.1%);fill-opacity:1.0;font-family:helvetica;font-size:10.0px;font-weight:normal;stroke:none;vertical-align:baseline;white-space:pre\">0.5</text></g><g transform=\"translate(148.4985311665844,-6)\"><text x=\"-6.95\" y=\"-4.440892098500626e-16\" style=\"fill:rgb(16.1%,15.3%,14.1%);fill-opacity:1.0;font-family:helvetica;font-size:10.0px;font-weight:normal;stroke:none;vertical-align:baseline;white-space:pre\">1.0</text></g></g><g class=\"toyplot-coordinates-Axis-coordinates\" style=\"visibility:hidden\" transform=\"\"><line x1=\"0\" x2=\"0\" y1=\"3.0\" y2=\"-4.5\" style=\"stroke:rgb(43.9%,50.2%,56.5%);stroke-opacity:1.0;stroke-width:1.0\"></line><text x=\"0\" y=\"6\" style=\"alignment-baseline:hanging;fill:rgb(43.9%,50.2%,56.5%);fill-opacity:1.0;font-size:10px;font-weight:normal;stroke:none;text-anchor:middle\"></text></g></g></g></svg><div class=\"toyplot-behavior\"><script>(function()\n",
       "{\n",
       "var modules={};\n",
       "modules[\"toyplot/canvas/id\"] = \"tc5b2221982ff48b0b1d7a728da094320\";\n",
       "modules[\"toyplot/canvas\"] = (function(canvas_id)\n",
       "    {\n",
       "        return document.querySelector(\"#\" + canvas_id);\n",
       "    })(modules[\"toyplot/canvas/id\"]);\n",
       "modules[\"toyplot.coordinates.Axis\"] = (\n",
       "        function(canvas)\n",
       "        {\n",
       "            function sign(x)\n",
       "            {\n",
       "                return x < 0 ? -1 : x > 0 ? 1 : 0;\n",
       "            }\n",
       "\n",
       "            function mix(a, b, amount)\n",
       "            {\n",
       "                return ((1.0 - amount) * a) + (amount * b);\n",
       "            }\n",
       "\n",
       "            function log(x, base)\n",
       "            {\n",
       "                return Math.log(Math.abs(x)) / Math.log(base);\n",
       "            }\n",
       "\n",
       "            function in_range(a, x, b)\n",
       "            {\n",
       "                var left = Math.min(a, b);\n",
       "                var right = Math.max(a, b);\n",
       "                return left <= x && x <= right;\n",
       "            }\n",
       "\n",
       "            function inside(range, projection)\n",
       "            {\n",
       "                for(var i = 0; i != projection.length; ++i)\n",
       "                {\n",
       "                    var segment = projection[i];\n",
       "                    if(in_range(segment.range.min, range, segment.range.max))\n",
       "                        return true;\n",
       "                }\n",
       "                return false;\n",
       "            }\n",
       "\n",
       "            function to_domain(range, projection)\n",
       "            {\n",
       "                for(var i = 0; i != projection.length; ++i)\n",
       "                {\n",
       "                    var segment = projection[i];\n",
       "                    if(in_range(segment.range.bounds.min, range, segment.range.bounds.max))\n",
       "                    {\n",
       "                        if(segment.scale == \"linear\")\n",
       "                        {\n",
       "                            var amount = (range - segment.range.min) / (segment.range.max - segment.range.min);\n",
       "                            return mix(segment.domain.min, segment.domain.max, amount)\n",
       "                        }\n",
       "                        else if(segment.scale[0] == \"log\")\n",
       "                        {\n",
       "                            var amount = (range - segment.range.min) / (segment.range.max - segment.range.min);\n",
       "                            var base = segment.scale[1];\n",
       "                            return sign(segment.domain.min) * Math.pow(base, mix(log(segment.domain.min, base), log(segment.domain.max, base), amount));\n",
       "                        }\n",
       "                    }\n",
       "                }\n",
       "            }\n",
       "\n",
       "            var axes = {};\n",
       "\n",
       "            function display_coordinates(e)\n",
       "            {\n",
       "                var current = canvas.createSVGPoint();\n",
       "                current.x = e.clientX;\n",
       "                current.y = e.clientY;\n",
       "\n",
       "                for(var axis_id in axes)\n",
       "                {\n",
       "                    var axis = document.querySelector(\"#\" + axis_id);\n",
       "                    var coordinates = axis.querySelector(\".toyplot-coordinates-Axis-coordinates\");\n",
       "                    if(coordinates)\n",
       "                    {\n",
       "                        var projection = axes[axis_id];\n",
       "                        var local = current.matrixTransform(axis.getScreenCTM().inverse());\n",
       "                        if(inside(local.x, projection))\n",
       "                        {\n",
       "                            var domain = to_domain(local.x, projection);\n",
       "                            coordinates.style.visibility = \"visible\";\n",
       "                            coordinates.setAttribute(\"transform\", \"translate(\" + local.x + \")\");\n",
       "                            var text = coordinates.querySelector(\"text\");\n",
       "                            text.textContent = domain.toFixed(2);\n",
       "                        }\n",
       "                        else\n",
       "                        {\n",
       "                            coordinates.style.visibility= \"hidden\";\n",
       "                        }\n",
       "                    }\n",
       "                }\n",
       "            }\n",
       "\n",
       "            canvas.addEventListener(\"click\", display_coordinates);\n",
       "\n",
       "            var module = {};\n",
       "            module.show_coordinates = function(axis_id, projection)\n",
       "            {\n",
       "                axes[axis_id] = projection;\n",
       "            }\n",
       "\n",
       "            return module;\n",
       "        })(modules[\"toyplot/canvas\"]);\n",
       "(function(axis, axis_id, projection)\n",
       "        {\n",
       "            axis.show_coordinates(axis_id, projection);\n",
       "        })(modules[\"toyplot.coordinates.Axis\"],\"t4c61265d1f544d1a8af0ca6fabe9023c\",[{\"domain\": {\"bounds\": {\"max\": Infinity, \"min\": -Infinity}, \"max\": 1.09375, \"min\": -0.2104312499999999}, \"range\": {\"bounds\": {\"max\": Infinity, \"min\": -Infinity}, \"max\": 160.0, \"min\": 0.0}, \"scale\": \"linear\"}]);\n",
       "})();</script></div></div>"
      ]
     },
     "metadata": {},
     "output_type": "display_data"
    }
   ],
   "source": [
    "mytree3 = toytree.rtree.unittree(ntips = 3)\n",
    "mytree3.draw(tree_style=\"p\")"
   ]
  },
  {
   "cell_type": "code",
   "execution_count": 57,
   "id": "damaged-technical",
   "metadata": {},
   "outputs": [
    {
     "data": {
      "text/plain": [
       "array(['', '', '', '', ''], dtype='<U1')"
      ]
     },
     "execution_count": 57,
     "metadata": {},
     "output_type": "execute_result"
    }
   ],
   "source": [
    "adict = {0:2, 1:3, 2:4}\n",
    "mytree3.set_node_values(feature=\"feature\", values=adict)\n",
    "mytree3.get_node_values(\"feature\", True, True)"
   ]
  },
  {
   "cell_type": "code",
   "execution_count": 58,
   "id": "criminal-element",
   "metadata": {},
   "outputs": [],
   "source": [
    "def full_lik2(x0, likeleft0, likeleft1, likeright0, likeright1, tL, tR, anca):\n",
    "    \"\"\"\n",
    "    Get the likelihood of the data given the observed\n",
    "    tip states (a, b) brlens (ta, tb) and ancestral\n",
    "    state (anca) using two rate parameters (x0 array).\n",
    "    \"\"\"\n",
    "    # get likelihood of ancestral states 0 or 1\n",
    "    condlik = cond_lik2(a, b, ta, tb, x0[0], x0[1])\n",
    "    \n",
    "    # get full likelihoodlinke\n",
    "    lik = (1 - anca) * node.likelihood[0] + (anca) * node.likelihood[1]\n",
    "    \n",
    "    # I don't understand this part\n",
    "    if anca in [0., 1.]:\n",
    "        lik /= 2\n",
    "    \n",
    "    return -lik #np.log(lik)"
   ]
  },
  {
   "cell_type": "code",
   "execution_count": null,
   "id": "prostate-feeding",
   "metadata": {},
   "outputs": [],
   "source": [
    "def model_fit(a, b, ta, tb, ancestral):\n",
    "    \"\"\"\n",
    "    Find the maximum likelihood estimate of the two\n",
    "    rate model parameters given the data.\n",
    "    \"\"\"\n",
    "    args = (a, b, ta, tb, ancestral)\n",
    "    \n",
    "    # ML estimate\n",
    "    estimate = minimize(\n",
    "        fun=full_lik2, \n",
    "        x0=np.array([1., 1.]),\n",
    "        args=args,\n",
    "        method='L-BFGS-B',\n",
    "        bounds=((0, 10), (0, 10))\n",
    "    )\n",
    "    \n",
    "    score = -1 * full_lik2(estimate.x, *args)\n",
    "    result = {\n",
    "        \"alpha\": round(estimate.x[0], 3),\n",
    "        \"beta\": round(estimate.x[1], 3), \n",
    "        \"lik\": round(score, 3),\n",
    "        \"convergence\": estimate.success,\n",
    "    }\n",
    "    return result\n",
    "    "
   ]
  }
 ],
 "metadata": {
  "kernelspec": {
   "display_name": "Python 3",
   "language": "python",
   "name": "python3"
  },
  "language_info": {
   "codemirror_mode": {
    "name": "ipython",
    "version": 3
   },
   "file_extension": ".py",
   "mimetype": "text/x-python",
   "name": "python",
   "nbconvert_exporter": "python",
   "pygments_lexer": "ipython3",
   "version": "3.8.5"
  }
 },
 "nbformat": 4,
 "nbformat_minor": 5
}
