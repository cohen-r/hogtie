{
 "cells": [
  {
   "cell_type": "code",
   "execution_count": 2,
   "id": "sixth-concrete",
   "metadata": {},
   "outputs": [],
   "source": [
    "import numpy as np\n",
    "import pandas as pd\n",
    "import toytree\n",
    "from scipy.optimize import minimize\n",
    "from scipy.linalg import expm"
   ]
  },
  {
   "cell_type": "code",
   "execution_count": null,
   "id": "urban-oxide",
   "metadata": {},
   "outputs": [],
   "source": []
  },
  {
   "cell_type": "code",
   "execution_count": 48,
   "id": "organized-switzerland",
   "metadata": {},
   "outputs": [],
   "source": [
    "def data_to_dict(data):\n",
    "    \"\"\"\n",
    "    Parses data into format that can be used by the cond_like and\n",
    "    pruningalg functions\n",
    "    \"\"\"\n",
    "    values = [{0:-(i-1),1:i} for i in data]\n",
    "    keys = list(range(0, len(data), 1))\n",
    "    valuesdict = dict(zip(keys,values))\n",
    "    return valuesdict"
   ]
  },
  {
   "cell_type": "code",
   "execution_count": 50,
   "id": "composed-vancouver",
   "metadata": {},
   "outputs": [
    {
     "data": {
      "text/plain": [
       "array(['', '', '', '', '', '', '', '', '', '', '', {0: 1, 1: 0},\n",
       "       {0: 0, 1: 1}, {0: 0, 1: 1}, {0: 1, 1: 0}, {0: 0, 1: 1},\n",
       "       {0: 1, 1: 0}, {0: 0, 1: 1}, {0: 1, 1: 0}, {0: 0, 1: 1},\n",
       "       {0: 0, 1: 1}, {0: 1, 1: 0}, {0: 1, 1: 0}], dtype=object)"
      ]
     },
     "execution_count": 50,
     "metadata": {},
     "output_type": "execute_result"
    }
   ],
   "source": [
    "check = data_to_dict(data = testdata)\n",
    "check\n",
    "\n",
    "testtree = testtree.set_node_values('test', values = check)\n",
    "testtree.get_node_values('test',True,True)"
   ]
  },
  {
   "cell_type": "code",
   "execution_count": 63,
   "id": "danish-cream",
   "metadata": {},
   "outputs": [],
   "source": [
    "def assign_tip_like_values(tree, data):\n",
    "    \"\"\"\n",
    "    Assigns likelihood values to tree tips\n",
    "    \"\"\"\n",
    "    values = [{0:-(i-1),1:i} for i in data]\n",
    "    keys = list(range(0, len(data), 1))\n",
    "    valuesdict = dict(zip(keys,values))\n",
    "    tree = tree.set_node_values(feature = \"likelihood\", values = valuesdict)\n",
    "    return tree"
   ]
  },
  {
   "cell_type": "code",
   "execution_count": 64,
   "id": "renewable-spirituality",
   "metadata": {},
   "outputs": [
    {
     "data": {
      "text/plain": [
       "array(['', '', '', '', '', '', '', '', '', '', '', {0: 1, 1: 0},\n",
       "       {0: 0, 1: 1}, {0: 0, 1: 1}, {0: 1, 1: 0}, {0: 0, 1: 1},\n",
       "       {0: 1, 1: 0}, {0: 0, 1: 1}, {0: 1, 1: 0}, {0: 0, 1: 1},\n",
       "       {0: 0, 1: 1}, {0: 1, 1: 0}, {0: 1, 1: 0}], dtype=object)"
      ]
     },
     "execution_count": 64,
     "metadata": {},
     "output_type": "execute_result"
    }
   ],
   "source": [
    "mytree = assign_tip_like_values(tree = testtree, data=testdata)\n",
    "mytree.get_node_values('likelihood',True,True)"
   ]
  },
  {
   "cell_type": "code",
   "execution_count": 19,
   "id": "aquatic-queens",
   "metadata": {},
   "outputs": [],
   "source": [
    "def cond_like(likeleft0, likeleft1, likeright0, likeright1, tL, tR, alpha, beta):\n",
    "    \"\"\"\n",
    "    Calculates conditional likelihood of character states at each node\n",
    "    \"\"\"\n",
    "\n",
    "    Q = np.array([[-alpha, alpha], [beta, -beta]])\n",
    "    probleft = expm(Q*tL)\n",
    "    probright = expm(Q*tR)\n",
    " \n",
    "    #ancestor is 0\n",
    "    left0 = probleft[0, 0] * likeleft0 + probleft[0, 1] * likeleft1\n",
    "    right0 = probright[0, 0] * likeright0 + probright[0, 1] * likeright1\n",
    "    like_zero = left0*right0\n",
    " \n",
    "    #ancestor is 1\n",
    "    left1 = probleft[1, 0] * likeleft0 + probleft[1, 1] * likeleft1\n",
    "    right1 = probright[1, 0] * likeright0 + probright[1, 1] * likeright1\n",
    "    like_one = left1*right1\n",
    " \n",
    "    return {0: like_zero, 1: like_one}"
   ]
  },
  {
   "cell_type": "code",
   "execution_count": 56,
   "id": "advisory-subscriber",
   "metadata": {},
   "outputs": [],
   "source": [
    "def pruningalg(tree, alpha, beta):\n",
    "    \"\"\"\n",
    "    Runs Felsenstein's pruning algorithm on an input tree, given instantaneous transition\n",
    "    rates alpha and beta. Assigns likelihood scores for characters states at each node.\n",
    "    Specifically for binary state model. \n",
    "    \"\"\"\n",
    "    for node in tree.treenode.traverse(\"postorder\"):\n",
    "        if len(node.children) == 2:\n",
    "            child1 = node.children[0]\n",
    "            child2 = node.children[1]\n",
    "            likedict = cond_like(likeright0 = child1.likelihood[0],\n",
    "                                 likeright1 = child1.likelihood[1],\n",
    "                                 likeleft0 = child2.likelihood[0],\n",
    "                                 likeleft1 = child2.likelihood[1],\n",
    "                                 tR = child1.dist,\n",
    "                                 tL = child2.dist,\n",
    "                                 alpha = alpha,\n",
    "                                 beta = beta)\n",
    "            node.likelihood = likedict"
   ]
  },
  {
   "cell_type": "code",
   "execution_count": 67,
   "id": "cardiovascular-retro",
   "metadata": {},
   "outputs": [
    {
     "data": {
      "text/plain": [
       "array([{0: 0.00024414043275288296, 1: 0.00024414043275288304},\n",
       "       {0: 0.03123932133513011, 1: 0.031239705219536906},\n",
       "       {0: 0.007815164424494774, 1: 0.007815068389025239},\n",
       "       {0: 0.24999997186620612, 1: 0.24999997186620618},\n",
       "       {0: 0.12491614840992109, 1: 0.12499998593310307},\n",
       "       {0: 0.12499998593310305, 1: 0.12491614840992114},\n",
       "       {0: 0.06254191172814247, 1: 0.0625419117281425},\n",
       "       {0: 0.24991613434302426, 1: 0.24991613434302432},\n",
       "       {0: 0.24991613434302426, 1: 0.24991613434302432},\n",
       "       {0: 0.2409260462126084, 1: 0.2592416851013426},\n",
       "       {0: 0.2592416851013426, 1: 0.24092604621260852}, {0: 1, 1: 0},\n",
       "       {0: 0, 1: 1}, {0: 0, 1: 1}, {0: 1, 1: 0}, {0: 0, 1: 1},\n",
       "       {0: 1, 1: 0}, {0: 0, 1: 1}, {0: 1, 1: 0}, {0: 0, 1: 1},\n",
       "       {0: 0, 1: 1}, {0: 1, 1: 0}, {0: 1, 1: 0}], dtype=object)"
      ]
     },
     "execution_count": 67,
     "metadata": {},
     "output_type": "execute_result"
    }
   ],
   "source": [
    "pruningalg(tree=mytree, alpha=8.0, beta=8.0)\n",
    "mytree.get_node_values('likelihood',True,True)"
   ]
  },
  {
   "cell_type": "code",
   "execution_count": 1,
   "id": "criminal-element",
   "metadata": {},
   "outputs": [],
   "source": [
    "def full_lik2(x0, likeleft0, likeleft1, likeright0, likeright1, tL, tR, anca):\n",
    "    \"\"\"\n",
    "    Get the likelihood of the data given the observed\n",
    "    tip states (a, b) brlens (ta, tb) and ancestral\n",
    "    state (anca) using two rate parameters (x0 array).\n",
    "    \"\"\"\n",
    "    # get likelihood of ancestral states 0 or 1\n",
    "    condlik = cond_lik2(a, b, ta, tb, x0[0], x0[1])\n",
    "    \n",
    "    # get full likelihoodlinke\n",
    "    lik = (1 - anca) * node.likelihood[0] + (anca) * node.likelihood[1]\n",
    "    \n",
    "    # I don't understand this part\n",
    "    if anca in [0., 1.]:\n",
    "        lik /= 2\n",
    "    \n",
    "    return -lik #np.log(lik)"
   ]
  },
  {
   "cell_type": "code",
   "execution_count": 93,
   "id": "prescription-prompt",
   "metadata": {},
   "outputs": [],
   "source": [
    "#according to Harmon, the likelihood of the whole tree is condlikeroot0*rootprior + condlikeroot0*rootprior\n",
    "#so I want:\n",
    "def node_like(tree):\n",
    "    tree.set_node_values('neglike')\n",
    "    for node in tree.treenode.traverse('postorder'):\n",
    "        like = node.likelihood[0]*0.5 + node.likelihood[1]*0.5\n",
    "        node.neglike = -like\n",
    "    return tree"
   ]
  },
  {
   "cell_type": "code",
   "execution_count": 94,
   "id": "private-worth",
   "metadata": {},
   "outputs": [
    {
     "ename": "AttributeError",
     "evalue": "'NoneType' object has no attribute 'get_node_values'",
     "output_type": "error",
     "traceback": [
      "\u001b[0;31m---------------------------------------------------------------------------\u001b[0m",
      "\u001b[0;31mAttributeError\u001b[0m                            Traceback (most recent call last)",
      "\u001b[0;32m<ipython-input-94-540c45d07a2a>\u001b[0m in \u001b[0;36m<module>\u001b[0;34m\u001b[0m\n\u001b[1;32m      1\u001b[0m \u001b[0mmytree2\u001b[0m \u001b[0;34m=\u001b[0m \u001b[0mnode_like\u001b[0m\u001b[0;34m(\u001b[0m\u001b[0mtree\u001b[0m\u001b[0;34m=\u001b[0m\u001b[0mmytree\u001b[0m\u001b[0;34m)\u001b[0m\u001b[0;34m\u001b[0m\u001b[0;34m\u001b[0m\u001b[0m\n\u001b[0;32m----> 2\u001b[0;31m \u001b[0mmytree2\u001b[0m\u001b[0;34m.\u001b[0m\u001b[0mget_node_values\u001b[0m\u001b[0;34m(\u001b[0m\u001b[0;34m'neglike'\u001b[0m\u001b[0;34m,\u001b[0m\u001b[0;32mTrue\u001b[0m\u001b[0;34m,\u001b[0m\u001b[0;32mTrue\u001b[0m\u001b[0;34m)\u001b[0m\u001b[0;34m\u001b[0m\u001b[0;34m\u001b[0m\u001b[0m\n\u001b[0m",
      "\u001b[0;31mAttributeError\u001b[0m: 'NoneType' object has no attribute 'get_node_values'"
     ]
    }
   ],
   "source": [
    "mytree2 = node_like(tree=mytree)\n",
    "mytree2.get_node_values('neglike',True,True)"
   ]
  },
  {
   "cell_type": "code",
   "execution_count": 91,
   "id": "prostate-feeding",
   "metadata": {},
   "outputs": [],
   "source": [
    "def model_fit(tree):\n",
    "    \"\"\"\n",
    "    Find the maximum likelihood estimate of the two\n",
    "    rate model parameters at each node given the data.\n",
    "    \"\"\"\n",
    "    tree.set_node_values('alpha')\n",
    "    tree.set_node_values('beta')\n",
    "    for node in tree.treenode.traverse(\"postorder\"):\n",
    "        estimate = minimize(\n",
    "            fun=node_like,\n",
    "            x0=np.array([1., 1.]),\n",
    "            method='L-BFGS-B',\n",
    "            bounds=((0, 10), (0, 10))\n",
    "            )\n",
    "        result = {\n",
    "            \"alpha\": round(estimate.x[0], 3),\n",
    "            \"beta\": round(estimate.x[1], 3), \n",
    "            \"convergence\": estimate.success,\n",
    "            }\n",
    "        node.alpha = result['alpha']\n",
    "        node.beta = result['beta']\n",
    "    return tree"
   ]
  },
  {
   "cell_type": "code",
   "execution_count": 92,
   "id": "renewable-republic",
   "metadata": {},
   "outputs": [
    {
     "ename": "AttributeError",
     "evalue": "'numpy.ndarray' object has no attribute 'set_node_values'",
     "output_type": "error",
     "traceback": [
      "\u001b[0;31m---------------------------------------------------------------------------\u001b[0m",
      "\u001b[0;31mAttributeError\u001b[0m                            Traceback (most recent call last)",
      "\u001b[0;32m<ipython-input-92-65662aa85410>\u001b[0m in \u001b[0;36m<module>\u001b[0;34m\u001b[0m\n\u001b[0;32m----> 1\u001b[0;31m \u001b[0mmodel_fit\u001b[0m\u001b[0;34m(\u001b[0m\u001b[0mtree\u001b[0m\u001b[0;34m=\u001b[0m\u001b[0mmytree\u001b[0m\u001b[0;34m)\u001b[0m\u001b[0;34m\u001b[0m\u001b[0;34m\u001b[0m\u001b[0m\n\u001b[0m",
      "\u001b[0;32m<ipython-input-91-7f2a35a3e8b6>\u001b[0m in \u001b[0;36mmodel_fit\u001b[0;34m(tree)\u001b[0m\n\u001b[1;32m      7\u001b[0m     \u001b[0mtree\u001b[0m\u001b[0;34m.\u001b[0m\u001b[0mset_node_values\u001b[0m\u001b[0;34m(\u001b[0m\u001b[0;34m'beta'\u001b[0m\u001b[0;34m)\u001b[0m\u001b[0;34m\u001b[0m\u001b[0;34m\u001b[0m\u001b[0m\n\u001b[1;32m      8\u001b[0m     \u001b[0;32mfor\u001b[0m \u001b[0mnode\u001b[0m \u001b[0;32min\u001b[0m \u001b[0mtree\u001b[0m\u001b[0;34m.\u001b[0m\u001b[0mtreenode\u001b[0m\u001b[0;34m.\u001b[0m\u001b[0mtraverse\u001b[0m\u001b[0;34m(\u001b[0m\u001b[0;34m\"postorder\"\u001b[0m\u001b[0;34m)\u001b[0m\u001b[0;34m:\u001b[0m\u001b[0;34m\u001b[0m\u001b[0;34m\u001b[0m\u001b[0m\n\u001b[0;32m----> 9\u001b[0;31m         estimate = minimize(\n\u001b[0m\u001b[1;32m     10\u001b[0m             \u001b[0mfun\u001b[0m\u001b[0;34m=\u001b[0m\u001b[0mnode_like\u001b[0m\u001b[0;34m,\u001b[0m\u001b[0;34m\u001b[0m\u001b[0;34m\u001b[0m\u001b[0m\n\u001b[1;32m     11\u001b[0m             \u001b[0mx0\u001b[0m\u001b[0;34m=\u001b[0m\u001b[0mnp\u001b[0m\u001b[0;34m.\u001b[0m\u001b[0marray\u001b[0m\u001b[0;34m(\u001b[0m\u001b[0;34m[\u001b[0m\u001b[0;36m1.\u001b[0m\u001b[0;34m,\u001b[0m \u001b[0;36m1.\u001b[0m\u001b[0;34m]\u001b[0m\u001b[0;34m)\u001b[0m\u001b[0;34m,\u001b[0m\u001b[0;34m\u001b[0m\u001b[0;34m\u001b[0m\u001b[0m\n",
      "\u001b[0;32m~/miniconda3/lib/python3.8/site-packages/scipy/optimize/_minimize.py\u001b[0m in \u001b[0;36mminimize\u001b[0;34m(fun, x0, args, method, jac, hess, hessp, bounds, constraints, tol, callback, options)\u001b[0m\n\u001b[1;32m    617\u001b[0m                                   **options)\n\u001b[1;32m    618\u001b[0m     \u001b[0;32melif\u001b[0m \u001b[0mmeth\u001b[0m \u001b[0;34m==\u001b[0m \u001b[0;34m'l-bfgs-b'\u001b[0m\u001b[0;34m:\u001b[0m\u001b[0;34m\u001b[0m\u001b[0;34m\u001b[0m\u001b[0m\n\u001b[0;32m--> 619\u001b[0;31m         return _minimize_lbfgsb(fun, x0, args, jac, bounds,\n\u001b[0m\u001b[1;32m    620\u001b[0m                                 callback=callback, **options)\n\u001b[1;32m    621\u001b[0m     \u001b[0;32melif\u001b[0m \u001b[0mmeth\u001b[0m \u001b[0;34m==\u001b[0m \u001b[0;34m'tnc'\u001b[0m\u001b[0;34m:\u001b[0m\u001b[0;34m\u001b[0m\u001b[0;34m\u001b[0m\u001b[0m\n",
      "\u001b[0;32m~/miniconda3/lib/python3.8/site-packages/scipy/optimize/lbfgsb.py\u001b[0m in \u001b[0;36m_minimize_lbfgsb\u001b[0;34m(fun, x0, args, jac, bounds, disp, maxcor, ftol, gtol, eps, maxfun, maxiter, iprint, callback, maxls, finite_diff_rel_step, **unknown_options)\u001b[0m\n\u001b[1;32m    304\u001b[0m             \u001b[0miprint\u001b[0m \u001b[0;34m=\u001b[0m \u001b[0mdisp\u001b[0m\u001b[0;34m\u001b[0m\u001b[0;34m\u001b[0m\u001b[0m\n\u001b[1;32m    305\u001b[0m \u001b[0;34m\u001b[0m\u001b[0m\n\u001b[0;32m--> 306\u001b[0;31m     sf = _prepare_scalar_function(fun, x0, jac=jac, args=args, epsilon=eps,\n\u001b[0m\u001b[1;32m    307\u001b[0m                                   \u001b[0mbounds\u001b[0m\u001b[0;34m=\u001b[0m\u001b[0mnew_bounds\u001b[0m\u001b[0;34m,\u001b[0m\u001b[0;34m\u001b[0m\u001b[0;34m\u001b[0m\u001b[0m\n\u001b[1;32m    308\u001b[0m                                   finite_diff_rel_step=finite_diff_rel_step)\n",
      "\u001b[0;32m~/miniconda3/lib/python3.8/site-packages/scipy/optimize/optimize.py\u001b[0m in \u001b[0;36m_prepare_scalar_function\u001b[0;34m(fun, x0, jac, args, bounds, epsilon, finite_diff_rel_step, hess)\u001b[0m\n\u001b[1;32m    259\u001b[0m     \u001b[0;31m# ScalarFunction caches. Reuse of fun(x) during grad\u001b[0m\u001b[0;34m\u001b[0m\u001b[0;34m\u001b[0m\u001b[0;34m\u001b[0m\u001b[0m\n\u001b[1;32m    260\u001b[0m     \u001b[0;31m# calculation reduces overall function evaluations.\u001b[0m\u001b[0;34m\u001b[0m\u001b[0;34m\u001b[0m\u001b[0;34m\u001b[0m\u001b[0m\n\u001b[0;32m--> 261\u001b[0;31m     sf = ScalarFunction(fun, x0, args, grad, hess,\n\u001b[0m\u001b[1;32m    262\u001b[0m                         finite_diff_rel_step, bounds, epsilon=epsilon)\n\u001b[1;32m    263\u001b[0m \u001b[0;34m\u001b[0m\u001b[0m\n",
      "\u001b[0;32m~/miniconda3/lib/python3.8/site-packages/scipy/optimize/_differentiable_functions.py\u001b[0m in \u001b[0;36m__init__\u001b[0;34m(self, fun, x0, args, grad, hess, finite_diff_rel_step, finite_diff_bounds, epsilon)\u001b[0m\n\u001b[1;32m    134\u001b[0m \u001b[0;34m\u001b[0m\u001b[0m\n\u001b[1;32m    135\u001b[0m         \u001b[0mself\u001b[0m\u001b[0;34m.\u001b[0m\u001b[0m_update_fun_impl\u001b[0m \u001b[0;34m=\u001b[0m \u001b[0mupdate_fun\u001b[0m\u001b[0;34m\u001b[0m\u001b[0;34m\u001b[0m\u001b[0m\n\u001b[0;32m--> 136\u001b[0;31m         \u001b[0mself\u001b[0m\u001b[0;34m.\u001b[0m\u001b[0m_update_fun\u001b[0m\u001b[0;34m(\u001b[0m\u001b[0;34m)\u001b[0m\u001b[0;34m\u001b[0m\u001b[0;34m\u001b[0m\u001b[0m\n\u001b[0m\u001b[1;32m    137\u001b[0m \u001b[0;34m\u001b[0m\u001b[0m\n\u001b[1;32m    138\u001b[0m         \u001b[0;31m# Gradient evaluation\u001b[0m\u001b[0;34m\u001b[0m\u001b[0;34m\u001b[0m\u001b[0;34m\u001b[0m\u001b[0m\n",
      "\u001b[0;32m~/miniconda3/lib/python3.8/site-packages/scipy/optimize/_differentiable_functions.py\u001b[0m in \u001b[0;36m_update_fun\u001b[0;34m(self)\u001b[0m\n\u001b[1;32m    224\u001b[0m     \u001b[0;32mdef\u001b[0m \u001b[0m_update_fun\u001b[0m\u001b[0;34m(\u001b[0m\u001b[0mself\u001b[0m\u001b[0;34m)\u001b[0m\u001b[0;34m:\u001b[0m\u001b[0;34m\u001b[0m\u001b[0;34m\u001b[0m\u001b[0m\n\u001b[1;32m    225\u001b[0m         \u001b[0;32mif\u001b[0m \u001b[0;32mnot\u001b[0m \u001b[0mself\u001b[0m\u001b[0;34m.\u001b[0m\u001b[0mf_updated\u001b[0m\u001b[0;34m:\u001b[0m\u001b[0;34m\u001b[0m\u001b[0;34m\u001b[0m\u001b[0m\n\u001b[0;32m--> 226\u001b[0;31m             \u001b[0mself\u001b[0m\u001b[0;34m.\u001b[0m\u001b[0m_update_fun_impl\u001b[0m\u001b[0;34m(\u001b[0m\u001b[0;34m)\u001b[0m\u001b[0;34m\u001b[0m\u001b[0;34m\u001b[0m\u001b[0m\n\u001b[0m\u001b[1;32m    227\u001b[0m             \u001b[0mself\u001b[0m\u001b[0;34m.\u001b[0m\u001b[0mf_updated\u001b[0m \u001b[0;34m=\u001b[0m \u001b[0;32mTrue\u001b[0m\u001b[0;34m\u001b[0m\u001b[0;34m\u001b[0m\u001b[0m\n\u001b[1;32m    228\u001b[0m \u001b[0;34m\u001b[0m\u001b[0m\n",
      "\u001b[0;32m~/miniconda3/lib/python3.8/site-packages/scipy/optimize/_differentiable_functions.py\u001b[0m in \u001b[0;36mupdate_fun\u001b[0;34m()\u001b[0m\n\u001b[1;32m    131\u001b[0m \u001b[0;34m\u001b[0m\u001b[0m\n\u001b[1;32m    132\u001b[0m         \u001b[0;32mdef\u001b[0m \u001b[0mupdate_fun\u001b[0m\u001b[0;34m(\u001b[0m\u001b[0;34m)\u001b[0m\u001b[0;34m:\u001b[0m\u001b[0;34m\u001b[0m\u001b[0;34m\u001b[0m\u001b[0m\n\u001b[0;32m--> 133\u001b[0;31m             \u001b[0mself\u001b[0m\u001b[0;34m.\u001b[0m\u001b[0mf\u001b[0m \u001b[0;34m=\u001b[0m \u001b[0mfun_wrapped\u001b[0m\u001b[0;34m(\u001b[0m\u001b[0mself\u001b[0m\u001b[0;34m.\u001b[0m\u001b[0mx\u001b[0m\u001b[0;34m)\u001b[0m\u001b[0;34m\u001b[0m\u001b[0;34m\u001b[0m\u001b[0m\n\u001b[0m\u001b[1;32m    134\u001b[0m \u001b[0;34m\u001b[0m\u001b[0m\n\u001b[1;32m    135\u001b[0m         \u001b[0mself\u001b[0m\u001b[0;34m.\u001b[0m\u001b[0m_update_fun_impl\u001b[0m \u001b[0;34m=\u001b[0m \u001b[0mupdate_fun\u001b[0m\u001b[0;34m\u001b[0m\u001b[0;34m\u001b[0m\u001b[0m\n",
      "\u001b[0;32m~/miniconda3/lib/python3.8/site-packages/scipy/optimize/_differentiable_functions.py\u001b[0m in \u001b[0;36mfun_wrapped\u001b[0;34m(x)\u001b[0m\n\u001b[1;32m    128\u001b[0m         \u001b[0;32mdef\u001b[0m \u001b[0mfun_wrapped\u001b[0m\u001b[0;34m(\u001b[0m\u001b[0mx\u001b[0m\u001b[0;34m)\u001b[0m\u001b[0;34m:\u001b[0m\u001b[0;34m\u001b[0m\u001b[0;34m\u001b[0m\u001b[0m\n\u001b[1;32m    129\u001b[0m             \u001b[0mself\u001b[0m\u001b[0;34m.\u001b[0m\u001b[0mnfev\u001b[0m \u001b[0;34m+=\u001b[0m \u001b[0;36m1\u001b[0m\u001b[0;34m\u001b[0m\u001b[0;34m\u001b[0m\u001b[0m\n\u001b[0;32m--> 130\u001b[0;31m             \u001b[0;32mreturn\u001b[0m \u001b[0mfun\u001b[0m\u001b[0;34m(\u001b[0m\u001b[0mx\u001b[0m\u001b[0;34m,\u001b[0m \u001b[0;34m*\u001b[0m\u001b[0margs\u001b[0m\u001b[0;34m)\u001b[0m\u001b[0;34m\u001b[0m\u001b[0;34m\u001b[0m\u001b[0m\n\u001b[0m\u001b[1;32m    131\u001b[0m \u001b[0;34m\u001b[0m\u001b[0m\n\u001b[1;32m    132\u001b[0m         \u001b[0;32mdef\u001b[0m \u001b[0mupdate_fun\u001b[0m\u001b[0;34m(\u001b[0m\u001b[0;34m)\u001b[0m\u001b[0;34m:\u001b[0m\u001b[0;34m\u001b[0m\u001b[0;34m\u001b[0m\u001b[0m\n",
      "\u001b[0;32m<ipython-input-89-5825501a2d2f>\u001b[0m in \u001b[0;36mnode_like\u001b[0;34m(tree)\u001b[0m\n\u001b[1;32m      2\u001b[0m \u001b[0;31m#so I want:\u001b[0m\u001b[0;34m\u001b[0m\u001b[0;34m\u001b[0m\u001b[0;34m\u001b[0m\u001b[0m\n\u001b[1;32m      3\u001b[0m \u001b[0;32mdef\u001b[0m \u001b[0mnode_like\u001b[0m\u001b[0;34m(\u001b[0m\u001b[0mtree\u001b[0m\u001b[0;34m)\u001b[0m\u001b[0;34m:\u001b[0m\u001b[0;34m\u001b[0m\u001b[0;34m\u001b[0m\u001b[0m\n\u001b[0;32m----> 4\u001b[0;31m     \u001b[0mtree\u001b[0m\u001b[0;34m.\u001b[0m\u001b[0mset_node_values\u001b[0m\u001b[0;34m(\u001b[0m\u001b[0;34m'neglike'\u001b[0m\u001b[0;34m)\u001b[0m\u001b[0;34m\u001b[0m\u001b[0;34m\u001b[0m\u001b[0m\n\u001b[0m\u001b[1;32m      5\u001b[0m     \u001b[0;32mfor\u001b[0m \u001b[0mnode\u001b[0m \u001b[0;32min\u001b[0m \u001b[0mtree\u001b[0m\u001b[0;34m.\u001b[0m\u001b[0mtreenode\u001b[0m\u001b[0;34m.\u001b[0m\u001b[0mtraverse\u001b[0m\u001b[0;34m(\u001b[0m\u001b[0;34m'postorder'\u001b[0m\u001b[0;34m)\u001b[0m\u001b[0;34m:\u001b[0m\u001b[0;34m\u001b[0m\u001b[0;34m\u001b[0m\u001b[0m\n\u001b[1;32m      6\u001b[0m         \u001b[0mlike\u001b[0m \u001b[0;34m=\u001b[0m \u001b[0mnode\u001b[0m\u001b[0;34m.\u001b[0m\u001b[0mlikelihood\u001b[0m\u001b[0;34m[\u001b[0m\u001b[0;36m0\u001b[0m\u001b[0;34m]\u001b[0m\u001b[0;34m*\u001b[0m\u001b[0;36m0.5\u001b[0m \u001b[0;34m+\u001b[0m \u001b[0mnode\u001b[0m\u001b[0;34m.\u001b[0m\u001b[0mlikelihood\u001b[0m\u001b[0;34m[\u001b[0m\u001b[0;36m1\u001b[0m\u001b[0;34m]\u001b[0m\u001b[0;34m*\u001b[0m\u001b[0;36m0.5\u001b[0m\u001b[0;34m\u001b[0m\u001b[0;34m\u001b[0m\u001b[0m\n",
      "\u001b[0;31mAttributeError\u001b[0m: 'numpy.ndarray' object has no attribute 'set_node_values'"
     ]
    }
   ],
   "source": [
    "model_fit(tree=mytree)"
   ]
  },
  {
   "cell_type": "code",
   "execution_count": 24,
   "id": "capable-reform",
   "metadata": {},
   "outputs": [
    {
     "data": {
      "text/plain": [
       "(<toyplot.canvas.Canvas at 0x7fd0dae9bf40>,\n",
       " <toyplot.coordinates.Cartesian at 0x7fd0dae81880>,\n",
       " <toytree.Render.ToytreeMark at 0x7fd0dab70640>)"
      ]
     },
     "execution_count": 24,
     "metadata": {},
     "output_type": "execute_result"
    },
    {
     "data": {
      "text/html": [
       "<div class=\"toyplot\" id=\"t1a8a224cc136401782a3dc969cbba77d\" style=\"text-align:center\"><svg class=\"toyplot-canvas-Canvas\" xmlns:toyplot=\"http://www.sandia.gov/toyplot\" xmlns:xlink=\"http://www.w3.org/1999/xlink\" xmlns=\"http://www.w3.org/2000/svg\" width=\"350.0px\" height=\"265.0px\" viewBox=\"0 0 350.0 265.0\" preserveAspectRatio=\"xMidYMid meet\" style=\"background-color:transparent;border-color:#292724;border-style:none;border-width:1.0;fill:rgb(16.1%,15.3%,14.1%);fill-opacity:1.0;font-family:Helvetica;font-size:12px;opacity:1.0;stroke:rgb(16.1%,15.3%,14.1%);stroke-opacity:1.0;stroke-width:1.0\" id=\"td9449a0fb105496b9a720ab653768195\"><g class=\"toyplot-coordinates-Cartesian\" id=\"t4dd2f8a9f67144419ef7cac616786ec6\"><clipPath id=\"t1692f024bcbb47f48564dcb653dc84ef\"><rect x=\"30.0\" y=\"30.0\" width=\"290.0\" height=\"205.0\"></rect></clipPath><g clip-path=\"url(#t1692f024bcbb47f48564dcb653dc84ef)\"><g class=\"toytree-mark-Toytree\" id=\"t2581c955675641c9bb5442fbf0180fea\"><g class=\"toytree-Edges\" style=\"fill:none;stroke:rgb(14.9%,14.9%,14.9%);stroke-linecap:round;stroke-opacity:1;stroke-width:2\"><path d=\"M 192.8 61.0 L 253.6 91.2\" id=\"22,21\"></path><path d=\"M 192.8 61.0 L 131.9 91.2\" id=\"22,20\"></path><path d=\"M 253.6 91.2 L 276.5 121.4\" id=\"21,19\"></path><path d=\"M 253.6 91.2 L 230.8 121.4\" id=\"21,18\"></path><path d=\"M 131.9 91.2 L 169.9 121.4\" id=\"20,17\"></path><path d=\"M 131.9 91.2 L 93.8 121.4\" id=\"20,16\"></path><path d=\"M 230.8 121.4 L 215.6 151.6\" id=\"18,15\"></path><path d=\"M 169.9 121.4 L 154.7 151.6\" id=\"17,14\"></path><path d=\"M 93.8 121.4 L 114.1 151.6\" id=\"16,13\"></path><path d=\"M 93.8 121.4 L 73.5 151.6\" id=\"16,12\"></path><path d=\"M 276.5 121.4 L 286.6 181.8\" id=\"19,11\"></path><path d=\"M 276.5 121.4 L 266.3 181.8\" id=\"19,10\"></path><path d=\"M 230.8 121.4 L 246.0 181.8\" id=\"18,9\"></path><path d=\"M 215.6 151.6 L 225.7 181.8\" id=\"15,8\"></path><path d=\"M 215.6 151.6 L 205.4 181.8\" id=\"15,7\"></path><path d=\"M 169.9 121.4 L 185.1 181.8\" id=\"17,6\"></path><path d=\"M 154.7 151.6 L 164.9 181.8\" id=\"14,5\"></path><path d=\"M 154.7 151.6 L 144.6 181.8\" id=\"14,4\"></path><path d=\"M 114.1 151.6 L 124.3 181.8\" id=\"13,3\"></path><path d=\"M 114.1 151.6 L 104.0 181.8\" id=\"13,2\"></path><path d=\"M 73.5 151.6 L 83.7 181.8\" id=\"12,1\"></path><path d=\"M 73.5 151.6 L 63.4 181.8\" id=\"12,0\"></path></g><g class=\"toytree-Nodes\" style=\"fill:rgb(40%,76.1%,64.7%);fill-opacity:1.0;stroke:rgb(14.9%,14.9%,14.9%);stroke-opacity:1.0;stroke-width:1\"><g id=\"node-0\" transform=\"translate(63.393,181.798)\"><circle r=\"7.5\"></circle></g><g id=\"node-1\" transform=\"translate(83.685,181.798)\"><circle r=\"7.5\"></circle></g><g id=\"node-2\" transform=\"translate(103.977,181.798)\"><circle r=\"7.5\"></circle></g><g id=\"node-3\" transform=\"translate(124.269,181.798)\"><circle r=\"7.5\"></circle></g><g id=\"node-4\" transform=\"translate(144.562,181.798)\"><circle r=\"7.5\"></circle></g><g id=\"node-5\" transform=\"translate(164.854,181.798)\"><circle r=\"7.5\"></circle></g><g id=\"node-6\" transform=\"translate(185.146,181.798)\"><circle r=\"7.5\"></circle></g><g id=\"node-7\" transform=\"translate(205.438,181.798)\"><circle r=\"7.5\"></circle></g><g id=\"node-8\" transform=\"translate(225.731,181.798)\"><circle r=\"7.5\"></circle></g><g id=\"node-9\" transform=\"translate(246.023,181.798)\"><circle r=\"7.5\"></circle></g><g id=\"node-10\" transform=\"translate(266.315,181.798)\"><circle r=\"7.5\"></circle></g><g id=\"node-11\" transform=\"translate(286.607,181.798)\"><circle r=\"7.5\"></circle></g><g id=\"node-12\" transform=\"translate(73.539,151.594)\"><circle r=\"7.5\"></circle></g><g id=\"node-13\" transform=\"translate(114.123,151.594)\"><circle r=\"7.5\"></circle></g><g id=\"node-14\" transform=\"translate(154.708,151.594)\"><circle r=\"7.5\"></circle></g><g id=\"node-15\" transform=\"translate(215.584,151.594)\"><circle r=\"7.5\"></circle></g><g id=\"node-16\" transform=\"translate(93.831,121.391)\"><circle r=\"7.5\"></circle></g><g id=\"node-17\" transform=\"translate(169.927,121.391)\"><circle r=\"7.5\"></circle></g><g id=\"node-18\" transform=\"translate(230.804,121.391)\"><circle r=\"7.5\"></circle></g><g id=\"node-19\" transform=\"translate(276.461,121.391)\"><circle r=\"7.5\"></circle></g><g id=\"node-20\" transform=\"translate(131.879,91.187)\"><circle r=\"7.5\"></circle></g><g id=\"node-21\" transform=\"translate(253.632,91.187)\"><circle r=\"7.5\"></circle></g><g id=\"node-22\" transform=\"translate(192.756,60.983)\"><circle r=\"7.5\"></circle></g></g><g class=\"toytree-NodeLabels\" style=\"fill:rgb(14.9%,14.9%,14.9%);fill-opacity:1.0;font-size:9px;stroke:none\"><g transform=\"translate(60.89,184.10)\"><text>0</text></g><g transform=\"translate(81.18,184.10)\"><text>1</text></g><g transform=\"translate(101.48,184.10)\"><text>2</text></g><g transform=\"translate(121.77,184.10)\"><text>3</text></g><g transform=\"translate(142.06,184.10)\"><text>4</text></g><g transform=\"translate(162.35,184.10)\"><text>5</text></g><g transform=\"translate(182.64,184.10)\"><text>6</text></g><g transform=\"translate(202.94,184.10)\"><text>7</text></g><g transform=\"translate(223.23,184.10)\"><text>8</text></g><g transform=\"translate(243.52,184.10)\"><text>9</text></g><g transform=\"translate(261.31,184.10)\"><text>10</text></g><g transform=\"translate(281.60,184.10)\"><text>11</text></g><g transform=\"translate(68.53,153.89)\"><text>12</text></g><g transform=\"translate(109.12,153.89)\"><text>13</text></g><g transform=\"translate(149.70,153.89)\"><text>14</text></g><g transform=\"translate(210.58,153.89)\"><text>15</text></g><g transform=\"translate(88.83,123.69)\"><text>16</text></g><g transform=\"translate(164.92,123.69)\"><text>17</text></g><g transform=\"translate(225.80,123.69)\"><text>18</text></g><g transform=\"translate(271.46,123.69)\"><text>19</text></g><g transform=\"translate(126.88,93.49)\"><text>20</text></g><g transform=\"translate(248.63,93.49)\"><text>21</text></g><g transform=\"translate(187.75,63.28)\"><text>22</text></g></g><g class=\"toytree-TipLabels\" style=\"fill:rgb(14.9%,14.9%,14.9%);fill-opacity:1.0;font-family:helvetica;font-size:11px;font-weight:normal;stroke:none;white-space:pre\"><g transform=\"translate(63.39,181.80)rotate(-90)\"><text x=\"-24.78\" y=\"2.81\" style=\"\">r0</text></g><g transform=\"translate(83.69,181.80)rotate(-90)\"><text x=\"-24.78\" y=\"2.81\" style=\"\">r1</text></g><g transform=\"translate(103.98,181.80)rotate(-90)\"><text x=\"-24.78\" y=\"2.81\" style=\"\">r2</text></g><g transform=\"translate(124.27,181.80)rotate(-90)\"><text x=\"-24.78\" y=\"2.81\" style=\"\">r3</text></g><g transform=\"translate(144.56,181.80)rotate(-90)\"><text x=\"-24.78\" y=\"2.81\" style=\"\">r4</text></g><g transform=\"translate(164.85,181.80)rotate(-90)\"><text x=\"-24.78\" y=\"2.81\" style=\"\">r5</text></g><g transform=\"translate(185.15,181.80)rotate(-90)\"><text x=\"-24.78\" y=\"2.81\" style=\"\">r6</text></g><g transform=\"translate(205.44,181.80)rotate(-90)\"><text x=\"-24.78\" y=\"2.81\" style=\"\">r7</text></g><g transform=\"translate(225.73,181.80)rotate(-90)\"><text x=\"-24.78\" y=\"2.81\" style=\"\">r8</text></g><g transform=\"translate(246.02,181.80)rotate(-90)\"><text x=\"-24.78\" y=\"2.81\" style=\"\">r9</text></g><g transform=\"translate(266.31,181.80)rotate(-90)\"><text x=\"-30.90\" y=\"2.81\" style=\"\">r10</text></g><g transform=\"translate(286.61,181.80)rotate(-90)\"><text x=\"-30.90\" y=\"2.81\" style=\"\">r11</text></g></g></g></g><g class=\"toyplot-coordinates-Axis\" id=\"tb7713454aaa4442ab930b778589901d7\" transform=\"translate(50.0,215.0)rotate(-90.0)translate(0,-20.0)\"><line x1=\"33.20209012846969\" y1=\"0\" x2=\"154.01684084403917\" y2=\"0\" style=\"\"></line><g><line x1=\"33.20209012846969\" y1=\"0\" x2=\"33.20209012846969\" y2=\"5\" style=\"\"></line><line x1=\"93.60946548625441\" y1=\"0\" x2=\"93.60946548625441\" y2=\"5\" style=\"\"></line><line x1=\"154.01684084403917\" y1=\"0\" x2=\"154.01684084403917\" y2=\"5\" style=\"\"></line></g><g><g transform=\"translate(33.20209012846969,-6)\"><text x=\"-6.95\" y=\"-4.440892098500626e-16\" style=\"fill:rgb(16.1%,15.3%,14.1%);fill-opacity:1.0;font-family:helvetica;font-size:10.0px;font-weight:normal;stroke:none;vertical-align:baseline;white-space:pre\">0.0</text></g><g transform=\"translate(93.60946548625441,-6)\"><text x=\"-6.95\" y=\"-4.440892098500626e-16\" style=\"fill:rgb(16.1%,15.3%,14.1%);fill-opacity:1.0;font-family:helvetica;font-size:10.0px;font-weight:normal;stroke:none;vertical-align:baseline;white-space:pre\">0.5</text></g><g transform=\"translate(154.01684084403917,-6)\"><text x=\"-6.95\" y=\"-4.440892098500626e-16\" style=\"fill:rgb(16.1%,15.3%,14.1%);fill-opacity:1.0;font-family:helvetica;font-size:10.0px;font-weight:normal;stroke:none;vertical-align:baseline;white-space:pre\">1.0</text></g></g><g class=\"toyplot-coordinates-Axis-coordinates\" style=\"visibility:hidden\" transform=\"\"><line x1=\"0\" x2=\"0\" y1=\"3.0\" y2=\"-4.5\" style=\"stroke:rgb(43.9%,50.2%,56.5%);stroke-opacity:1.0;stroke-width:1.0\"></line><text x=\"0\" y=\"6\" style=\"alignment-baseline:hanging;fill:rgb(43.9%,50.2%,56.5%);fill-opacity:1.0;font-size:10px;font-weight:normal;stroke:none;text-anchor:middle\"></text></g></g></g></svg><div class=\"toyplot-behavior\"><script>(function()\n",
       "{\n",
       "var modules={};\n",
       "modules[\"toyplot/canvas/id\"] = \"td9449a0fb105496b9a720ab653768195\";\n",
       "modules[\"toyplot/canvas\"] = (function(canvas_id)\n",
       "    {\n",
       "        return document.querySelector(\"#\" + canvas_id);\n",
       "    })(modules[\"toyplot/canvas/id\"]);\n",
       "modules[\"toyplot.coordinates.Axis\"] = (\n",
       "        function(canvas)\n",
       "        {\n",
       "            function sign(x)\n",
       "            {\n",
       "                return x < 0 ? -1 : x > 0 ? 1 : 0;\n",
       "            }\n",
       "\n",
       "            function mix(a, b, amount)\n",
       "            {\n",
       "                return ((1.0 - amount) * a) + (amount * b);\n",
       "            }\n",
       "\n",
       "            function log(x, base)\n",
       "            {\n",
       "                return Math.log(Math.abs(x)) / Math.log(base);\n",
       "            }\n",
       "\n",
       "            function in_range(a, x, b)\n",
       "            {\n",
       "                var left = Math.min(a, b);\n",
       "                var right = Math.max(a, b);\n",
       "                return left <= x && x <= right;\n",
       "            }\n",
       "\n",
       "            function inside(range, projection)\n",
       "            {\n",
       "                for(var i = 0; i != projection.length; ++i)\n",
       "                {\n",
       "                    var segment = projection[i];\n",
       "                    if(in_range(segment.range.min, range, segment.range.max))\n",
       "                        return true;\n",
       "                }\n",
       "                return false;\n",
       "            }\n",
       "\n",
       "            function to_domain(range, projection)\n",
       "            {\n",
       "                for(var i = 0; i != projection.length; ++i)\n",
       "                {\n",
       "                    var segment = projection[i];\n",
       "                    if(in_range(segment.range.bounds.min, range, segment.range.bounds.max))\n",
       "                    {\n",
       "                        if(segment.scale == \"linear\")\n",
       "                        {\n",
       "                            var amount = (range - segment.range.min) / (segment.range.max - segment.range.min);\n",
       "                            return mix(segment.domain.min, segment.domain.max, amount)\n",
       "                        }\n",
       "                        else if(segment.scale[0] == \"log\")\n",
       "                        {\n",
       "                            var amount = (range - segment.range.min) / (segment.range.max - segment.range.min);\n",
       "                            var base = segment.scale[1];\n",
       "                            return sign(segment.domain.min) * Math.pow(base, mix(log(segment.domain.min, base), log(segment.domain.max, base), amount));\n",
       "                        }\n",
       "                    }\n",
       "                }\n",
       "            }\n",
       "\n",
       "            var axes = {};\n",
       "\n",
       "            function display_coordinates(e)\n",
       "            {\n",
       "                var current = canvas.createSVGPoint();\n",
       "                current.x = e.clientX;\n",
       "                current.y = e.clientY;\n",
       "\n",
       "                for(var axis_id in axes)\n",
       "                {\n",
       "                    var axis = document.querySelector(\"#\" + axis_id);\n",
       "                    var coordinates = axis.querySelector(\".toyplot-coordinates-Axis-coordinates\");\n",
       "                    if(coordinates)\n",
       "                    {\n",
       "                        var projection = axes[axis_id];\n",
       "                        var local = current.matrixTransform(axis.getScreenCTM().inverse());\n",
       "                        if(inside(local.x, projection))\n",
       "                        {\n",
       "                            var domain = to_domain(local.x, projection);\n",
       "                            coordinates.style.visibility = \"visible\";\n",
       "                            coordinates.setAttribute(\"transform\", \"translate(\" + local.x + \")\");\n",
       "                            var text = coordinates.querySelector(\"text\");\n",
       "                            text.textContent = domain.toFixed(2);\n",
       "                        }\n",
       "                        else\n",
       "                        {\n",
       "                            coordinates.style.visibility= \"hidden\";\n",
       "                        }\n",
       "                    }\n",
       "                }\n",
       "            }\n",
       "\n",
       "            canvas.addEventListener(\"click\", display_coordinates);\n",
       "\n",
       "            var module = {};\n",
       "            module.show_coordinates = function(axis_id, projection)\n",
       "            {\n",
       "                axes[axis_id] = projection;\n",
       "            }\n",
       "\n",
       "            return module;\n",
       "        })(modules[\"toyplot/canvas\"]);\n",
       "(function(axis, axis_id, projection)\n",
       "        {\n",
       "            axis.show_coordinates(axis_id, projection);\n",
       "        })(modules[\"toyplot.coordinates.Axis\"],\"tb7713454aaa4442ab930b778589901d7\",[{\"domain\": {\"bounds\": {\"max\": Infinity, \"min\": -Infinity}, \"max\": 1.0909090909090908, \"min\": -0.27481818181818196}, \"range\": {\"bounds\": {\"max\": Infinity, \"min\": -Infinity}, \"max\": 165.0, \"min\": 0.0}, \"scale\": \"linear\"}]);\n",
       "})();</script></div></div>"
      ]
     },
     "metadata": {},
     "output_type": "display_data"
    }
   ],
   "source": [
    "testtree = toytree.rtree.unittree(ntips = 12)\n",
    "testtree.draw(tree_style = 'p')"
   ]
  },
  {
   "cell_type": "code",
   "execution_count": 25,
   "id": "statewide-restriction",
   "metadata": {},
   "outputs": [],
   "source": [
    "testdata = [0,0,1,1,0,1,0,1,0,1,1,0]"
   ]
  },
  {
   "cell_type": "code",
   "execution_count": 47,
   "id": "educational-great",
   "metadata": {},
   "outputs": [
    {
     "data": {
      "text/plain": [
       "array(['', '', '', '', '', '', '', '', '', '', '', '', '', '', '', '', '',\n",
       "       '', '', '', 3, 2, {1: 0, 2: 3}], dtype=object)"
      ]
     },
     "execution_count": 47,
     "metadata": {},
     "output_type": "execute_result"
    }
   ],
   "source": [
    "testtree = testtree.set_node_values('num', values = {0:{1:0, 2:3}, 1:2, 2:3})\n",
    "testtree.get_node_values('num', True, True)"
   ]
  }
 ],
 "metadata": {
  "kernelspec": {
   "display_name": "Python 3",
   "language": "python",
   "name": "python3"
  },
  "language_info": {
   "codemirror_mode": {
    "name": "ipython",
    "version": 3
   },
   "file_extension": ".py",
   "mimetype": "text/x-python",
   "name": "python",
   "nbconvert_exporter": "python",
   "pygments_lexer": "ipython3",
   "version": "3.8.5"
  }
 },
 "nbformat": 4,
 "nbformat_minor": 5
}
