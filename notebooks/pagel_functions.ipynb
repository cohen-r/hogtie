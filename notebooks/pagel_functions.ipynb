{
 "cells": [
  {
   "cell_type": "code",
   "execution_count": 1,
   "id": "sixth-concrete",
   "metadata": {},
   "outputs": [],
   "source": [
    "import numpy as np\n",
    "import pandas as pd\n",
    "import toytree\n",
    "from scipy.optimize import minimize\n",
    "from scipy.linalg import expm"
   ]
  },
  {
   "cell_type": "code",
   "execution_count": 2,
   "id": "urban-oxide",
   "metadata": {},
   "outputs": [
    {
     "data": {
      "text/plain": [
       "(<toyplot.canvas.Canvas at 0x7fcb0724ad00>,\n",
       " <toyplot.coordinates.Cartesian at 0x7fcb0724ad60>,\n",
       " <toytree.Render.ToytreeMark at 0x7fcb0724a2e0>)"
      ]
     },
     "execution_count": 2,
     "metadata": {},
     "output_type": "execute_result"
    },
    {
     "data": {
      "text/html": [
       "<div class=\"toyplot\" id=\"t2c3013efc44b4fa6be38de7357e7ee70\" style=\"text-align:center\"><svg class=\"toyplot-canvas-Canvas\" xmlns:toyplot=\"http://www.sandia.gov/toyplot\" xmlns:xlink=\"http://www.w3.org/1999/xlink\" xmlns=\"http://www.w3.org/2000/svg\" width=\"350.0px\" height=\"265.0px\" viewBox=\"0 0 350.0 265.0\" preserveAspectRatio=\"xMidYMid meet\" style=\"background-color:transparent;border-color:#292724;border-style:none;border-width:1.0;fill:rgb(16.1%,15.3%,14.1%);fill-opacity:1.0;font-family:Helvetica;font-size:12px;opacity:1.0;stroke:rgb(16.1%,15.3%,14.1%);stroke-opacity:1.0;stroke-width:1.0\" id=\"t56efbd934edb4a0193c86bdcbad49bab\"><g class=\"toyplot-coordinates-Cartesian\" id=\"t2d0469e7e15e4d079817d163cbf2a620\"><clipPath id=\"taace023baecc4277aa1ebf98a1744f2c\"><rect x=\"30.0\" y=\"30.0\" width=\"290.0\" height=\"205.0\"></rect></clipPath><g clip-path=\"url(#taace023baecc4277aa1ebf98a1744f2c)\"><g class=\"toytree-mark-Toytree\" id=\"ta23a3a8b801448368bb43c1dc39e989e\"><g class=\"toytree-Edges\" style=\"fill:none;stroke:rgb(14.9%,14.9%,14.9%);stroke-linecap:round;stroke-opacity:1;stroke-width:2\"><path d=\"M 207.0 61.0 L 256.2 81.1\" id=\"22,21\"></path><path d=\"M 207.0 61.0 L 157.9 81.1\" id=\"22,20\"></path><path d=\"M 256.2 81.1 L 276.5 101.3\" id=\"21,19\"></path><path d=\"M 256.2 81.1 L 235.9 101.3\" id=\"21,18\"></path><path d=\"M 157.9 81.1 L 190.2 101.3\" id=\"20,17\"></path><path d=\"M 157.9 81.1 L 125.5 101.3\" id=\"20,16\"></path><path d=\"M 190.2 101.3 L 175.0 121.4\" id=\"17,15\"></path><path d=\"M 125.5 101.3 L 106.5 121.4\" id=\"16,14\"></path><path d=\"M 106.5 121.4 L 88.8 141.5\" id=\"14,13\"></path><path d=\"M 88.8 141.5 L 73.5 161.7\" id=\"13,12\"></path><path d=\"M 276.5 101.3 L 286.6 181.8\" id=\"19,11\"></path><path d=\"M 276.5 101.3 L 266.3 181.8\" id=\"19,10\"></path><path d=\"M 235.9 101.3 L 246.0 181.8\" id=\"18,9\"></path><path d=\"M 235.9 101.3 L 225.7 181.8\" id=\"18,8\"></path><path d=\"M 190.2 101.3 L 205.4 181.8\" id=\"17,7\"></path><path d=\"M 175.0 121.4 L 185.1 181.8\" id=\"15,6\"></path><path d=\"M 175.0 121.4 L 164.9 181.8\" id=\"15,5\"></path><path d=\"M 125.5 101.3 L 144.6 181.8\" id=\"16,4\"></path><path d=\"M 106.5 121.4 L 124.3 181.8\" id=\"14,3\"></path><path d=\"M 88.8 141.5 L 104.0 181.8\" id=\"13,2\"></path><path d=\"M 73.5 161.7 L 83.7 181.8\" id=\"12,1\"></path><path d=\"M 73.5 161.7 L 63.4 181.8\" id=\"12,0\"></path></g><g class=\"toytree-Nodes\" style=\"fill:rgb(40%,76.1%,64.7%);fill-opacity:1.0;stroke:rgb(14.9%,14.9%,14.9%);stroke-opacity:1.0;stroke-width:1\"><g id=\"node-0\" transform=\"translate(63.393,181.798)\"><circle r=\"7.5\"></circle></g><g id=\"node-1\" transform=\"translate(83.685,181.798)\"><circle r=\"7.5\"></circle></g><g id=\"node-2\" transform=\"translate(103.977,181.798)\"><circle r=\"7.5\"></circle></g><g id=\"node-3\" transform=\"translate(124.269,181.798)\"><circle r=\"7.5\"></circle></g><g id=\"node-4\" transform=\"translate(144.562,181.798)\"><circle r=\"7.5\"></circle></g><g id=\"node-5\" transform=\"translate(164.854,181.798)\"><circle r=\"7.5\"></circle></g><g id=\"node-6\" transform=\"translate(185.146,181.798)\"><circle r=\"7.5\"></circle></g><g id=\"node-7\" transform=\"translate(205.438,181.798)\"><circle r=\"7.5\"></circle></g><g id=\"node-8\" transform=\"translate(225.731,181.798)\"><circle r=\"7.5\"></circle></g><g id=\"node-9\" transform=\"translate(246.023,181.798)\"><circle r=\"7.5\"></circle></g><g id=\"node-10\" transform=\"translate(266.315,181.798)\"><circle r=\"7.5\"></circle></g><g id=\"node-11\" transform=\"translate(286.607,181.798)\"><circle r=\"7.5\"></circle></g><g id=\"node-12\" transform=\"translate(73.539,161.662)\"><circle r=\"7.5\"></circle></g><g id=\"node-13\" transform=\"translate(88.758,141.526)\"><circle r=\"7.5\"></circle></g><g id=\"node-14\" transform=\"translate(106.514,121.391)\"><circle r=\"7.5\"></circle></g><g id=\"node-15\" transform=\"translate(175.000,121.391)\"><circle r=\"7.5\"></circle></g><g id=\"node-16\" transform=\"translate(125.538,101.255)\"><circle r=\"7.5\"></circle></g><g id=\"node-17\" transform=\"translate(190.219,101.255)\"><circle r=\"7.5\"></circle></g><g id=\"node-18\" transform=\"translate(235.877,101.255)\"><circle r=\"7.5\"></circle></g><g id=\"node-19\" transform=\"translate(276.461,101.255)\"><circle r=\"7.5\"></circle></g><g id=\"node-20\" transform=\"translate(157.878,81.119)\"><circle r=\"7.5\"></circle></g><g id=\"node-21\" transform=\"translate(256.169,81.119)\"><circle r=\"7.5\"></circle></g><g id=\"node-22\" transform=\"translate(207.024,60.983)\"><circle r=\"7.5\"></circle></g></g><g class=\"toytree-NodeLabels\" style=\"fill:rgb(14.9%,14.9%,14.9%);fill-opacity:1.0;font-size:9px;stroke:none\"><g transform=\"translate(60.89,184.10)\"><text>0</text></g><g transform=\"translate(81.18,184.10)\"><text>1</text></g><g transform=\"translate(101.48,184.10)\"><text>2</text></g><g transform=\"translate(121.77,184.10)\"><text>3</text></g><g transform=\"translate(142.06,184.10)\"><text>4</text></g><g transform=\"translate(162.35,184.10)\"><text>5</text></g><g transform=\"translate(182.64,184.10)\"><text>6</text></g><g transform=\"translate(202.94,184.10)\"><text>7</text></g><g transform=\"translate(223.23,184.10)\"><text>8</text></g><g transform=\"translate(243.52,184.10)\"><text>9</text></g><g transform=\"translate(261.31,184.10)\"><text>10</text></g><g transform=\"translate(281.60,184.10)\"><text>11</text></g><g transform=\"translate(68.53,163.96)\"><text>12</text></g><g transform=\"translate(83.75,143.83)\"><text>13</text></g><g transform=\"translate(101.51,123.69)\"><text>14</text></g><g transform=\"translate(170.00,123.69)\"><text>15</text></g><g transform=\"translate(120.53,103.55)\"><text>16</text></g><g transform=\"translate(185.22,103.55)\"><text>17</text></g><g transform=\"translate(230.87,103.55)\"><text>18</text></g><g transform=\"translate(271.46,103.55)\"><text>19</text></g><g transform=\"translate(152.87,83.42)\"><text>20</text></g><g transform=\"translate(251.16,83.42)\"><text>21</text></g><g transform=\"translate(202.02,63.28)\"><text>22</text></g></g><g class=\"toytree-TipLabels\" style=\"fill:rgb(14.9%,14.9%,14.9%);fill-opacity:1.0;font-family:helvetica;font-size:11px;font-weight:normal;stroke:none;white-space:pre\"><g transform=\"translate(63.39,181.80)rotate(-90)\"><text x=\"-24.78\" y=\"2.81\" style=\"\">r0</text></g><g transform=\"translate(83.69,181.80)rotate(-90)\"><text x=\"-24.78\" y=\"2.81\" style=\"\">r1</text></g><g transform=\"translate(103.98,181.80)rotate(-90)\"><text x=\"-24.78\" y=\"2.81\" style=\"\">r2</text></g><g transform=\"translate(124.27,181.80)rotate(-90)\"><text x=\"-24.78\" y=\"2.81\" style=\"\">r3</text></g><g transform=\"translate(144.56,181.80)rotate(-90)\"><text x=\"-24.78\" y=\"2.81\" style=\"\">r4</text></g><g transform=\"translate(164.85,181.80)rotate(-90)\"><text x=\"-24.78\" y=\"2.81\" style=\"\">r5</text></g><g transform=\"translate(185.15,181.80)rotate(-90)\"><text x=\"-24.78\" y=\"2.81\" style=\"\">r6</text></g><g transform=\"translate(205.44,181.80)rotate(-90)\"><text x=\"-24.78\" y=\"2.81\" style=\"\">r7</text></g><g transform=\"translate(225.73,181.80)rotate(-90)\"><text x=\"-24.78\" y=\"2.81\" style=\"\">r8</text></g><g transform=\"translate(246.02,181.80)rotate(-90)\"><text x=\"-24.78\" y=\"2.81\" style=\"\">r9</text></g><g transform=\"translate(266.31,181.80)rotate(-90)\"><text x=\"-30.90\" y=\"2.81\" style=\"\">r10</text></g><g transform=\"translate(286.61,181.80)rotate(-90)\"><text x=\"-30.90\" y=\"2.81\" style=\"\">r11</text></g></g></g></g><g class=\"toyplot-coordinates-Axis\" id=\"t3462bb55721a4ba4904c4353f1e80e68\" transform=\"translate(50.0,215.0)rotate(-90.0)translate(0,-20.0)\"><line x1=\"33.2020901284697\" y1=\"0\" x2=\"154.01684084403917\" y2=\"0\" style=\"\"></line><g><line x1=\"33.2020901284697\" y1=\"0\" x2=\"33.2020901284697\" y2=\"5\" style=\"\"></line><line x1=\"93.60946548625444\" y1=\"0\" x2=\"93.60946548625444\" y2=\"5\" style=\"\"></line><line x1=\"154.01684084403917\" y1=\"0\" x2=\"154.01684084403917\" y2=\"5\" style=\"\"></line></g><g><g transform=\"translate(33.2020901284697,-6)\"><text x=\"-6.95\" y=\"-4.440892098500626e-16\" style=\"fill:rgb(16.1%,15.3%,14.1%);fill-opacity:1.0;font-family:helvetica;font-size:10.0px;font-weight:normal;stroke:none;vertical-align:baseline;white-space:pre\">0.0</text></g><g transform=\"translate(93.60946548625444,-6)\"><text x=\"-6.95\" y=\"-4.440892098500626e-16\" style=\"fill:rgb(16.1%,15.3%,14.1%);fill-opacity:1.0;font-family:helvetica;font-size:10.0px;font-weight:normal;stroke:none;vertical-align:baseline;white-space:pre\">0.5</text></g><g transform=\"translate(154.01684084403917,-6)\"><text x=\"-6.95\" y=\"-4.440892098500626e-16\" style=\"fill:rgb(16.1%,15.3%,14.1%);fill-opacity:1.0;font-family:helvetica;font-size:10.0px;font-weight:normal;stroke:none;vertical-align:baseline;white-space:pre\">1.0</text></g></g><g class=\"toyplot-coordinates-Axis-coordinates\" style=\"visibility:hidden\" transform=\"\"><line x1=\"0\" x2=\"0\" y1=\"3.0\" y2=\"-4.5\" style=\"stroke:rgb(43.9%,50.2%,56.5%);stroke-opacity:1.0;stroke-width:1.0\"></line><text x=\"0\" y=\"6\" style=\"alignment-baseline:hanging;fill:rgb(43.9%,50.2%,56.5%);fill-opacity:1.0;font-size:10px;font-weight:normal;stroke:none;text-anchor:middle\"></text></g></g></g></svg><div class=\"toyplot-behavior\"><script>(function()\n",
       "{\n",
       "var modules={};\n",
       "modules[\"toyplot/canvas/id\"] = \"t56efbd934edb4a0193c86bdcbad49bab\";\n",
       "modules[\"toyplot/canvas\"] = (function(canvas_id)\n",
       "    {\n",
       "        return document.querySelector(\"#\" + canvas_id);\n",
       "    })(modules[\"toyplot/canvas/id\"]);\n",
       "modules[\"toyplot.coordinates.Axis\"] = (\n",
       "        function(canvas)\n",
       "        {\n",
       "            function sign(x)\n",
       "            {\n",
       "                return x < 0 ? -1 : x > 0 ? 1 : 0;\n",
       "            }\n",
       "\n",
       "            function mix(a, b, amount)\n",
       "            {\n",
       "                return ((1.0 - amount) * a) + (amount * b);\n",
       "            }\n",
       "\n",
       "            function log(x, base)\n",
       "            {\n",
       "                return Math.log(Math.abs(x)) / Math.log(base);\n",
       "            }\n",
       "\n",
       "            function in_range(a, x, b)\n",
       "            {\n",
       "                var left = Math.min(a, b);\n",
       "                var right = Math.max(a, b);\n",
       "                return left <= x && x <= right;\n",
       "            }\n",
       "\n",
       "            function inside(range, projection)\n",
       "            {\n",
       "                for(var i = 0; i != projection.length; ++i)\n",
       "                {\n",
       "                    var segment = projection[i];\n",
       "                    if(in_range(segment.range.min, range, segment.range.max))\n",
       "                        return true;\n",
       "                }\n",
       "                return false;\n",
       "            }\n",
       "\n",
       "            function to_domain(range, projection)\n",
       "            {\n",
       "                for(var i = 0; i != projection.length; ++i)\n",
       "                {\n",
       "                    var segment = projection[i];\n",
       "                    if(in_range(segment.range.bounds.min, range, segment.range.bounds.max))\n",
       "                    {\n",
       "                        if(segment.scale == \"linear\")\n",
       "                        {\n",
       "                            var amount = (range - segment.range.min) / (segment.range.max - segment.range.min);\n",
       "                            return mix(segment.domain.min, segment.domain.max, amount)\n",
       "                        }\n",
       "                        else if(segment.scale[0] == \"log\")\n",
       "                        {\n",
       "                            var amount = (range - segment.range.min) / (segment.range.max - segment.range.min);\n",
       "                            var base = segment.scale[1];\n",
       "                            return sign(segment.domain.min) * Math.pow(base, mix(log(segment.domain.min, base), log(segment.domain.max, base), amount));\n",
       "                        }\n",
       "                    }\n",
       "                }\n",
       "            }\n",
       "\n",
       "            var axes = {};\n",
       "\n",
       "            function display_coordinates(e)\n",
       "            {\n",
       "                var current = canvas.createSVGPoint();\n",
       "                current.x = e.clientX;\n",
       "                current.y = e.clientY;\n",
       "\n",
       "                for(var axis_id in axes)\n",
       "                {\n",
       "                    var axis = document.querySelector(\"#\" + axis_id);\n",
       "                    var coordinates = axis.querySelector(\".toyplot-coordinates-Axis-coordinates\");\n",
       "                    if(coordinates)\n",
       "                    {\n",
       "                        var projection = axes[axis_id];\n",
       "                        var local = current.matrixTransform(axis.getScreenCTM().inverse());\n",
       "                        if(inside(local.x, projection))\n",
       "                        {\n",
       "                            var domain = to_domain(local.x, projection);\n",
       "                            coordinates.style.visibility = \"visible\";\n",
       "                            coordinates.setAttribute(\"transform\", \"translate(\" + local.x + \")\");\n",
       "                            var text = coordinates.querySelector(\"text\");\n",
       "                            text.textContent = domain.toFixed(2);\n",
       "                        }\n",
       "                        else\n",
       "                        {\n",
       "                            coordinates.style.visibility= \"hidden\";\n",
       "                        }\n",
       "                    }\n",
       "                }\n",
       "            }\n",
       "\n",
       "            canvas.addEventListener(\"click\", display_coordinates);\n",
       "\n",
       "            var module = {};\n",
       "            module.show_coordinates = function(axis_id, projection)\n",
       "            {\n",
       "                axes[axis_id] = projection;\n",
       "            }\n",
       "\n",
       "            return module;\n",
       "        })(modules[\"toyplot/canvas\"]);\n",
       "(function(axis, axis_id, projection)\n",
       "        {\n",
       "            axis.show_coordinates(axis_id, projection);\n",
       "        })(modules[\"toyplot.coordinates.Axis\"],\"t3462bb55721a4ba4904c4353f1e80e68\",[{\"domain\": {\"bounds\": {\"max\": Infinity, \"min\": -Infinity}, \"max\": 1.0909090909090906, \"min\": -0.2748181818181819}, \"range\": {\"bounds\": {\"max\": Infinity, \"min\": -Infinity}, \"max\": 165.0, \"min\": 0.0}, \"scale\": \"linear\"}]);\n",
       "})();</script></div></div>"
      ]
     },
     "metadata": {},
     "output_type": "display_data"
    }
   ],
   "source": [
    "testdata = [0,0,1,1,0,1,0,1,0,1,1,0]\n",
    "testtree = toytree.rtree.unittree(ntips = 12)\n",
    "testtree.draw(tree_style = 'p')"
   ]
  },
  {
   "cell_type": "code",
   "execution_count": 3,
   "id": "organized-switzerland",
   "metadata": {},
   "outputs": [],
   "source": [
    "def data_to_dict(data):\n",
    "    \"\"\"\n",
    "    Parses data into format that can be used by the cond_like and\n",
    "    pruningalg functions\n",
    "    \"\"\"\n",
    "    values = [{0:-(i-1),1:i} for i in data]\n",
    "    keys = list(range(0, len(data), 1))\n",
    "    valuesdict = dict(zip(keys,values))\n",
    "    return valuesdict"
   ]
  },
  {
   "cell_type": "code",
   "execution_count": 4,
   "id": "composed-vancouver",
   "metadata": {},
   "outputs": [
    {
     "data": {
      "text/plain": [
       "array(['', '', '', '', '', '', '', '', '', '', '', {0: 1, 1: 0},\n",
       "       {0: 0, 1: 1}, {0: 0, 1: 1}, {0: 1, 1: 0}, {0: 0, 1: 1},\n",
       "       {0: 1, 1: 0}, {0: 0, 1: 1}, {0: 1, 1: 0}, {0: 0, 1: 1},\n",
       "       {0: 0, 1: 1}, {0: 1, 1: 0}, {0: 1, 1: 0}], dtype=object)"
      ]
     },
     "execution_count": 4,
     "metadata": {},
     "output_type": "execute_result"
    }
   ],
   "source": [
    "check = data_to_dict(data = testdata)\n",
    "check\n",
    "\n",
    "testtree = testtree.set_node_values('test', values = check)\n",
    "testtree.get_node_values('test',True,True)"
   ]
  },
  {
   "cell_type": "code",
   "execution_count": 58,
   "id": "danish-cream",
   "metadata": {},
   "outputs": [],
   "source": [
    "def assign_tip_like_values(tree, data):\n",
    "    \"\"\"\n",
    "    Assigns likelihood values to tree tips\n",
    "    \"\"\"\n",
    "    values = [{0:-(i-1),1:i} for i in data]\n",
    "    keys = list(range(0, len(data), 1))\n",
    "    valuesdict = dict(zip(keys,values))\n",
    "    tree = tree.set_node_values(feature = \"likelihood\", values = valuesdict)\n",
    "    return tree"
   ]
  },
  {
   "cell_type": "code",
   "execution_count": 6,
   "id": "renewable-spirituality",
   "metadata": {},
   "outputs": [
    {
     "data": {
      "text/plain": [
       "array(['', '', '', '', '', '', '', '', '', '', '', {0: 1, 1: 0},\n",
       "       {0: 0, 1: 1}, {0: 0, 1: 1}, {0: 1, 1: 0}, {0: 0, 1: 1},\n",
       "       {0: 1, 1: 0}, {0: 0, 1: 1}, {0: 1, 1: 0}, {0: 0, 1: 1},\n",
       "       {0: 0, 1: 1}, {0: 1, 1: 0}, {0: 1, 1: 0}], dtype=object)"
      ]
     },
     "execution_count": 6,
     "metadata": {},
     "output_type": "execute_result"
    }
   ],
   "source": [
    "mytree = assign_tip_like_values(tree = testtree, data=testdata)\n",
    "mytree.get_node_values('likelihood',True,True)"
   ]
  },
  {
   "cell_type": "code",
   "execution_count": 67,
   "id": "aquatic-queens",
   "metadata": {},
   "outputs": [],
   "source": [
    "def cond_like(likeleft0, likeleft1, likeright0, likeright1, tL, tR, alpha, beta):\n",
    "    \"\"\"\n",
    "    Calculates conditional likelihood of character states at each node\n",
    "    \"\"\"\n",
    "\n",
    "    Q = np.array([[-alpha, alpha], [beta, -beta]])\n",
    "    probleft = expm(Q*tL)\n",
    "    probright = expm(Q*tR)\n",
    " \n",
    "    #ancestor is 0\n",
    "    left0 = probleft[0, 0] * likeleft0 + probleft[0, 1] * likeleft1\n",
    "    right0 = probright[0, 0] * likeright0 + probright[0, 1] * likeright1\n",
    "    like_zero = left0*right0\n",
    " \n",
    "    #ancestor is 1\n",
    "    left1 = probleft[1, 0] * likeleft0 + probleft[1, 1] * likeleft1\n",
    "    right1 = probright[1, 0] * likeright0 + probright[1, 1] * likeright1\n",
    "    like_one = left1*right1\n",
    " \n",
    "    return {0: like_zero, 1: like_one}"
   ]
  },
  {
   "cell_type": "code",
   "execution_count": 103,
   "id": "advisory-subscriber",
   "metadata": {},
   "outputs": [],
   "source": [
    "def pruning_alg_before(tree, alpha, beta):\n",
    "    for node in tree.treenode.traverse(\"postorder\"):\n",
    "        if len(node.children) == 2:\n",
    "            child1 = node.children[0]\n",
    "            child2 = node.children[1]\n",
    "            likedict = cond_like(likeright0 = child1.likelihood[0],\n",
    "                                 likeright1 = child1.likelihood[1],\n",
    "                                 likeleft0 = child2.likelihood[0],\n",
    "                                 likeleft1 = child2.likelihood[1],\n",
    "                                 tR = child1.dist,\n",
    "                                 tL = child2.dist,\n",
    "                                 alpha = alpha,\n",
    "                                 beta = beta)\n",
    "            print(likedict)\n",
    "            node.likelihood = likedict"
   ]
  },
  {
   "cell_type": "code",
   "execution_count": 99,
   "id": "cardiovascular-retro",
   "metadata": {},
   "outputs": [
    {
     "data": {
      "text/plain": [
       "array(['', '', '', '', {0: 1, 1: 0}, {0: 1, 1: 0}, {0: 0, 1: 1},\n",
       "       {0: 0, 1: 1}, {0: 1, 1: 0}], dtype=object)"
      ]
     },
     "execution_count": 99,
     "metadata": {},
     "output_type": "execute_result"
    }
   ],
   "source": [
    "tre1 = toytree.rtree.unittree(ntips=5)\n",
    "data1 = [0,1,1,0,0]\n",
    "tre2 = assign_tip_like_values(tree=tre1, data=data1)\n",
    "tre2.get_node_values('likelihood',True,True)"
   ]
  },
  {
   "cell_type": "code",
   "execution_count": 105,
   "id": "indonesian-dispatch",
   "metadata": {},
   "outputs": [
    {
     "name": "stdout",
     "output_type": "stream",
     "text": [
      "{0: 0.24991613434302426, 1: 0.24991613434302432}\n",
      "{0: 0.12491614840992109, 1: 0.12499998593310307}\n",
      "{0: 0.06247903358339737, 1: 0.06247903358339738}\n",
      "{0: 0.03123952030724314, 1: 0.03123951327615419}\n"
     ]
    },
    {
     "data": {
      "text/plain": [
       "array([{0: 0.03123952030724314, 1: 0.03123951327615419},\n",
       "       {0: 0.06247903358339737, 1: 0.06247903358339738},\n",
       "       {0: 0.12491614840992109, 1: 0.12499998593310307},\n",
       "       {0: 0.24991613434302426, 1: 0.24991613434302432}, {0: 1, 1: 0},\n",
       "       {0: 1, 1: 0}, {0: 0, 1: 1}, {0: 0, 1: 1}, {0: 1, 1: 0}],\n",
       "      dtype=object)"
      ]
     },
     "execution_count": 105,
     "metadata": {},
     "output_type": "execute_result"
    }
   ],
   "source": [
    "pruning_alg_before(tree=tre2,alpha=8.0,beta=8.0)\n",
    "tre2.get_node_values('likelihood',True,True)"
   ]
  },
  {
   "cell_type": "code",
   "execution_count": 10,
   "id": "prescription-prompt",
   "metadata": {},
   "outputs": [],
   "source": [
    "def node_like(x0, likeleft0, likeleft1, likeright0, likeright1, tL, tR, anca):\n",
    "    \n",
    "    condlik = cond_like(likeleft0, likeleft1, likeright0, likeright1, tL, tR, x0[0], x0[1])\n",
    "    \n",
    "    # get full likelihood\n",
    "    lik = (1 - anca) * condlik[0] + (anca) * condlik[1]\n",
    "    \n",
    "    # I don't understand this part\n",
    "    if anca in [0., 1.]:\n",
    "        lik /= 2\n",
    "    \n",
    "    return -lik #np.log(lik)"
   ]
  },
  {
   "cell_type": "code",
   "execution_count": 13,
   "id": "prostate-feeding",
   "metadata": {},
   "outputs": [],
   "source": [
    "def model_fit(likeleft0, likeleft1, likeright0, likeright1, tL, tR, anca):\n",
    "    \"\"\"\n",
    "    Find the maximum likelihood estimate of the two\n",
    "    rate model parameters at each node given the data.\n",
    "    \"\"\"\n",
    "    args = (likeleft0, likeleft1, likeright0, likeright1, tL, tR, anca)\n",
    "    \n",
    "    # ML estimate\n",
    "    estimate = minimize(\n",
    "        fun=node_like, \n",
    "        x0=np.array([1., 1.]),\n",
    "        args=args,\n",
    "        method='L-BFGS-B',\n",
    "        bounds=((0, 10), (0, 10))\n",
    "    )\n",
    "    \n",
    "    score = -1 * node_like(estimate.x, *args)\n",
    "    result = {\n",
    "        \"alpha\": round(estimate.x[0], 3),\n",
    "        \"beta\": round(estimate.x[1], 3), \n",
    "        \"lik\": round(score, 3),\n",
    "        \"convergence\": estimate.success,\n",
    "    }\n",
    "    return result"
   ]
  },
  {
   "cell_type": "code",
   "execution_count": 14,
   "id": "renewable-republic",
   "metadata": {},
   "outputs": [
    {
     "data": {
      "text/plain": [
       "{'alpha': 1.0, 'beta': 1.0, 'lik': 0.25, 'convergence': True}"
      ]
     },
     "execution_count": 14,
     "metadata": {},
     "output_type": "execute_result"
    }
   ],
   "source": [
    "model_fit(0,1,1,0,5,5,0.5)"
   ]
  },
  {
   "cell_type": "code",
   "execution_count": 118,
   "id": "continued-grade",
   "metadata": {},
   "outputs": [],
   "source": [
    "def fit_model_at_nodes(tree, anca=0.5):\n",
    "    tree = tree.set_node_values('alpha')\n",
    "    tree = tree.set_node_values('beta')\n",
    "    for node in tree.treenode.traverse(\"postorder\"):\n",
    "        if len(node.children) == 2:\n",
    "            child1 = node.children[0]\n",
    "            child2 = node.children[1]\n",
    "            model = model_fit(likeright0 = child1.likelihood[0],\n",
    "                              likeright1 = child1.likelihood[1],\n",
    "                              likeleft0 = child2.likelihood[0],\n",
    "                              likeleft1 = child2.likelihood[1],\n",
    "                              tR = child1.dist,\n",
    "                              tL = child2.dist,\n",
    "                              anca = anca)\n",
    "            print(model)\n",
    "            node.alpha = model['alpha']\n",
    "            node.beta = model['beta']  \n",
    "    return tree"
   ]
  },
  {
   "cell_type": "code",
   "execution_count": 119,
   "id": "grateful-incentive",
   "metadata": {},
   "outputs": [
    {
     "name": "stdout",
     "output_type": "stream",
     "text": [
      "{'alpha': 9.977, 'beta': 10.0, 'lik': 0.25, 'convergence': True}\n",
      "{'alpha': 10.0, 'beta': 0.0, 'lik': 0.249, 'convergence': True}\n",
      "{'alpha': 0.0, 'beta': 10.0, 'lik': 0.125, 'convergence': True}\n",
      "{'alpha': 0.0, 'beta': 8.267, 'lik': 0.062, 'convergence': True}\n"
     ]
    },
    {
     "data": {
      "text/plain": [
       "array(['0.0', '0.0', '10.0', '9.977', '', '', '', '', ''], dtype='<U32')"
      ]
     },
     "execution_count": 119,
     "metadata": {},
     "output_type": "execute_result"
    }
   ],
   "source": [
    "tre3 = fit_model_at_nodes(tree=tre2, anca=0.6)\n",
    "tre3.get_node_values('alpha',True,True)"
   ]
  },
  {
   "cell_type": "code",
   "execution_count": 121,
   "id": "formed-cream",
   "metadata": {},
   "outputs": [],
   "source": [
    "def pruning_alg_after(tree):\n",
    "    \"\"\"\n",
    "    Runs Felsenstein's pruning algorithm on an input tree, given instantaneous transition\n",
    "    rates alpha and beta. Assigns likelihood scores for characters states at each node.\n",
    "    Specifically for binary state model. \n",
    "    \"\"\"\n",
    "    tree = fit_model_at_nodes(tree)\n",
    "    for node in tree.treenode.traverse(\"postorder\"):\n",
    "        if len(node.children) == 2:\n",
    "            child1 = node.children[0]\n",
    "            child2 = node.children[1]\n",
    "            likedict = cond_like(likeright0 = child1.likelihood[0],\n",
    "                                 likeright1 = child1.likelihood[1],\n",
    "                                 likeleft0 = child2.likelihood[0],\n",
    "                                 likeleft1 = child2.likelihood[1],\n",
    "                                 tR = child1.dist,\n",
    "                                 tL = child2.dist,\n",
    "                                 alpha = float(node.alpha),\n",
    "                                 beta = float(node.beta))\n",
    "            node.likelihood = likedict\n",
    "    return tree"
   ]
  },
  {
   "cell_type": "code",
   "execution_count": 122,
   "id": "average-bibliography",
   "metadata": {},
   "outputs": [
    {
     "name": "stdout",
     "output_type": "stream",
     "text": [
      "{'alpha': 10.0, 'beta': 10.0, 'lik': 0.25, 'convergence': True}\n",
      "{'alpha': 10.0, 'beta': 0.0, 'lik': 0.249, 'convergence': True}\n",
      "{'alpha': 0.0, 'beta': 10.0, 'lik': 0.125, 'convergence': True}\n",
      "{'alpha': 0.0, 'beta': 8.684, 'lik': 0.062, 'convergence': True}\n"
     ]
    },
    {
     "data": {
      "text/plain": [
       "array([{0: 0.2483042397433679, 1: 0.24826230615863087},\n",
       "       {0: 0.2483042397433679, 1: 0.24830509489225527},\n",
       "       {0: 0.2483042397433679, 1: 0.2499886500175592},\n",
       "       {0: 0.24998865001755924, 1: 0.2499886500175592}, {0: 1, 1: 0},\n",
       "       {0: 1, 1: 0}, {0: 0, 1: 1}, {0: 0, 1: 1}, {0: 1, 1: 0}],\n",
       "      dtype=object)"
      ]
     },
     "execution_count": 122,
     "metadata": {},
     "output_type": "execute_result"
    }
   ],
   "source": [
    "tre4 = pruning_alg_after(tree=tre3)\n",
    "tre4.get_node_values('likelihood',True,True)"
   ]
  },
  {
   "cell_type": "code",
   "execution_count": 123,
   "id": "loose-marking",
   "metadata": {},
   "outputs": [],
   "source": [
    "newtree = toytree.rtree.unittree(ntips = 5)\n",
    "newdata = [0,1,1,0,1]"
   ]
  },
  {
   "cell_type": "code",
   "execution_count": 129,
   "id": "stupid-proportion",
   "metadata": {},
   "outputs": [
    {
     "name": "stdout",
     "output_type": "stream",
     "text": [
      "{0: 0.20691515843991698, 1: 0.2029229574844161}\n",
      "{0: 0.22896919294242238, 1: 0.1914398763797467}\n",
      "{0: 0.14488324266621644, 1: 0.1441994633863237}\n",
      "{0: 0.02951533310630989, 1: 0.029445891375951643}\n",
      "{'alpha': 4.259, 'beta': 4.259, 'lik': 0.25, 'convergence': True}\n",
      "{'alpha': 8.166, 'beta': 8.163, 'lik': 0.25, 'convergence': True}\n",
      "{'alpha': 7.041, 'beta': 0.0, 'lik': 0.192, 'convergence': True}\n",
      "{'alpha': 0.0, 'beta': 8.499, 'lik': 0.03, 'convergence': True}\n"
     ]
    }
   ],
   "source": [
    "newtree = assign_tip_like_values(tree=newtree,data=newdata)\n",
    "pruning_alg_before(tree=newtree,alpha=5.0,beta=2.0)\n",
    "newtree = pruning_alg_after(tree=newtree)"
   ]
  },
  {
   "cell_type": "code",
   "execution_count": 2,
   "id": "international-apparel",
   "metadata": {},
   "outputs": [
    {
     "ename": "NameError",
     "evalue": "name 'newtree' is not defined",
     "output_type": "error",
     "traceback": [
      "\u001b[0;31m---------------------------------------------------------------------------\u001b[0m",
      "\u001b[0;31mNameError\u001b[0m                                 Traceback (most recent call last)",
      "\u001b[0;32m<ipython-input-2-ad5c0f465a18>\u001b[0m in \u001b[0;36m<module>\u001b[0;34m\u001b[0m\n\u001b[0;32m----> 1\u001b[0;31m \u001b[0mnewtree\u001b[0m\u001b[0;34m.\u001b[0m\u001b[0mget_node_values\u001b[0m\u001b[0;34m(\u001b[0m\u001b[0;34m'likelihood'\u001b[0m\u001b[0;34m,\u001b[0m\u001b[0;32mTrue\u001b[0m\u001b[0;34m,\u001b[0m\u001b[0;32mTrue\u001b[0m\u001b[0;34m)\u001b[0m\u001b[0;34m\u001b[0m\u001b[0;34m\u001b[0m\u001b[0m\n\u001b[0m",
      "\u001b[0;31mNameError\u001b[0m: name 'newtree' is not defined"
     ]
    }
   ],
   "source": [
    "newtree.get_node_values('likelihood',True,True)"
   ]
  },
  {
   "cell_type": "code",
   "execution_count": 4,
   "id": "trying-verse",
   "metadata": {},
   "outputs": [],
   "source": [
    "qmat = np.array([\n",
    "    [0.5, -0.5],\n",
    "    [-0.5, 0.5]\n",
    "])"
   ]
  },
  {
   "cell_type": "code",
   "execution_count": 5,
   "id": "hazardous-tamil",
   "metadata": {},
   "outputs": [
    {
     "data": {
      "text/plain": [
       "array([[ 4.19452805, -3.19452805],\n",
       "       [-3.19452805,  4.19452805]])"
      ]
     },
     "execution_count": 5,
     "metadata": {},
     "output_type": "execute_result"
    }
   ],
   "source": [
    "expm(qmat * 2)"
   ]
  },
  {
   "cell_type": "code",
   "execution_count": 6,
   "id": "informational-enforcement",
   "metadata": {},
   "outputs": [],
   "source": [
    "randomtree = toytree.rtree.unittree(ntips = 10)"
   ]
  },
  {
   "cell_type": "code",
   "execution_count": 8,
   "id": "stable-dialogue",
   "metadata": {},
   "outputs": [
    {
     "data": {
      "text/plain": [
       "0.2"
      ]
     },
     "execution_count": 8,
     "metadata": {},
     "output_type": "execute_result"
    }
   ],
   "source": [
    "randomtree.treenode.dist"
   ]
  },
  {
   "cell_type": "code",
   "execution_count": 11,
   "id": "physical-actress",
   "metadata": {},
   "outputs": [
    {
     "data": {
      "text/plain": [
       "array([[ 1.11070138, -0.11070138],\n",
       "       [-0.11070138,  1.11070138]])"
      ]
     },
     "execution_count": 11,
     "metadata": {},
     "output_type": "execute_result"
    }
   ],
   "source": [
    "expm(qmat*randomtree.treenode.dist)"
   ]
  },
  {
   "cell_type": "code",
   "execution_count": 12,
   "id": "directed-winter",
   "metadata": {},
   "outputs": [],
   "source": [
    "testdata = [0,1,1,1,0,1,1,0,1,1]"
   ]
  },
  {
   "cell_type": "code",
   "execution_count": 10,
   "id": "about-danish",
   "metadata": {},
   "outputs": [],
   "source": [
    "from hogtie import BinaryStateModel"
   ]
  },
  {
   "cell_type": "code",
   "execution_count": 14,
   "id": "monetary-vegetarian",
   "metadata": {},
   "outputs": [],
   "source": [
    "test = BinaryStateModel(randomtree, testdata, 'ER')"
   ]
  },
  {
   "cell_type": "code",
   "execution_count": 16,
   "id": "convenient-killer",
   "metadata": {},
   "outputs": [
    {
     "data": {
      "text/plain": [
       "array([[-1.,  1.],\n",
       "       [ 1., -1.]])"
      ]
     },
     "execution_count": 16,
     "metadata": {},
     "output_type": "execute_result"
    }
   ],
   "source": [
    "test.qmat"
   ]
  },
  {
   "cell_type": "code",
   "execution_count": 18,
   "id": "included-virus",
   "metadata": {},
   "outputs": [],
   "source": [
    "test.set_initial_likelihoods()"
   ]
  },
  {
   "cell_type": "code",
   "execution_count": 23,
   "id": "dominican-piano",
   "metadata": {},
   "outputs": [
    {
     "ename": "ValueError",
     "evalue": "expected a square matrix",
     "output_type": "error",
     "traceback": [
      "\u001b[0;31m---------------------------------------------------------------------------\u001b[0m",
      "\u001b[0;31mValueError\u001b[0m                                Traceback (most recent call last)",
      "\u001b[0;32m<ipython-input-23-31c685f7ef09>\u001b[0m in \u001b[0;36m<module>\u001b[0;34m\u001b[0m\n\u001b[0;32m----> 1\u001b[0;31m \u001b[0mtest\u001b[0m\u001b[0;34m.\u001b[0m\u001b[0moptimize\u001b[0m\u001b[0;34m(\u001b[0m\u001b[0;34m)\u001b[0m\u001b[0;34m\u001b[0m\u001b[0;34m\u001b[0m\u001b[0m\n\u001b[0m",
      "\u001b[0;32m~/hogtie/hogtie/hogtie/binary_state_model.py\u001b[0m in \u001b[0;36moptimize\u001b[0;34m(self)\u001b[0m\n\u001b[1;32m    198\u001b[0m \u001b[0;34m\u001b[0m\u001b[0m\n\u001b[1;32m    199\u001b[0m         \u001b[0;32melif\u001b[0m \u001b[0mself\u001b[0m\u001b[0;34m.\u001b[0m\u001b[0mmodel\u001b[0m \u001b[0;34m==\u001b[0m \u001b[0;34m'ER'\u001b[0m\u001b[0;34m:\u001b[0m\u001b[0;34m\u001b[0m\u001b[0;34m\u001b[0m\u001b[0m\n\u001b[0;32m--> 200\u001b[0;31m             estimate = minimize(\n\u001b[0m\u001b[1;32m    201\u001b[0m                 \u001b[0mfun\u001b[0m\u001b[0;34m=\u001b[0m\u001b[0moptim_func\u001b[0m\u001b[0;34m,\u001b[0m\u001b[0;34m\u001b[0m\u001b[0;34m\u001b[0m\u001b[0m\n\u001b[1;32m    202\u001b[0m                 \u001b[0mx0\u001b[0m\u001b[0;34m=\u001b[0m\u001b[0mnp\u001b[0m\u001b[0;34m.\u001b[0m\u001b[0marray\u001b[0m\u001b[0;34m(\u001b[0m\u001b[0;34m[\u001b[0m\u001b[0mself\u001b[0m\u001b[0;34m.\u001b[0m\u001b[0malpha\u001b[0m\u001b[0;34m,\u001b[0m \u001b[0mself\u001b[0m\u001b[0;34m.\u001b[0m\u001b[0malpha\u001b[0m\u001b[0;34m]\u001b[0m\u001b[0;34m)\u001b[0m\u001b[0;34m,\u001b[0m\u001b[0;34m\u001b[0m\u001b[0;34m\u001b[0m\u001b[0m\n",
      "\u001b[0;32m~/miniconda3/lib/python3.8/site-packages/scipy/optimize/_minimize.py\u001b[0m in \u001b[0;36mminimize\u001b[0;34m(fun, x0, args, method, jac, hess, hessp, bounds, constraints, tol, callback, options)\u001b[0m\n\u001b[1;32m    617\u001b[0m                                   **options)\n\u001b[1;32m    618\u001b[0m     \u001b[0;32melif\u001b[0m \u001b[0mmeth\u001b[0m \u001b[0;34m==\u001b[0m \u001b[0;34m'l-bfgs-b'\u001b[0m\u001b[0;34m:\u001b[0m\u001b[0;34m\u001b[0m\u001b[0;34m\u001b[0m\u001b[0m\n\u001b[0;32m--> 619\u001b[0;31m         return _minimize_lbfgsb(fun, x0, args, jac, bounds,\n\u001b[0m\u001b[1;32m    620\u001b[0m                                 callback=callback, **options)\n\u001b[1;32m    621\u001b[0m     \u001b[0;32melif\u001b[0m \u001b[0mmeth\u001b[0m \u001b[0;34m==\u001b[0m \u001b[0;34m'tnc'\u001b[0m\u001b[0;34m:\u001b[0m\u001b[0;34m\u001b[0m\u001b[0;34m\u001b[0m\u001b[0m\n",
      "\u001b[0;32m~/miniconda3/lib/python3.8/site-packages/scipy/optimize/lbfgsb.py\u001b[0m in \u001b[0;36m_minimize_lbfgsb\u001b[0;34m(fun, x0, args, jac, bounds, disp, maxcor, ftol, gtol, eps, maxfun, maxiter, iprint, callback, maxls, finite_diff_rel_step, **unknown_options)\u001b[0m\n\u001b[1;32m    304\u001b[0m             \u001b[0miprint\u001b[0m \u001b[0;34m=\u001b[0m \u001b[0mdisp\u001b[0m\u001b[0;34m\u001b[0m\u001b[0;34m\u001b[0m\u001b[0m\n\u001b[1;32m    305\u001b[0m \u001b[0;34m\u001b[0m\u001b[0m\n\u001b[0;32m--> 306\u001b[0;31m     sf = _prepare_scalar_function(fun, x0, jac=jac, args=args, epsilon=eps,\n\u001b[0m\u001b[1;32m    307\u001b[0m                                   \u001b[0mbounds\u001b[0m\u001b[0;34m=\u001b[0m\u001b[0mnew_bounds\u001b[0m\u001b[0;34m,\u001b[0m\u001b[0;34m\u001b[0m\u001b[0;34m\u001b[0m\u001b[0m\n\u001b[1;32m    308\u001b[0m                                   finite_diff_rel_step=finite_diff_rel_step)\n",
      "\u001b[0;32m~/miniconda3/lib/python3.8/site-packages/scipy/optimize/optimize.py\u001b[0m in \u001b[0;36m_prepare_scalar_function\u001b[0;34m(fun, x0, jac, args, bounds, epsilon, finite_diff_rel_step, hess)\u001b[0m\n\u001b[1;32m    259\u001b[0m     \u001b[0;31m# ScalarFunction caches. Reuse of fun(x) during grad\u001b[0m\u001b[0;34m\u001b[0m\u001b[0;34m\u001b[0m\u001b[0;34m\u001b[0m\u001b[0m\n\u001b[1;32m    260\u001b[0m     \u001b[0;31m# calculation reduces overall function evaluations.\u001b[0m\u001b[0;34m\u001b[0m\u001b[0;34m\u001b[0m\u001b[0;34m\u001b[0m\u001b[0m\n\u001b[0;32m--> 261\u001b[0;31m     sf = ScalarFunction(fun, x0, args, grad, hess,\n\u001b[0m\u001b[1;32m    262\u001b[0m                         finite_diff_rel_step, bounds, epsilon=epsilon)\n\u001b[1;32m    263\u001b[0m \u001b[0;34m\u001b[0m\u001b[0m\n",
      "\u001b[0;32m~/miniconda3/lib/python3.8/site-packages/scipy/optimize/_differentiable_functions.py\u001b[0m in \u001b[0;36m__init__\u001b[0;34m(self, fun, x0, args, grad, hess, finite_diff_rel_step, finite_diff_bounds, epsilon)\u001b[0m\n\u001b[1;32m    134\u001b[0m \u001b[0;34m\u001b[0m\u001b[0m\n\u001b[1;32m    135\u001b[0m         \u001b[0mself\u001b[0m\u001b[0;34m.\u001b[0m\u001b[0m_update_fun_impl\u001b[0m \u001b[0;34m=\u001b[0m \u001b[0mupdate_fun\u001b[0m\u001b[0;34m\u001b[0m\u001b[0;34m\u001b[0m\u001b[0m\n\u001b[0;32m--> 136\u001b[0;31m         \u001b[0mself\u001b[0m\u001b[0;34m.\u001b[0m\u001b[0m_update_fun\u001b[0m\u001b[0;34m(\u001b[0m\u001b[0;34m)\u001b[0m\u001b[0;34m\u001b[0m\u001b[0;34m\u001b[0m\u001b[0m\n\u001b[0m\u001b[1;32m    137\u001b[0m \u001b[0;34m\u001b[0m\u001b[0m\n\u001b[1;32m    138\u001b[0m         \u001b[0;31m# Gradient evaluation\u001b[0m\u001b[0;34m\u001b[0m\u001b[0;34m\u001b[0m\u001b[0;34m\u001b[0m\u001b[0m\n",
      "\u001b[0;32m~/miniconda3/lib/python3.8/site-packages/scipy/optimize/_differentiable_functions.py\u001b[0m in \u001b[0;36m_update_fun\u001b[0;34m(self)\u001b[0m\n\u001b[1;32m    224\u001b[0m     \u001b[0;32mdef\u001b[0m \u001b[0m_update_fun\u001b[0m\u001b[0;34m(\u001b[0m\u001b[0mself\u001b[0m\u001b[0;34m)\u001b[0m\u001b[0;34m:\u001b[0m\u001b[0;34m\u001b[0m\u001b[0;34m\u001b[0m\u001b[0m\n\u001b[1;32m    225\u001b[0m         \u001b[0;32mif\u001b[0m \u001b[0;32mnot\u001b[0m \u001b[0mself\u001b[0m\u001b[0;34m.\u001b[0m\u001b[0mf_updated\u001b[0m\u001b[0;34m:\u001b[0m\u001b[0;34m\u001b[0m\u001b[0;34m\u001b[0m\u001b[0m\n\u001b[0;32m--> 226\u001b[0;31m             \u001b[0mself\u001b[0m\u001b[0;34m.\u001b[0m\u001b[0m_update_fun_impl\u001b[0m\u001b[0;34m(\u001b[0m\u001b[0;34m)\u001b[0m\u001b[0;34m\u001b[0m\u001b[0;34m\u001b[0m\u001b[0m\n\u001b[0m\u001b[1;32m    227\u001b[0m             \u001b[0mself\u001b[0m\u001b[0;34m.\u001b[0m\u001b[0mf_updated\u001b[0m \u001b[0;34m=\u001b[0m \u001b[0;32mTrue\u001b[0m\u001b[0;34m\u001b[0m\u001b[0;34m\u001b[0m\u001b[0m\n\u001b[1;32m    228\u001b[0m \u001b[0;34m\u001b[0m\u001b[0m\n",
      "\u001b[0;32m~/miniconda3/lib/python3.8/site-packages/scipy/optimize/_differentiable_functions.py\u001b[0m in \u001b[0;36mupdate_fun\u001b[0;34m()\u001b[0m\n\u001b[1;32m    131\u001b[0m \u001b[0;34m\u001b[0m\u001b[0m\n\u001b[1;32m    132\u001b[0m         \u001b[0;32mdef\u001b[0m \u001b[0mupdate_fun\u001b[0m\u001b[0;34m(\u001b[0m\u001b[0;34m)\u001b[0m\u001b[0;34m:\u001b[0m\u001b[0;34m\u001b[0m\u001b[0;34m\u001b[0m\u001b[0m\n\u001b[0;32m--> 133\u001b[0;31m             \u001b[0mself\u001b[0m\u001b[0;34m.\u001b[0m\u001b[0mf\u001b[0m \u001b[0;34m=\u001b[0m \u001b[0mfun_wrapped\u001b[0m\u001b[0;34m(\u001b[0m\u001b[0mself\u001b[0m\u001b[0;34m.\u001b[0m\u001b[0mx\u001b[0m\u001b[0;34m)\u001b[0m\u001b[0;34m\u001b[0m\u001b[0;34m\u001b[0m\u001b[0m\n\u001b[0m\u001b[1;32m    134\u001b[0m \u001b[0;34m\u001b[0m\u001b[0m\n\u001b[1;32m    135\u001b[0m         \u001b[0mself\u001b[0m\u001b[0;34m.\u001b[0m\u001b[0m_update_fun_impl\u001b[0m \u001b[0;34m=\u001b[0m \u001b[0mupdate_fun\u001b[0m\u001b[0;34m\u001b[0m\u001b[0;34m\u001b[0m\u001b[0m\n",
      "\u001b[0;32m~/miniconda3/lib/python3.8/site-packages/scipy/optimize/_differentiable_functions.py\u001b[0m in \u001b[0;36mfun_wrapped\u001b[0;34m(x)\u001b[0m\n\u001b[1;32m    128\u001b[0m         \u001b[0;32mdef\u001b[0m \u001b[0mfun_wrapped\u001b[0m\u001b[0;34m(\u001b[0m\u001b[0mx\u001b[0m\u001b[0;34m)\u001b[0m\u001b[0;34m:\u001b[0m\u001b[0;34m\u001b[0m\u001b[0;34m\u001b[0m\u001b[0m\n\u001b[1;32m    129\u001b[0m             \u001b[0mself\u001b[0m\u001b[0;34m.\u001b[0m\u001b[0mnfev\u001b[0m \u001b[0;34m+=\u001b[0m \u001b[0;36m1\u001b[0m\u001b[0;34m\u001b[0m\u001b[0;34m\u001b[0m\u001b[0m\n\u001b[0;32m--> 130\u001b[0;31m             \u001b[0;32mreturn\u001b[0m \u001b[0mfun\u001b[0m\u001b[0;34m(\u001b[0m\u001b[0mx\u001b[0m\u001b[0;34m,\u001b[0m \u001b[0;34m*\u001b[0m\u001b[0margs\u001b[0m\u001b[0;34m)\u001b[0m\u001b[0;34m\u001b[0m\u001b[0;34m\u001b[0m\u001b[0m\n\u001b[0m\u001b[1;32m    131\u001b[0m \u001b[0;34m\u001b[0m\u001b[0m\n\u001b[1;32m    132\u001b[0m         \u001b[0;32mdef\u001b[0m \u001b[0mupdate_fun\u001b[0m\u001b[0;34m(\u001b[0m\u001b[0;34m)\u001b[0m\u001b[0;34m:\u001b[0m\u001b[0;34m\u001b[0m\u001b[0;34m\u001b[0m\u001b[0m\n",
      "\u001b[0;32m~/hogtie/hogtie/hogtie/binary_state_model.py\u001b[0m in \u001b[0;36moptim_func\u001b[0;34m(params, model)\u001b[0m\n\u001b[1;32m    261\u001b[0m     \u001b[0;32melse\u001b[0m\u001b[0;34m:\u001b[0m\u001b[0;34m\u001b[0m\u001b[0;34m\u001b[0m\u001b[0m\n\u001b[1;32m    262\u001b[0m        \u001b[0mmodel\u001b[0m\u001b[0;34m.\u001b[0m\u001b[0malpha\u001b[0m \u001b[0;34m=\u001b[0m \u001b[0mparams\u001b[0m\u001b[0;34m\u001b[0m\u001b[0;34m\u001b[0m\u001b[0m\n\u001b[0;32m--> 263\u001b[0;31m        \u001b[0mlik\u001b[0m \u001b[0;34m=\u001b[0m \u001b[0mmodel\u001b[0m\u001b[0;34m.\u001b[0m\u001b[0mpruning_algorithm\u001b[0m\u001b[0;34m(\u001b[0m\u001b[0;34m)\u001b[0m\u001b[0;34m\u001b[0m\u001b[0;34m\u001b[0m\u001b[0m\n\u001b[0m\u001b[1;32m    264\u001b[0m \u001b[0;34m\u001b[0m\u001b[0m\n\u001b[1;32m    265\u001b[0m     \u001b[0;32mreturn\u001b[0m \u001b[0;34m-\u001b[0m\u001b[0mlik\u001b[0m\u001b[0;34m\u001b[0m\u001b[0;34m\u001b[0m\u001b[0m\n",
      "\u001b[0;32m~/hogtie/hogtie/hogtie/binary_state_model.py\u001b[0m in \u001b[0;36mpruning_algorithm\u001b[0;34m(self)\u001b[0m\n\u001b[1;32m    154\u001b[0m         \u001b[0;32mfor\u001b[0m \u001b[0mnode\u001b[0m \u001b[0;32min\u001b[0m \u001b[0mself\u001b[0m\u001b[0;34m.\u001b[0m\u001b[0mtree\u001b[0m\u001b[0;34m.\u001b[0m\u001b[0mtreenode\u001b[0m\u001b[0;34m.\u001b[0m\u001b[0mtraverse\u001b[0m\u001b[0;34m(\u001b[0m\u001b[0;34m\"postorder\"\u001b[0m\u001b[0;34m)\u001b[0m\u001b[0;34m:\u001b[0m\u001b[0;34m\u001b[0m\u001b[0;34m\u001b[0m\u001b[0m\n\u001b[1;32m    155\u001b[0m             \u001b[0;32mif\u001b[0m \u001b[0;32mnot\u001b[0m \u001b[0mnode\u001b[0m\u001b[0;34m.\u001b[0m\u001b[0mis_leaf\u001b[0m\u001b[0;34m(\u001b[0m\u001b[0;34m)\u001b[0m\u001b[0;34m:\u001b[0m\u001b[0;34m\u001b[0m\u001b[0;34m\u001b[0m\u001b[0m\n\u001b[0;32m--> 156\u001b[0;31m                 \u001b[0mself\u001b[0m\u001b[0;34m.\u001b[0m\u001b[0mnode_conditional_likelihood\u001b[0m\u001b[0;34m(\u001b[0m\u001b[0mnode\u001b[0m\u001b[0;34m.\u001b[0m\u001b[0midx\u001b[0m\u001b[0;34m)\u001b[0m\u001b[0;34m\u001b[0m\u001b[0;34m\u001b[0m\u001b[0m\n\u001b[0m\u001b[1;32m    157\u001b[0m \u001b[0;34m\u001b[0m\u001b[0m\n\u001b[1;32m    158\u001b[0m         \u001b[0;31m# multiply root prior times the conditional likelihood at root\u001b[0m\u001b[0;34m\u001b[0m\u001b[0;34m\u001b[0m\u001b[0;34m\u001b[0m\u001b[0m\n",
      "\u001b[0;32m~/hogtie/hogtie/hogtie/binary_state_model.py\u001b[0m in \u001b[0;36mnode_conditional_likelihood\u001b[0;34m(self, nidx)\u001b[0m\n\u001b[1;32m    114\u001b[0m \u001b[0;34m\u001b[0m\u001b[0m\n\u001b[1;32m    115\u001b[0m         \u001b[0;31m# get transition probabilities over each branch length\u001b[0m\u001b[0;34m\u001b[0m\u001b[0;34m\u001b[0m\u001b[0;34m\u001b[0m\u001b[0m\n\u001b[0;32m--> 116\u001b[0;31m         \u001b[0mprob_child0\u001b[0m \u001b[0;34m=\u001b[0m \u001b[0mexpm\u001b[0m\u001b[0;34m(\u001b[0m\u001b[0mself\u001b[0m\u001b[0;34m.\u001b[0m\u001b[0mqmat\u001b[0m \u001b[0;34m*\u001b[0m \u001b[0mnode\u001b[0m\u001b[0;34m.\u001b[0m\u001b[0mchildren\u001b[0m\u001b[0;34m[\u001b[0m\u001b[0;36m0\u001b[0m\u001b[0;34m]\u001b[0m\u001b[0;34m.\u001b[0m\u001b[0mdist\u001b[0m\u001b[0;34m)\u001b[0m\u001b[0;34m\u001b[0m\u001b[0;34m\u001b[0m\u001b[0m\n\u001b[0m\u001b[1;32m    117\u001b[0m         \u001b[0mprob_child1\u001b[0m \u001b[0;34m=\u001b[0m \u001b[0mexpm\u001b[0m\u001b[0;34m(\u001b[0m\u001b[0mself\u001b[0m\u001b[0;34m.\u001b[0m\u001b[0mqmat\u001b[0m \u001b[0;34m*\u001b[0m \u001b[0mnode\u001b[0m\u001b[0;34m.\u001b[0m\u001b[0mchildren\u001b[0m\u001b[0;34m[\u001b[0m\u001b[0;36m1\u001b[0m\u001b[0;34m]\u001b[0m\u001b[0;34m.\u001b[0m\u001b[0mdist\u001b[0m\u001b[0;34m)\u001b[0m\u001b[0;34m\u001b[0m\u001b[0;34m\u001b[0m\u001b[0m\n\u001b[1;32m    118\u001b[0m \u001b[0;34m\u001b[0m\u001b[0m\n",
      "\u001b[0;32m~/miniconda3/lib/python3.8/site-packages/scipy/linalg/matfuncs.py\u001b[0m in \u001b[0;36mexpm\u001b[0;34m(A)\u001b[0m\n\u001b[1;32m    253\u001b[0m     \u001b[0;31m# Input checking and conversion is provided by sparse.linalg.expm().\u001b[0m\u001b[0;34m\u001b[0m\u001b[0;34m\u001b[0m\u001b[0;34m\u001b[0m\u001b[0m\n\u001b[1;32m    254\u001b[0m     \u001b[0;32mimport\u001b[0m \u001b[0mscipy\u001b[0m\u001b[0;34m.\u001b[0m\u001b[0msparse\u001b[0m\u001b[0;34m.\u001b[0m\u001b[0mlinalg\u001b[0m\u001b[0;34m\u001b[0m\u001b[0;34m\u001b[0m\u001b[0m\n\u001b[0;32m--> 255\u001b[0;31m     \u001b[0;32mreturn\u001b[0m \u001b[0mscipy\u001b[0m\u001b[0;34m.\u001b[0m\u001b[0msparse\u001b[0m\u001b[0;34m.\u001b[0m\u001b[0mlinalg\u001b[0m\u001b[0;34m.\u001b[0m\u001b[0mexpm\u001b[0m\u001b[0;34m(\u001b[0m\u001b[0mA\u001b[0m\u001b[0;34m)\u001b[0m\u001b[0;34m\u001b[0m\u001b[0;34m\u001b[0m\u001b[0m\n\u001b[0m\u001b[1;32m    256\u001b[0m \u001b[0;34m\u001b[0m\u001b[0m\n\u001b[1;32m    257\u001b[0m \u001b[0;34m\u001b[0m\u001b[0m\n",
      "\u001b[0;32m~/miniconda3/lib/python3.8/site-packages/scipy/sparse/linalg/matfuncs.py\u001b[0m in \u001b[0;36mexpm\u001b[0;34m(A)\u001b[0m\n\u001b[1;32m    589\u001b[0m             [  0.        ,   0.        ,  20.08553692]])\n\u001b[1;32m    590\u001b[0m     \"\"\"\n\u001b[0;32m--> 591\u001b[0;31m     \u001b[0;32mreturn\u001b[0m \u001b[0m_expm\u001b[0m\u001b[0;34m(\u001b[0m\u001b[0mA\u001b[0m\u001b[0;34m,\u001b[0m \u001b[0muse_exact_onenorm\u001b[0m\u001b[0;34m=\u001b[0m\u001b[0;34m'auto'\u001b[0m\u001b[0;34m)\u001b[0m\u001b[0;34m\u001b[0m\u001b[0;34m\u001b[0m\u001b[0m\n\u001b[0m\u001b[1;32m    592\u001b[0m \u001b[0;34m\u001b[0m\u001b[0m\n\u001b[1;32m    593\u001b[0m \u001b[0;34m\u001b[0m\u001b[0m\n",
      "\u001b[0;32m~/miniconda3/lib/python3.8/site-packages/scipy/sparse/linalg/matfuncs.py\u001b[0m in \u001b[0;36m_expm\u001b[0;34m(A, use_exact_onenorm)\u001b[0m\n\u001b[1;32m    600\u001b[0m         \u001b[0mA\u001b[0m \u001b[0;34m=\u001b[0m \u001b[0mnp\u001b[0m\u001b[0;34m.\u001b[0m\u001b[0masarray\u001b[0m\u001b[0;34m(\u001b[0m\u001b[0mA\u001b[0m\u001b[0;34m)\u001b[0m\u001b[0;34m\u001b[0m\u001b[0;34m\u001b[0m\u001b[0m\n\u001b[1;32m    601\u001b[0m     \u001b[0;32mif\u001b[0m \u001b[0mlen\u001b[0m\u001b[0;34m(\u001b[0m\u001b[0mA\u001b[0m\u001b[0;34m.\u001b[0m\u001b[0mshape\u001b[0m\u001b[0;34m)\u001b[0m \u001b[0;34m!=\u001b[0m \u001b[0;36m2\u001b[0m \u001b[0;32mor\u001b[0m \u001b[0mA\u001b[0m\u001b[0;34m.\u001b[0m\u001b[0mshape\u001b[0m\u001b[0;34m[\u001b[0m\u001b[0;36m0\u001b[0m\u001b[0;34m]\u001b[0m \u001b[0;34m!=\u001b[0m \u001b[0mA\u001b[0m\u001b[0;34m.\u001b[0m\u001b[0mshape\u001b[0m\u001b[0;34m[\u001b[0m\u001b[0;36m1\u001b[0m\u001b[0;34m]\u001b[0m\u001b[0;34m:\u001b[0m\u001b[0;34m\u001b[0m\u001b[0;34m\u001b[0m\u001b[0m\n\u001b[0;32m--> 602\u001b[0;31m         \u001b[0;32mraise\u001b[0m \u001b[0mValueError\u001b[0m\u001b[0;34m(\u001b[0m\u001b[0;34m'expected a square matrix'\u001b[0m\u001b[0;34m)\u001b[0m\u001b[0;34m\u001b[0m\u001b[0;34m\u001b[0m\u001b[0m\n\u001b[0m\u001b[1;32m    603\u001b[0m \u001b[0;34m\u001b[0m\u001b[0m\n\u001b[1;32m    604\u001b[0m     \u001b[0;31m# gracefully handle size-0 input,\u001b[0m\u001b[0;34m\u001b[0m\u001b[0;34m\u001b[0m\u001b[0;34m\u001b[0m\u001b[0m\n",
      "\u001b[0;31mValueError\u001b[0m: expected a square matrix"
     ]
    }
   ],
   "source": [
    "test.optimize()"
   ]
  },
  {
   "cell_type": "code",
   "execution_count": 25,
   "id": "unexpected-refrigerator",
   "metadata": {},
   "outputs": [
    {
     "data": {
      "text/plain": [
       "{9: 'r9',\n",
       " 8: 'r8',\n",
       " 7: 'r7',\n",
       " 6: 'r6',\n",
       " 5: 'r5',\n",
       " 4: 'r4',\n",
       " 3: 'r3',\n",
       " 2: 'r2',\n",
       " 1: 'r1',\n",
       " 0: 'r0'}"
      ]
     },
     "execution_count": 25,
     "metadata": {},
     "output_type": "execute_result"
    }
   ],
   "source": [
    "test.tree.get_node_dict()"
   ]
  },
  {
   "cell_type": "code",
   "execution_count": 26,
   "id": "otherwise-wagon",
   "metadata": {},
   "outputs": [
    {
     "data": {
      "text/plain": [
       "(<toyplot.canvas.Canvas at 0x7fbf942c3a00>,\n",
       " <toyplot.coordinates.Cartesian at 0x7fbf942c3be0>,\n",
       " <toytree.Render.ToytreeMark at 0x7fbf94297880>)"
      ]
     },
     "execution_count": 26,
     "metadata": {},
     "output_type": "execute_result"
    },
    {
     "data": {
      "text/html": [
       "<div class=\"toyplot\" id=\"t4ab6f563f22c43468cb9cc14172396b3\" style=\"text-align:center\"><svg class=\"toyplot-canvas-Canvas\" xmlns:toyplot=\"http://www.sandia.gov/toyplot\" xmlns:xlink=\"http://www.w3.org/1999/xlink\" xmlns=\"http://www.w3.org/2000/svg\" width=\"260.0px\" height=\"275.0px\" viewBox=\"0 0 260.0 275.0\" preserveAspectRatio=\"xMidYMid meet\" style=\"background-color:transparent;border-color:#292724;border-style:none;border-width:1.0;fill:rgb(16.1%,15.3%,14.1%);fill-opacity:1.0;font-family:Helvetica;font-size:12px;opacity:1.0;stroke:rgb(16.1%,15.3%,14.1%);stroke-opacity:1.0;stroke-width:1.0\" id=\"tc0d2e61882524e2d8839695e6075f501\"><g class=\"toyplot-coordinates-Cartesian\" id=\"tb3f02b19c6d047399c24f8d990441298\"><clipPath id=\"t1e75d3cd76884ec28c80acdeb3eb3e9a\"><rect x=\"30.0\" y=\"30.0\" width=\"200.0\" height=\"215.0\"></rect></clipPath><g clip-path=\"url(#t1e75d3cd76884ec28c80acdeb3eb3e9a)\"><g class=\"toytree-mark-Toytree\" id=\"t7ad9d15fdd3a4dbb83dfb9cae48c59b1\"><g class=\"toytree-Edges\" style=\"fill:none;stroke:rgb(14.9%,14.9%,14.9%);stroke-linecap:round;stroke-opacity:1;stroke-width:2\"><path d=\"M 51.8 122.1 L 51.8 86.5 L 80.1 86.5\" id=\"18,17\"></path><path d=\"M 51.8 122.1 L 51.8 157.7 L 80.1 157.7\" id=\"18,16\"></path><path d=\"M 80.1 86.5 L 80.1 69.5 L 108.4 69.5\" id=\"17,15\"></path><path d=\"M 80.1 86.5 L 80.1 103.5 L 108.4 103.5\" id=\"17,14\"></path><path d=\"M 80.1 157.7 L 80.1 137.5 L 108.4 137.5\" id=\"16,13\"></path><path d=\"M 80.1 157.7 L 80.1 177.9 L 108.4 177.9\" id=\"16,12\"></path><path d=\"M 108.4 177.9 L 108.4 192.7 L 136.8 192.7\" id=\"12,11\"></path><path d=\"M 136.8 192.7 L 136.8 205.5 L 165.1 205.5\" id=\"11,10\"></path><path d=\"M 108.4 69.5 L 108.4 61.0 L 193.5 61.0\" id=\"15,9\"></path><path d=\"M 108.4 69.5 L 108.4 78.0 L 193.5 78.0\" id=\"15,8\"></path><path d=\"M 108.4 103.5 L 108.4 95.0 L 193.5 95.0\" id=\"14,7\"></path><path d=\"M 108.4 103.5 L 108.4 112.0 L 193.5 112.0\" id=\"14,6\"></path><path d=\"M 108.4 137.5 L 108.4 129.0 L 193.5 129.0\" id=\"13,5\"></path><path d=\"M 108.4 137.5 L 108.4 146.0 L 193.5 146.0\" id=\"13,4\"></path><path d=\"M 108.4 177.9 L 108.4 163.0 L 193.5 163.0\" id=\"12,3\"></path><path d=\"M 136.8 192.7 L 136.8 180.0 L 193.5 180.0\" id=\"11,2\"></path><path d=\"M 165.1 205.5 L 165.1 197.0 L 193.5 197.0\" id=\"10,1\"></path><path d=\"M 165.1 205.5 L 165.1 214.0 L 193.5 214.0\" id=\"10,0\"></path></g><g class=\"toytree-TipLabels\" style=\"fill:rgb(14.9%,14.9%,14.9%);fill-opacity:1.0;font-family:helvetica;font-size:11px;font-weight:normal;stroke:none;white-space:pre\"><g transform=\"translate(193.47,213.99)rotate(0)\"><text x=\"15.00\" y=\"2.81\" style=\"\">r0</text></g><g transform=\"translate(193.47,196.99)rotate(0)\"><text x=\"15.00\" y=\"2.81\" style=\"\">r1</text></g><g transform=\"translate(193.47,179.99)rotate(0)\"><text x=\"15.00\" y=\"2.81\" style=\"\">r2</text></g><g transform=\"translate(193.47,163.00)rotate(0)\"><text x=\"15.00\" y=\"2.81\" style=\"\">r3</text></g><g transform=\"translate(193.47,146.00)rotate(0)\"><text x=\"15.00\" y=\"2.81\" style=\"\">r4</text></g><g transform=\"translate(193.47,129.00)rotate(0)\"><text x=\"15.00\" y=\"2.81\" style=\"\">r5</text></g><g transform=\"translate(193.47,112.00)rotate(0)\"><text x=\"15.00\" y=\"2.81\" style=\"\">r6</text></g><g transform=\"translate(193.47,95.01)rotate(0)\"><text x=\"15.00\" y=\"2.81\" style=\"\">r7</text></g><g transform=\"translate(193.47,78.01)rotate(0)\"><text x=\"15.00\" y=\"2.81\" style=\"\">r8</text></g><g transform=\"translate(193.47,61.01)rotate(0)\"><text x=\"15.00\" y=\"2.81\" style=\"\">r9</text></g></g></g></g></g></svg><div class=\"toyplot-behavior\"><script>(function()\n",
       "{\n",
       "var modules={};\n",
       "})();</script></div></div>"
      ]
     },
     "metadata": {},
     "output_type": "display_data"
    }
   ],
   "source": [
    "randomtree.draw()"
   ]
  }
 ],
 "metadata": {
  "kernelspec": {
   "display_name": "Python 3",
   "language": "python",
   "name": "python3"
  },
  "language_info": {
   "codemirror_mode": {
    "name": "ipython",
    "version": 3
   },
   "file_extension": ".py",
   "mimetype": "text/x-python",
   "name": "python",
   "nbconvert_exporter": "python",
   "pygments_lexer": "ipython3",
   "version": "3.8.5"
  }
 },
 "nbformat": 4,
 "nbformat_minor": 5
}
